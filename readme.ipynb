{
 "cells": [
  {
   "cell_type": "markdown",
   "metadata": {},
   "source": [
    "# Crime in San Francisco\n",
    "## Does classifying non-violent crime as a misdemenor increase car break-ins?\n",
    "In 2014 California Proposition 47 classified many non-violent crimes as misdemenors. Did this increase the rate of car break ins realtive to violent crime? Did it also lower the resolution rate of car break ins relative to other crime? \n",
    "\n",
    "There is a possibility that people stopped reporting break-ins once they knew the police were unlikely to pursue. It's also possible that crime over all increased or decreased, so the important metric is ratio of car break ins to violent crime. \n",
    "\n",
    "\n",
    "## Does gentrification lower the rates of violent crime?\n",
    "Did violent crime in the Mission lower (relative to non-violent crime) from 2003 to 2017?\n",
    "\n",
    "\n",
    "Other cool things to look into: types of crime peaking during recession. Did crime across the board peak during recession?\n",
    "\n",
    "Are most crimes committed at night? Does location change when \n",
    "\n",
    "Can we create a \"worst case scenario\"? ie a day, date, time, neighborhood where crime will happen?\n"
   ]
  },
  {
   "cell_type": "code",
   "execution_count": null,
   "metadata": {
    "collapsed": true
   },
   "outputs": [],
   "source": []
  }
 ],
 "metadata": {
  "kernelspec": {
   "display_name": "Python 3",
   "language": "python",
   "name": "python3"
  },
  "language_info": {
   "codemirror_mode": {
    "name": "ipython",
    "version": 3
   },
   "file_extension": ".py",
   "mimetype": "text/x-python",
   "name": "python",
   "nbconvert_exporter": "python",
   "pygments_lexer": "ipython3",
   "version": "3.5.2"
  }
 },
 "nbformat": 4,
 "nbformat_minor": 0
}
