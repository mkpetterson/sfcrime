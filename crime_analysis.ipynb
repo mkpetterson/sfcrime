{
 "cells": [
  {
   "cell_type": "code",
   "execution_count": 6,
   "metadata": {
    "collapsed": false,
    "jupyter": {
     "outputs_hidden": false
    }
   },
   "outputs": [
    {
     "name": "stdout",
     "output_type": "stream",
     "text": [
      "The autoreload extension is already loaded. To reload it, use:\n",
      "  %reload_ext autoreload\n"
     ]
    }
   ],
   "source": [
    "%matplotlib inline\n",
    "%load_ext autoreload\n",
    "%autoreload 2\n",
    "\n",
    "import numpy as np\n",
    "import pandas as pd\n",
    "import math\n",
    "import matplotlib.pyplot as plt\n",
    "from src import helper\n",
    "\n",
    "plt.style.use('ggplot') # check out some other plot styles!"
   ]
  },
  {
   "cell_type": "markdown",
   "metadata": {},
   "source": [
    "## Initial look at our data"
   ]
  },
  {
   "cell_type": "code",
   "execution_count": 105,
   "metadata": {
    "collapsed": true,
    "jupyter": {
     "outputs_hidden": true
    }
   },
   "outputs": [
    {
     "data": {
      "text/plain": [
       "Index(['IncidntNum', 'Category', 'Descript', 'DayOfWeek', 'Date', 'Time',\n",
       "       'PdDistrict', 'Resolution', 'Address', 'X', 'Y', 'Location', 'PdId',\n",
       "       'SF Find Neighborhoods', 'Current Police Districts',\n",
       "       'Current Supervisor Districts', 'Analysis Neighborhoods',\n",
       "       'DELETE - Fire Prevention Districts', 'DELETE - Police Districts',\n",
       "       'DELETE - Supervisor Districts', 'DELETE - Zip Codes',\n",
       "       'DELETE - Neighborhoods', 'DELETE - 2017 Fix It Zones',\n",
       "       'Civic Center Harm Reduction Project Boundary',\n",
       "       'Fix It Zones as of 2017-11-06 ', 'DELETE - HSOC Zones',\n",
       "       'Fix It Zones as of 2018-02-07',\n",
       "       'CBD, BID and GBD Boundaries as of 2017',\n",
       "       'Areas of Vulnerability, 2016', 'Central Market/Tenderloin Boundary',\n",
       "       'Central Market/Tenderloin Boundary Polygon - Updated',\n",
       "       'HSOC Zones as of 2018-06-05', 'OWED Public Spaces'],\n",
       "      dtype='object')"
      ]
     },
     "execution_count": 105,
     "metadata": {},
     "output_type": "execute_result"
    }
   ],
   "source": [
    "crime = pd.read_csv('Police_Department_Incident_Reports__Historical_2003_to_May_2018.csv')\n",
    "crime.head(10)\n",
    "crime.columns"
   ]
  },
  {
   "cell_type": "code",
   "execution_count": 81,
   "metadata": {},
   "outputs": [
    {
     "data": {
      "text/plain": [
       "Descript\n",
       "GRAND THEFT FROM LOCKED AUTO             178836\n",
       "LOST PROPERTY                             77956\n",
       "BATTERY                                   67654\n",
       "STOLEN AUTOMOBILE                         64763\n",
       "DRIVERS LICENSE, SUSPENDED OR REVOKED     62534\n",
       "AIDED CASE, MENTAL DISTURBED              56313\n",
       "WARRANT ARREST                            56230\n",
       "SUSPICIOUS OCCURRENCE                     52490\n",
       "PETTY THEFT FROM LOCKED AUTO              51946\n",
       "PETTY THEFT OF PROPERTY                   46114\n",
       "Name: Category, dtype: int64"
      ]
     },
     "execution_count": 81,
     "metadata": {},
     "output_type": "execute_result"
    }
   ],
   "source": [
    "#Top 10 and bottom 10 police reports from 2003-2017\n",
    "crime.groupby('Descript').count().sort_values(by='Category', ascending=False)['Category'].head(10)"
   ]
  },
  {
   "cell_type": "code",
   "execution_count": 82,
   "metadata": {},
   "outputs": [
    {
     "data": {
      "text/plain": [
       "Descript\n",
       "FALSE REPRESENTATION TO SECONDHAND DEALER                 1\n",
       "REFUSAL TO IDENTIFY                                       1\n",
       "TRANSPORTATION OF OPIUM DERIVATIVE                        1\n",
       "TRANSPORTATION OF OPIUM                                   1\n",
       "PUBLIC UTILITY INFORMATION, FRAUDULENTLY OBTAINING        1\n",
       "EMBEZZLEMENT, PETTY THEFT BY COLLECTOR                    1\n",
       "VETERAN OR EX-SERVICEMAN, FALSE REPRESENTATION AS         1\n",
       "ENCOURAGE MINOR TO USE HALLUCINOGENIC                     1\n",
       "DISTURBANCE OF NON-RELIGIOUS, NON-POLITICAL ASSEMBLY      1\n",
       "HARASSING CHILD OR WARD BECAUSE OF PERSON'S EMPLOYMENT    1\n",
       "Name: Category, dtype: int64"
      ]
     },
     "execution_count": 82,
     "metadata": {},
     "output_type": "execute_result"
    }
   ],
   "source": [
    "crime.groupby('Descript').count().sort_values(by='Category', ascending=False)['Category'].tail(10)"
   ]
  },
  {
   "cell_type": "markdown",
   "metadata": {},
   "source": [
    "# Analysis and plotting from data extracted from sfcrime database\n",
    "\n",
    "First, let's get all our data"
   ]
  },
  {
   "cell_type": "code",
   "execution_count": 32,
   "metadata": {
    "jupyter": {
     "source_hidden": true
    }
   },
   "outputs": [],
   "source": [
    "# Read in all our data\n",
    "crime_2003 = pd.read_csv('data/2003.csv')\n",
    "crime_2004 = pd.read_csv('data/2004.csv')\n",
    "crime_2005 = pd.read_csv('data/2005.csv')\n",
    "crime_2006 = pd.read_csv('data/2006.csv')\n",
    "crime_2007 = pd.read_csv('data/2007.csv')\n",
    "crime_2008 = pd.read_csv('data/2008.csv')\n",
    "crime_2009 = pd.read_csv('data/2009.csv')\n",
    "crime_2010 = pd.read_csv('data/2010.csv')\n",
    "crime_2011 = pd.read_csv('data/2011.csv')\n",
    "crime_2012 = pd.read_csv('data/2012.csv')\n",
    "crime_2013 = pd.read_csv('data/2013.csv')\n",
    "crime_2014 = pd.read_csv('data/2014.csv')\n",
    "crime_2015 = pd.read_csv('data/2015.csv')\n",
    "crime_2016 = pd.read_csv('data/2016.csv')\n",
    "crime_2017 = pd.read_csv('data/2017.csv')\n",
    "\n",
    "auto_crime = pd.read_csv('data/auto_crime.csv')\n",
    "auto_crime\n",
    "mission_crime = pd.read_csv('data/mission_crime.csv')\n",
    "mission_crime\n",
    "\n",
    "crime_years = [crime_2003, crime_2004, crime_2005, crime_2006, crime_2007, crime_2008, \n",
    "               crime_2009, crime_2010, crime_2011, crime_2012, crime_2013, crime_2014, \n",
    "               crime_2015, crime_2016, crime_2017]\n",
    "\n",
    "years = ['2003', '2004', '2005', '2006', '2007', '2008', '2009', '2010', '2011', '2012',\n",
    "         '2013', '2014', '2015', '2016', '2017']"
   ]
  },
  {
   "cell_type": "markdown",
   "metadata": {},
   "source": [
    "## Looking at violent vs non-violent crime\n",
    "Is violent crime resolved at a higher rate than non-violent crime?"
   ]
  },
  {
   "cell_type": "code",
   "execution_count": 103,
   "metadata": {},
   "outputs": [],
   "source": []
  },
  {
   "cell_type": "code",
   "execution_count": 112,
   "metadata": {
    "jupyter": {
     "source_hidden": true
    }
   },
   "outputs": [
    {
     "name": "stderr",
     "output_type": "stream",
     "text": [
      "No handles with labels found to put in legend.\n",
      "No handles with labels found to put in legend.\n"
     ]
    },
    {
     "data": {
      "image/png": "[encoded data removed]",
      "text/plain": [
       "<Figure size 432x288 with 2 Axes>"
      ]
     },
     "metadata": {},
     "output_type": "display_data"
    }
   ],
   "source": [
    "# Look at overall crime rate\n",
    "mission_crime['Total Violent Crime'] = mission_crime['viol_in_mission'] + mission_crime['viol_ex_mission']\n",
    "\n",
    "mission_crime['Total Non-Violent Crime'] = mission_crime['nonviol_in_mission'] + mission_crime['nonviol_ex_mission']\n",
    "\n",
    "mission_crime['Ratio'] = mission_crime['Total Violent Crime']/mission_crime['Total Non-Violent Crime']\n",
    "\n",
    "#Plot the data\n",
    "helper.plotter_onegraph(mission_crime, 'year', \n",
    "                        ['Total Violent Crime','Total Non-Violent Crime'],\n",
    "                        'Ratio')\n",
    "\n",
    "plt.title('Violent and Non-Violent Crime Reports in San Francisco')\n",
    "plt.savefig('crime_in_sf.png', dpi=350)\n",
    "\n"
   ]
  },
  {
   "cell_type": "code",
   "execution_count": 143,
   "metadata": {
    "jupyter": {
     "source_hidden": true
    }
   },
   "outputs": [],
   "source": [
    "# Resolution of crimes\n",
    "#plt.plot(auto_crime['year'], auto_crime['total_resolved_ct']/auto_crime['total_crime_ct'])\n",
    "\n",
    "# Pull out violent vs non-violent crime\n",
    "results = pd.DataFrame()\n",
    "vres = []\n",
    "nres = []\n",
    "\n",
    "for year, data in zip(years, crime_years):\n",
    "    vfrac, nvfrac = helper.vresolution(data)\n",
    "    vres.append(vfrac)\n",
    "    nres.append(nvfrac)\n"
   ]
  },
  {
   "cell_type": "code",
   "execution_count": 157,
   "metadata": {
    "jupyter": {
     "source_hidden": true
    }
   },
   "outputs": [
    {
     "data": {
      "image/png": "[encoded data removed]",
      "text/plain": [
       "<Figure size 432x288 with 1 Axes>"
      ]
     },
     "metadata": {},
     "output_type": "display_data"
    }
   ],
   "source": [
    "vres = pd.Series(vres)\n",
    "nres = pd.Series(nres)\n",
    "\n",
    "resolved = pd.DataFrame({'Year': pd.Series(years), 'Violent Resolved': vres, 'Non-violent Resolved': nres})\n",
    "resolved\n",
    "\n",
    "helper.plotter_onegraph(resolved, 'Year', ['Violent Resolved', 'Non-violent Resolved'])\n",
    "plt.ylabel('Fraction Resolved')\n",
    "plt.title('Resolution of Crime Reports by Year')\n",
    "plt.xticks(rotation=45)\n",
    "plt.ylim(0.1, 0.5)\n",
    "plt.savefig('resolution.png', dpi=350)\n",
    "plt.show()"
   ]
  },
  {
   "cell_type": "markdown",
   "metadata": {},
   "source": [
    "## Theft from cars from 2003-2017\n",
    "\n",
    "My hypothesis is that thefts from cars will increase > 10% after 2014 relative to the years before 2014. \n",
    "\n",
    "That hypothesis seems to only be partially correct: thefts from cars started increasing ~2011 and continued to increase almost every year after that. \n",
    "\n",
    "How to quantify this? Calculate average car theft rate from 2003-2014 (mean and std) and compare to 2015-2017? "
   ]
  },
  {
   "cell_type": "code",
   "execution_count": 8,
   "metadata": {
    "collapsed": true,
    "jupyter": {
     "outputs_hidden": true
    }
   },
   "outputs": [
    {
     "data": {
      "text/plain": [
       "Index(['Unnamed: 0', 'year', 'total_crime_ct', 'car_theft_petty_ct',\n",
       "       'car_theft_grand_ct', 'car_theft_tot_ct', 'car_theft_fraction',\n",
       "       'total_resolved_ct', 'petty_resolve_ct', 'grand_resolved_ct',\n",
       "       'car_resolved_fraction', 'diff'],\n",
       "      dtype='object')"
      ]
     },
     "execution_count": 8,
     "metadata": {},
     "output_type": "execute_result"
    },
    {
     "data": {
      "image/png": "[encoded data removed]",
      "text/plain": [
       "<Figure size 720x288 with 2 Axes>"
      ]
     },
     "metadata": {},
     "output_type": "display_data"
    }
   ],
   "source": [
    "# Plot thefts from cars as a fraction of total crime\n",
    "title = \"Theft from cars as a fraction of total crime in SF\"\n",
    "helper.plotter(auto_crime, 'year', ['car_theft_fraction', 'diff'], title=title)"
   ]
  },
  {
   "cell_type": "code",
   "execution_count": 113,
   "metadata": {},
   "outputs": [
    {
     "name": "stderr",
     "output_type": "stream",
     "text": [
      "No handles with labels found to put in legend.\n",
      "No handles with labels found to put in legend.\n"
     ]
    },
    {
     "data": {
      "image/png": "[encoded data removed]",
      "text/plain": [
       "<Figure size 432x288 with 2 Axes>"
      ]
     },
     "metadata": {},
     "output_type": "display_data"
    }
   ],
   "source": [
    "# Plot total crime, total thefts, and fraction all on one plot\n",
    "helper.plotter_onegraph(auto_crime, 'year', ['total_crime_ct','car_theft_tot_ct'],\n",
    "                                            'car_theft_fraction')\n",
    "plt.title('Theft From Cars in San Francisco vs Total Crime')\n",
    "plt.savefig('car_theft_log.png', dpi=350)\n"
   ]
  },
  {
   "cell_type": "markdown",
   "metadata": {},
   "source": [
    "## Looking at violent and non-violent crime in the Mission\n",
    "\n",
    "\n",
    "My hypothesis was that violent crime in the Mission would decrease due to gentrification. I define the period of gentrification as 2012 onwards (strongest during the post recession recovery). \n",
    "My hypothesis is clearly wrong.\n",
    "\n",
    "- Not only did violent crime stay relatively flat, non-violent crime decreased. \n",
    "- Violent crime a larger percentage of total crime. \n",
    "- We see the opposite trend outside of the mission: non-violent crime increased.\n",
    "- Violent crime is a lower percentage of total crime outside the Mission. \n",
    "\n",
    "How to quantify this?\n",
    "\n",
    "Calculate the mean crime rate pre 2012 vs post 2012?\n"
   ]
  },
  {
   "cell_type": "code",
   "execution_count": 46,
   "metadata": {},
   "outputs": [
    {
     "data": {
      "text/html": [
       "<div>\n",
       "<style scoped>\n",
       "    .dataframe tbody tr th:only-of-type {\n",
       "        vertical-align: middle;\n",
       "    }\n",
       "\n",
       "    .dataframe tbody tr th {\n",
       "        vertical-align: top;\n",
       "    }\n",
       "\n",
       "    .dataframe thead th {\n",
       "        text-align: right;\n",
       "    }\n",
       "</style>\n",
       "<table border=\"1\" class=\"dataframe\">\n",
       "  <thead>\n",
       "    <tr style=\"text-align: right;\">\n",
       "      <th></th>\n",
       "      <th>year</th>\n",
       "      <th>total_crimes</th>\n",
       "      <th>crimes_in_mission</th>\n",
       "      <th>viol_in_mission</th>\n",
       "      <th>nonviol_in_mission</th>\n",
       "      <th>viol_ex_mission</th>\n",
       "      <th>nonviol_ex_mission</th>\n",
       "      <th>fraction_viol_mision</th>\n",
       "      <th>fraction_viol_exmission</th>\n",
       "      <th>diff_mission</th>\n",
       "      <th>diff_all</th>\n",
       "    </tr>\n",
       "  </thead>\n",
       "  <tbody>\n",
       "    <tr>\n",
       "      <th>0</th>\n",
       "      <td>2003</td>\n",
       "      <td>149176</td>\n",
       "      <td>8976</td>\n",
       "      <td>1008</td>\n",
       "      <td>7968</td>\n",
       "      <td>16967</td>\n",
       "      <td>123233</td>\n",
       "      <td>0.11230</td>\n",
       "      <td>0.12050</td>\n",
       "      <td>NaN</td>\n",
       "      <td>NaN</td>\n",
       "    </tr>\n",
       "    <tr>\n",
       "      <th>1</th>\n",
       "      <td>2004</td>\n",
       "      <td>148471</td>\n",
       "      <td>8906</td>\n",
       "      <td>1085</td>\n",
       "      <td>7821</td>\n",
       "      <td>16497</td>\n",
       "      <td>123068</td>\n",
       "      <td>0.12183</td>\n",
       "      <td>0.11842</td>\n",
       "      <td>0.00953</td>\n",
       "      <td>-0.00208</td>\n",
       "    </tr>\n",
       "    <tr>\n",
       "      <th>2</th>\n",
       "      <td>2005</td>\n",
       "      <td>142591</td>\n",
       "      <td>8523</td>\n",
       "      <td>999</td>\n",
       "      <td>7524</td>\n",
       "      <td>15349</td>\n",
       "      <td>118719</td>\n",
       "      <td>0.11721</td>\n",
       "      <td>0.11465</td>\n",
       "      <td>-0.00462</td>\n",
       "      <td>-0.00377</td>\n",
       "    </tr>\n",
       "    <tr>\n",
       "      <th>3</th>\n",
       "      <td>2006</td>\n",
       "      <td>138247</td>\n",
       "      <td>8298</td>\n",
       "      <td>1094</td>\n",
       "      <td>7204</td>\n",
       "      <td>16698</td>\n",
       "      <td>113251</td>\n",
       "      <td>0.13184</td>\n",
       "      <td>0.12870</td>\n",
       "      <td>0.01463</td>\n",
       "      <td>0.01405</td>\n",
       "    </tr>\n",
       "    <tr>\n",
       "      <th>4</th>\n",
       "      <td>2007</td>\n",
       "      <td>138006</td>\n",
       "      <td>8260</td>\n",
       "      <td>1068</td>\n",
       "      <td>7192</td>\n",
       "      <td>16735</td>\n",
       "      <td>113011</td>\n",
       "      <td>0.12930</td>\n",
       "      <td>0.12900</td>\n",
       "      <td>-0.00254</td>\n",
       "      <td>0.00030</td>\n",
       "    </tr>\n",
       "    <tr>\n",
       "      <th>5</th>\n",
       "      <td>2008</td>\n",
       "      <td>141670</td>\n",
       "      <td>9019</td>\n",
       "      <td>1170</td>\n",
       "      <td>7849</td>\n",
       "      <td>17066</td>\n",
       "      <td>115585</td>\n",
       "      <td>0.12973</td>\n",
       "      <td>0.12872</td>\n",
       "      <td>0.00043</td>\n",
       "      <td>-0.00028</td>\n",
       "    </tr>\n",
       "    <tr>\n",
       "      <th>6</th>\n",
       "      <td>2009</td>\n",
       "      <td>140215</td>\n",
       "      <td>8441</td>\n",
       "      <td>1088</td>\n",
       "      <td>7353</td>\n",
       "      <td>16212</td>\n",
       "      <td>115562</td>\n",
       "      <td>0.12889</td>\n",
       "      <td>0.12338</td>\n",
       "      <td>-0.00084</td>\n",
       "      <td>-0.00534</td>\n",
       "    </tr>\n",
       "    <tr>\n",
       "      <th>7</th>\n",
       "      <td>2010</td>\n",
       "      <td>133868</td>\n",
       "      <td>8009</td>\n",
       "      <td>934</td>\n",
       "      <td>7075</td>\n",
       "      <td>16107</td>\n",
       "      <td>109752</td>\n",
       "      <td>0.11662</td>\n",
       "      <td>0.12730</td>\n",
       "      <td>-0.01227</td>\n",
       "      <td>0.00392</td>\n",
       "    </tr>\n",
       "    <tr>\n",
       "      <th>8</th>\n",
       "      <td>2011</td>\n",
       "      <td>133094</td>\n",
       "      <td>7662</td>\n",
       "      <td>978</td>\n",
       "      <td>6684</td>\n",
       "      <td>16078</td>\n",
       "      <td>109354</td>\n",
       "      <td>0.12764</td>\n",
       "      <td>0.12815</td>\n",
       "      <td>0.01102</td>\n",
       "      <td>0.00085</td>\n",
       "    </tr>\n",
       "    <tr>\n",
       "      <th>9</th>\n",
       "      <td>2012</td>\n",
       "      <td>141267</td>\n",
       "      <td>7718</td>\n",
       "      <td>1107</td>\n",
       "      <td>6611</td>\n",
       "      <td>16401</td>\n",
       "      <td>117148</td>\n",
       "      <td>0.14343</td>\n",
       "      <td>0.12394</td>\n",
       "      <td>0.01579</td>\n",
       "      <td>-0.00421</td>\n",
       "    </tr>\n",
       "    <tr>\n",
       "      <th>10</th>\n",
       "      <td>2013</td>\n",
       "      <td>153166</td>\n",
       "      <td>8419</td>\n",
       "      <td>1235</td>\n",
       "      <td>7184</td>\n",
       "      <td>17121</td>\n",
       "      <td>127626</td>\n",
       "      <td>0.14669</td>\n",
       "      <td>0.11984</td>\n",
       "      <td>0.00326</td>\n",
       "      <td>-0.00410</td>\n",
       "    </tr>\n",
       "    <tr>\n",
       "      <th>11</th>\n",
       "      <td>2014</td>\n",
       "      <td>150518</td>\n",
       "      <td>8081</td>\n",
       "      <td>1089</td>\n",
       "      <td>6992</td>\n",
       "      <td>16403</td>\n",
       "      <td>126034</td>\n",
       "      <td>0.13476</td>\n",
       "      <td>0.11621</td>\n",
       "      <td>-0.01193</td>\n",
       "      <td>-0.00363</td>\n",
       "    </tr>\n",
       "    <tr>\n",
       "      <th>12</th>\n",
       "      <td>2015</td>\n",
       "      <td>156927</td>\n",
       "      <td>7404</td>\n",
       "      <td>1194</td>\n",
       "      <td>6210</td>\n",
       "      <td>17302</td>\n",
       "      <td>132221</td>\n",
       "      <td>0.16126</td>\n",
       "      <td>0.11786</td>\n",
       "      <td>0.02650</td>\n",
       "      <td>0.00165</td>\n",
       "    </tr>\n",
       "    <tr>\n",
       "      <th>13</th>\n",
       "      <td>2016</td>\n",
       "      <td>151297</td>\n",
       "      <td>7649</td>\n",
       "      <td>1123</td>\n",
       "      <td>6526</td>\n",
       "      <td>17319</td>\n",
       "      <td>126329</td>\n",
       "      <td>0.14682</td>\n",
       "      <td>0.12189</td>\n",
       "      <td>-0.01444</td>\n",
       "      <td>0.00403</td>\n",
       "    </tr>\n",
       "    <tr>\n",
       "      <th>14</th>\n",
       "      <td>2017</td>\n",
       "      <td>155254</td>\n",
       "      <td>8150</td>\n",
       "      <td>1260</td>\n",
       "      <td>6890</td>\n",
       "      <td>17384</td>\n",
       "      <td>129720</td>\n",
       "      <td>0.15460</td>\n",
       "      <td>0.12009</td>\n",
       "      <td>0.00778</td>\n",
       "      <td>-0.00180</td>\n",
       "    </tr>\n",
       "  </tbody>\n",
       "</table>\n",
       "</div>"
      ],
      "text/plain": [
       "    year  total_crimes  crimes_in_mission  viol_in_mission  \\\n",
       "0   2003        149176               8976             1008   \n",
       "1   2004        148471               8906             1085   \n",
       "2   2005        142591               8523              999   \n",
       "3   2006        138247               8298             1094   \n",
       "4   2007        138006               8260             1068   \n",
       "5   2008        141670               9019             1170   \n",
       "6   2009        140215               8441             1088   \n",
       "7   2010        133868               8009              934   \n",
       "8   2011        133094               7662              978   \n",
       "9   2012        141267               7718             1107   \n",
       "10  2013        153166               8419             1235   \n",
       "11  2014        150518               8081             1089   \n",
       "12  2015        156927               7404             1194   \n",
       "13  2016        151297               7649             1123   \n",
       "14  2017        155254               8150             1260   \n",
       "\n",
       "    nonviol_in_mission  viol_ex_mission  nonviol_ex_mission  \\\n",
       "0                 7968            16967              123233   \n",
       "1                 7821            16497              123068   \n",
       "2                 7524            15349              118719   \n",
       "3                 7204            16698              113251   \n",
       "4                 7192            16735              113011   \n",
       "5                 7849            17066              115585   \n",
       "6                 7353            16212              115562   \n",
       "7                 7075            16107              109752   \n",
       "8                 6684            16078              109354   \n",
       "9                 6611            16401              117148   \n",
       "10                7184            17121              127626   \n",
       "11                6992            16403              126034   \n",
       "12                6210            17302              132221   \n",
       "13                6526            17319              126329   \n",
       "14                6890            17384              129720   \n",
       "\n",
       "    fraction_viol_mision  fraction_viol_exmission  diff_mission  diff_all  \n",
       "0                0.11230                  0.12050           NaN       NaN  \n",
       "1                0.12183                  0.11842       0.00953  -0.00208  \n",
       "2                0.11721                  0.11465      -0.00462  -0.00377  \n",
       "3                0.13184                  0.12870       0.01463   0.01405  \n",
       "4                0.12930                  0.12900      -0.00254   0.00030  \n",
       "5                0.12973                  0.12872       0.00043  -0.00028  \n",
       "6                0.12889                  0.12338      -0.00084  -0.00534  \n",
       "7                0.11662                  0.12730      -0.01227   0.00392  \n",
       "8                0.12764                  0.12815       0.01102   0.00085  \n",
       "9                0.14343                  0.12394       0.01579  -0.00421  \n",
       "10               0.14669                  0.11984       0.00326  -0.00410  \n",
       "11               0.13476                  0.11621      -0.01193  -0.00363  \n",
       "12               0.16126                  0.11786       0.02650   0.00165  \n",
       "13               0.14682                  0.12189      -0.01444   0.00403  \n",
       "14               0.15460                  0.12009       0.00778  -0.00180  "
      ]
     },
     "execution_count": 46,
     "metadata": {},
     "output_type": "execute_result"
    }
   ],
   "source": [
    "mission_crime['fraction_viol_mision']"
   ]
  },
  {
   "cell_type": "code",
   "execution_count": 52,
   "metadata": {
    "collapsed": false,
    "jupyter": {
     "outputs_hidden": false
    }
   },
   "outputs": [
    {
     "name": "stderr",
     "output_type": "stream",
     "text": [
      "No handles with labels found to put in legend.\n",
      "No handles with labels found to put in legend.\n"
     ]
    },
    {
     "data": {
      "image/png": "[encoded data removed]",
      "text/plain": [
       "<Figure size 432x288 with 2 Axes>"
      ]
     },
     "metadata": {},
     "output_type": "display_data"
    },
    {
     "data": {
      "text/plain": [
       "<Figure size 432x288 with 0 Axes>"
      ]
     },
     "metadata": {},
     "output_type": "display_data"
    }
   ],
   "source": [
    "# Digging in a little more to look at absolute numbers\n",
    "helper.plotter_onegraph(mission_crime, 'year', ['viol_in_mission', 'nonviol_in_mission'], 'fraction_viol_mision')\n",
    "plt.title(\"Crime in the Mission\")\n",
    "plt.show()\n",
    "plt.savefig('missioncrime.png', dpi=350)"
   ]
  },
  {
   "cell_type": "markdown",
   "metadata": {},
   "source": []
  },
  {
   "cell_type": "markdown",
   "metadata": {},
   "source": [
    "# Now looking at time of day for crimes to be committed\n",
    "\n",
    "Below are the data for crime by time of day. No distinguishing between violent and non-violent crime. \n",
    "\n",
    "Time ranges from 0 (midnight) to 23 (11:00 pm).\n",
    "\n",
    "My hypothesis is that more crime is committed bewteen 8pm and midnight. I could change the hypothesis to say that crime by time of day DOES NOT follow a uniform distribution:\n",
    "\n",
    "- H0: Crime rate per hour of the day follows a discrete uniform distribution.\n",
    "\n",
    "- HA: Crime rate doesn't follow a discrete uniform distribution. \n",
    "\n",
    "\n",
    "\n"
   ]
  },
  {
   "cell_type": "code",
   "execution_count": 78,
   "metadata": {
    "collapsed": true,
    "jupyter": {
     "outputs_hidden": true,
     "source_hidden": true
    }
   },
   "outputs": [
    {
     "data": {
      "text/html": [
       "<div>\n",
       "<style scoped>\n",
       "    .dataframe tbody tr th:only-of-type {\n",
       "        vertical-align: middle;\n",
       "    }\n",
       "\n",
       "    .dataframe tbody tr th {\n",
       "        vertical-align: top;\n",
       "    }\n",
       "\n",
       "    .dataframe thead th {\n",
       "        text-align: right;\n",
       "    }\n",
       "</style>\n",
       "<table border=\"1\" class=\"dataframe\">\n",
       "  <thead>\n",
       "    <tr style=\"text-align: right;\">\n",
       "      <th></th>\n",
       "      <th>year</th>\n",
       "      <th>0</th>\n",
       "      <th>1</th>\n",
       "      <th>2</th>\n",
       "      <th>3</th>\n",
       "      <th>4</th>\n",
       "      <th>5</th>\n",
       "      <th>6</th>\n",
       "      <th>7</th>\n",
       "      <th>8</th>\n",
       "      <th>...</th>\n",
       "      <th>14</th>\n",
       "      <th>15</th>\n",
       "      <th>16</th>\n",
       "      <th>17</th>\n",
       "      <th>18</th>\n",
       "      <th>19</th>\n",
       "      <th>20</th>\n",
       "      <th>21</th>\n",
       "      <th>22</th>\n",
       "      <th>23</th>\n",
       "    </tr>\n",
       "  </thead>\n",
       "  <tbody>\n",
       "    <tr>\n",
       "      <th>0</th>\n",
       "      <td>2003</td>\n",
       "      <td>6785</td>\n",
       "      <td>3937</td>\n",
       "      <td>3519</td>\n",
       "      <td>2288</td>\n",
       "      <td>1572</td>\n",
       "      <td>1326</td>\n",
       "      <td>2104</td>\n",
       "      <td>3815</td>\n",
       "      <td>5844</td>\n",
       "      <td>...</td>\n",
       "      <td>7508</td>\n",
       "      <td>8049</td>\n",
       "      <td>8318</td>\n",
       "      <td>9107</td>\n",
       "      <td>9722</td>\n",
       "      <td>8563</td>\n",
       "      <td>7574</td>\n",
       "      <td>7553</td>\n",
       "      <td>7954</td>\n",
       "      <td>7558</td>\n",
       "    </tr>\n",
       "    <tr>\n",
       "      <th>1</th>\n",
       "      <td>2004</td>\n",
       "      <td>7308</td>\n",
       "      <td>3966</td>\n",
       "      <td>3382</td>\n",
       "      <td>2227</td>\n",
       "      <td>1565</td>\n",
       "      <td>1426</td>\n",
       "      <td>2152</td>\n",
       "      <td>3869</td>\n",
       "      <td>5932</td>\n",
       "      <td>...</td>\n",
       "      <td>7790</td>\n",
       "      <td>7847</td>\n",
       "      <td>8096</td>\n",
       "      <td>9112</td>\n",
       "      <td>9398</td>\n",
       "      <td>8058</td>\n",
       "      <td>7446</td>\n",
       "      <td>7551</td>\n",
       "      <td>8007</td>\n",
       "      <td>7485</td>\n",
       "    </tr>\n",
       "    <tr>\n",
       "      <th>2</th>\n",
       "      <td>2005</td>\n",
       "      <td>6993</td>\n",
       "      <td>3965</td>\n",
       "      <td>3391</td>\n",
       "      <td>2230</td>\n",
       "      <td>1637</td>\n",
       "      <td>1377</td>\n",
       "      <td>2135</td>\n",
       "      <td>3817</td>\n",
       "      <td>5964</td>\n",
       "      <td>...</td>\n",
       "      <td>7156</td>\n",
       "      <td>7495</td>\n",
       "      <td>7847</td>\n",
       "      <td>8797</td>\n",
       "      <td>8876</td>\n",
       "      <td>8007</td>\n",
       "      <td>7132</td>\n",
       "      <td>7032</td>\n",
       "      <td>7560</td>\n",
       "      <td>7095</td>\n",
       "    </tr>\n",
       "    <tr>\n",
       "      <th>3</th>\n",
       "      <td>2006</td>\n",
       "      <td>7001</td>\n",
       "      <td>3941</td>\n",
       "      <td>3431</td>\n",
       "      <td>2166</td>\n",
       "      <td>1486</td>\n",
       "      <td>1405</td>\n",
       "      <td>1998</td>\n",
       "      <td>3579</td>\n",
       "      <td>5526</td>\n",
       "      <td>...</td>\n",
       "      <td>7012</td>\n",
       "      <td>7544</td>\n",
       "      <td>7933</td>\n",
       "      <td>8357</td>\n",
       "      <td>8510</td>\n",
       "      <td>7428</td>\n",
       "      <td>6746</td>\n",
       "      <td>6695</td>\n",
       "      <td>7117</td>\n",
       "      <td>6744</td>\n",
       "    </tr>\n",
       "    <tr>\n",
       "      <th>4</th>\n",
       "      <td>2007</td>\n",
       "      <td>6851</td>\n",
       "      <td>4101</td>\n",
       "      <td>3449</td>\n",
       "      <td>2110</td>\n",
       "      <td>1516</td>\n",
       "      <td>1364</td>\n",
       "      <td>2065</td>\n",
       "      <td>3419</td>\n",
       "      <td>5259</td>\n",
       "      <td>...</td>\n",
       "      <td>7224</td>\n",
       "      <td>7459</td>\n",
       "      <td>7754</td>\n",
       "      <td>8424</td>\n",
       "      <td>8558</td>\n",
       "      <td>7617</td>\n",
       "      <td>6969</td>\n",
       "      <td>6834</td>\n",
       "      <td>7328</td>\n",
       "      <td>6702</td>\n",
       "    </tr>\n",
       "    <tr>\n",
       "      <th>5</th>\n",
       "      <td>2008</td>\n",
       "      <td>7626</td>\n",
       "      <td>4275</td>\n",
       "      <td>3625</td>\n",
       "      <td>2249</td>\n",
       "      <td>1617</td>\n",
       "      <td>1322</td>\n",
       "      <td>2252</td>\n",
       "      <td>3730</td>\n",
       "      <td>5310</td>\n",
       "      <td>...</td>\n",
       "      <td>7697</td>\n",
       "      <td>8060</td>\n",
       "      <td>8356</td>\n",
       "      <td>8753</td>\n",
       "      <td>8557</td>\n",
       "      <td>7517</td>\n",
       "      <td>7014</td>\n",
       "      <td>6742</td>\n",
       "      <td>7072</td>\n",
       "      <td>6738</td>\n",
       "    </tr>\n",
       "    <tr>\n",
       "      <th>6</th>\n",
       "      <td>2009</td>\n",
       "      <td>7648</td>\n",
       "      <td>4479</td>\n",
       "      <td>3947</td>\n",
       "      <td>2258</td>\n",
       "      <td>1602</td>\n",
       "      <td>1130</td>\n",
       "      <td>2239</td>\n",
       "      <td>3808</td>\n",
       "      <td>5298</td>\n",
       "      <td>...</td>\n",
       "      <td>7468</td>\n",
       "      <td>7767</td>\n",
       "      <td>8000</td>\n",
       "      <td>8198</td>\n",
       "      <td>8431</td>\n",
       "      <td>7238</td>\n",
       "      <td>6732</td>\n",
       "      <td>6706</td>\n",
       "      <td>7265</td>\n",
       "      <td>6526</td>\n",
       "    </tr>\n",
       "    <tr>\n",
       "      <th>7</th>\n",
       "      <td>2010</td>\n",
       "      <td>7501</td>\n",
       "      <td>4182</td>\n",
       "      <td>3555</td>\n",
       "      <td>2124</td>\n",
       "      <td>1475</td>\n",
       "      <td>1224</td>\n",
       "      <td>2008</td>\n",
       "      <td>3322</td>\n",
       "      <td>4825</td>\n",
       "      <td>...</td>\n",
       "      <td>6557</td>\n",
       "      <td>7314</td>\n",
       "      <td>7652</td>\n",
       "      <td>8157</td>\n",
       "      <td>8286</td>\n",
       "      <td>7682</td>\n",
       "      <td>6993</td>\n",
       "      <td>6479</td>\n",
       "      <td>7046</td>\n",
       "      <td>6609</td>\n",
       "    </tr>\n",
       "    <tr>\n",
       "      <th>8</th>\n",
       "      <td>2011</td>\n",
       "      <td>7831</td>\n",
       "      <td>4235</td>\n",
       "      <td>3608</td>\n",
       "      <td>2113</td>\n",
       "      <td>1500</td>\n",
       "      <td>1454</td>\n",
       "      <td>1998</td>\n",
       "      <td>3044</td>\n",
       "      <td>5003</td>\n",
       "      <td>...</td>\n",
       "      <td>6613</td>\n",
       "      <td>7155</td>\n",
       "      <td>7554</td>\n",
       "      <td>8002</td>\n",
       "      <td>8180</td>\n",
       "      <td>7283</td>\n",
       "      <td>6889</td>\n",
       "      <td>6440</td>\n",
       "      <td>6833</td>\n",
       "      <td>6727</td>\n",
       "    </tr>\n",
       "    <tr>\n",
       "      <th>9</th>\n",
       "      <td>2012</td>\n",
       "      <td>7790</td>\n",
       "      <td>4606</td>\n",
       "      <td>3588</td>\n",
       "      <td>2302</td>\n",
       "      <td>1579</td>\n",
       "      <td>1480</td>\n",
       "      <td>2139</td>\n",
       "      <td>3186</td>\n",
       "      <td>5035</td>\n",
       "      <td>...</td>\n",
       "      <td>6954</td>\n",
       "      <td>7845</td>\n",
       "      <td>8217</td>\n",
       "      <td>8752</td>\n",
       "      <td>9200</td>\n",
       "      <td>8152</td>\n",
       "      <td>7283</td>\n",
       "      <td>7047</td>\n",
       "      <td>7397</td>\n",
       "      <td>6634</td>\n",
       "    </tr>\n",
       "    <tr>\n",
       "      <th>10</th>\n",
       "      <td>2013</td>\n",
       "      <td>8147</td>\n",
       "      <td>4860</td>\n",
       "      <td>3848</td>\n",
       "      <td>2483</td>\n",
       "      <td>1760</td>\n",
       "      <td>1648</td>\n",
       "      <td>2340</td>\n",
       "      <td>4037</td>\n",
       "      <td>5467</td>\n",
       "      <td>...</td>\n",
       "      <td>7710</td>\n",
       "      <td>8327</td>\n",
       "      <td>8598</td>\n",
       "      <td>9349</td>\n",
       "      <td>9751</td>\n",
       "      <td>8825</td>\n",
       "      <td>7868</td>\n",
       "      <td>7498</td>\n",
       "      <td>7791</td>\n",
       "      <td>7134</td>\n",
       "    </tr>\n",
       "    <tr>\n",
       "      <th>11</th>\n",
       "      <td>2014</td>\n",
       "      <td>7239</td>\n",
       "      <td>4362</td>\n",
       "      <td>3646</td>\n",
       "      <td>2540</td>\n",
       "      <td>1711</td>\n",
       "      <td>1644</td>\n",
       "      <td>2200</td>\n",
       "      <td>3557</td>\n",
       "      <td>5139</td>\n",
       "      <td>...</td>\n",
       "      <td>7386</td>\n",
       "      <td>8125</td>\n",
       "      <td>8694</td>\n",
       "      <td>9395</td>\n",
       "      <td>9881</td>\n",
       "      <td>9119</td>\n",
       "      <td>8467</td>\n",
       "      <td>7782</td>\n",
       "      <td>7950</td>\n",
       "      <td>7137</td>\n",
       "    </tr>\n",
       "    <tr>\n",
       "      <th>12</th>\n",
       "      <td>2015</td>\n",
       "      <td>8033</td>\n",
       "      <td>4581</td>\n",
       "      <td>3720</td>\n",
       "      <td>2651</td>\n",
       "      <td>1840</td>\n",
       "      <td>1715</td>\n",
       "      <td>2319</td>\n",
       "      <td>3756</td>\n",
       "      <td>5289</td>\n",
       "      <td>...</td>\n",
       "      <td>7401</td>\n",
       "      <td>8254</td>\n",
       "      <td>8763</td>\n",
       "      <td>9568</td>\n",
       "      <td>10565</td>\n",
       "      <td>9666</td>\n",
       "      <td>8754</td>\n",
       "      <td>8020</td>\n",
       "      <td>8035</td>\n",
       "      <td>7186</td>\n",
       "    </tr>\n",
       "    <tr>\n",
       "      <th>13</th>\n",
       "      <td>2016</td>\n",
       "      <td>7065</td>\n",
       "      <td>4373</td>\n",
       "      <td>3505</td>\n",
       "      <td>2556</td>\n",
       "      <td>1895</td>\n",
       "      <td>1753</td>\n",
       "      <td>2525</td>\n",
       "      <td>3918</td>\n",
       "      <td>5617</td>\n",
       "      <td>...</td>\n",
       "      <td>7658</td>\n",
       "      <td>8360</td>\n",
       "      <td>8678</td>\n",
       "      <td>9604</td>\n",
       "      <td>9739</td>\n",
       "      <td>9010</td>\n",
       "      <td>8120</td>\n",
       "      <td>7514</td>\n",
       "      <td>7140</td>\n",
       "      <td>6628</td>\n",
       "    </tr>\n",
       "    <tr>\n",
       "      <th>14</th>\n",
       "      <td>2017</td>\n",
       "      <td>7453</td>\n",
       "      <td>4229</td>\n",
       "      <td>3443</td>\n",
       "      <td>2578</td>\n",
       "      <td>2006</td>\n",
       "      <td>1652</td>\n",
       "      <td>2383</td>\n",
       "      <td>3670</td>\n",
       "      <td>5390</td>\n",
       "      <td>...</td>\n",
       "      <td>7759</td>\n",
       "      <td>8289</td>\n",
       "      <td>8641</td>\n",
       "      <td>9387</td>\n",
       "      <td>10475</td>\n",
       "      <td>9547</td>\n",
       "      <td>8652</td>\n",
       "      <td>7690</td>\n",
       "      <td>7672</td>\n",
       "      <td>6608</td>\n",
       "    </tr>\n",
       "  </tbody>\n",
       "</table>\n",
       "<p>15 rows × 25 columns</p>\n",
       "</div>"
      ],
      "text/plain": [
       "    year     0     1     2     3     4     5     6     7     8  ...    14  \\\n",
       "0   2003  6785  3937  3519  2288  1572  1326  2104  3815  5844  ...  7508   \n",
       "1   2004  7308  3966  3382  2227  1565  1426  2152  3869  5932  ...  7790   \n",
       "2   2005  6993  3965  3391  2230  1637  1377  2135  3817  5964  ...  7156   \n",
       "3   2006  7001  3941  3431  2166  1486  1405  1998  3579  5526  ...  7012   \n",
       "4   2007  6851  4101  3449  2110  1516  1364  2065  3419  5259  ...  7224   \n",
       "5   2008  7626  4275  3625  2249  1617  1322  2252  3730  5310  ...  7697   \n",
       "6   2009  7648  4479  3947  2258  1602  1130  2239  3808  5298  ...  7468   \n",
       "7   2010  7501  4182  3555  2124  1475  1224  2008  3322  4825  ...  6557   \n",
       "8   2011  7831  4235  3608  2113  1500  1454  1998  3044  5003  ...  6613   \n",
       "9   2012  7790  4606  3588  2302  1579  1480  2139  3186  5035  ...  6954   \n",
       "10  2013  8147  4860  3848  2483  1760  1648  2340  4037  5467  ...  7710   \n",
       "11  2014  7239  4362  3646  2540  1711  1644  2200  3557  5139  ...  7386   \n",
       "12  2015  8033  4581  3720  2651  1840  1715  2319  3756  5289  ...  7401   \n",
       "13  2016  7065  4373  3505  2556  1895  1753  2525  3918  5617  ...  7658   \n",
       "14  2017  7453  4229  3443  2578  2006  1652  2383  3670  5390  ...  7759   \n",
       "\n",
       "      15    16    17     18    19    20    21    22    23  \n",
       "0   8049  8318  9107   9722  8563  7574  7553  7954  7558  \n",
       "1   7847  8096  9112   9398  8058  7446  7551  8007  7485  \n",
       "2   7495  7847  8797   8876  8007  7132  7032  7560  7095  \n",
       "3   7544  7933  8357   8510  7428  6746  6695  7117  6744  \n",
       "4   7459  7754  8424   8558  7617  6969  6834  7328  6702  \n",
       "5   8060  8356  8753   8557  7517  7014  6742  7072  6738  \n",
       "6   7767  8000  8198   8431  7238  6732  6706  7265  6526  \n",
       "7   7314  7652  8157   8286  7682  6993  6479  7046  6609  \n",
       "8   7155  7554  8002   8180  7283  6889  6440  6833  6727  \n",
       "9   7845  8217  8752   9200  8152  7283  7047  7397  6634  \n",
       "10  8327  8598  9349   9751  8825  7868  7498  7791  7134  \n",
       "11  8125  8694  9395   9881  9119  8467  7782  7950  7137  \n",
       "12  8254  8763  9568  10565  9666  8754  8020  8035  7186  \n",
       "13  8360  8678  9604   9739  9010  8120  7514  7140  6628  \n",
       "14  8289  8641  9387  10475  9547  8652  7690  7672  6608  \n",
       "\n",
       "[15 rows x 25 columns]"
      ]
     },
     "execution_count": 78,
     "metadata": {},
     "output_type": "execute_result"
    }
   ],
   "source": [
    "crimetime = pd.read_csv('data/crimetime.csv')\n",
    "crimetime"
   ]
  },
  {
   "cell_type": "code",
   "execution_count": 172,
   "metadata": {
    "collapsed": false,
    "jupyter": {
     "outputs_hidden": false
    }
   },
   "outputs": [
    {
     "data": {
      "image/png": "[encoded data removed]",
      "text/plain": [
       "<Figure size 432x288 with 1 Axes>"
      ]
     },
     "metadata": {},
     "output_type": "display_data"
    }
   ],
   "source": [
    "#plt.bar(crimetime['year'],height=crimetime['0'])\n",
    "labels = list(crimetime.columns)[1:]\n",
    "for i in range(15):\n",
    "    plt.bar(labels, height=list(crimetime.iloc[i,1:]), alpha=0.2, label=crimetime.iloc[i, 0])\n",
    "plt.title(\"Crime Reports By Time Of Day\")\n",
    "plt.xlabel('Hour of Day')\n",
    "plt.ylabel('Record Counts')\n",
    "plt.savefig('time_of_day.png', dpi=350)\n",
    "plt.show()\n"
   ]
  },
  {
   "cell_type": "markdown",
   "metadata": {
    "jupyter": {
     "outputs_hidden": false
    }
   },
   "source": [
    "## Day of Week!\n"
   ]
  },
  {
   "cell_type": "code",
   "execution_count": 170,
   "metadata": {
    "jupyter": {
     "source_hidden": true
    }
   },
   "outputs": [
    {
     "data": {
      "image/png": "[encoded data removed]",
      "text/plain": [
       "<Figure size 432x288 with 1 Axes>"
      ]
     },
     "metadata": {},
     "output_type": "display_data"
    }
   ],
   "source": [
    "days = ['Sunday', 'Monday', 'Tuesday', 'Wednesday', 'Thursday', 'Friday', 'Saturday']\n",
    "counts = []\n",
    "\n",
    "for year, data in zip(years, crime_years):\n",
    "    dayofweekct = data.groupby('DayOfWeek').count().sort_values(by='Date', ascending=False)['Date']\n",
    "    counts.append([dayofweekct[day] for day in days])\n",
    "\n",
    "counts = pd.DataFrame(np.asarray(counts), columns=days)\n",
    "counts['Year'] = years\n",
    "\n",
    "for i in range(15):\n",
    "        plt.bar(days, height=list(counts.iloc[i,:7]), alpha=0.2)\n",
    "plt.xlabel('Day of Week')\n",
    "plt.xticks(rotation=45)\n",
    "plt.title(\"Crime Reports by Day of Week\")\n",
    "plt.ylabel('Record Counts')\n",
    "plt.savefig(f'dayofweek{0}.png', dpi=350)\n",
    "plt.show()"
   ]
  },
  {
   "cell_type": "code",
   "execution_count": null,
   "metadata": {
    "collapsed": true,
    "jupyter": {
     "outputs_hidden": true
    }
   },
   "outputs": [],
   "source": []
  },
  {
   "cell_type": "markdown",
   "metadata": {},
   "source": [
    "# Unused code and raw copies"
   ]
  },
  {
   "cell_type": "code",
   "execution_count": null,
   "metadata": {
    "collapsed": true,
    "jupyter": {
     "outputs_hidden": true
    }
   },
   "outputs": [],
   "source": [
    "# mission_crime = helper.calculate_diff(crime_mission, 'fraction_viol_mision', 'diff_mission')\n",
    "# mission_crime2 = helper.calculate_diff(mission_crime, 'fraction_viol_exmission', 'diff_all')\n",
    "# auto_crime = helper.calculate_diff(crime_pd, 'car_theft_fraction')\n",
    "# auto_crime"
   ]
  },
  {
   "cell_type": "code",
   "execution_count": 27,
   "metadata": {
    "collapsed": true,
    "jupyter": {
     "outputs_hidden": true
    }
   },
   "outputs": [],
   "source": [
    "auto_crime_data = [\n",
    " ['2003', 149176, 5276, 6895, 12171, 0.08159, 61933, 138, 179, 0.00512],\n",
    " ['2004', 148471, 4922, 6735, 11657, 0.07851, 58232, 137, 161, 0.00512],\n",
    " ['2005', 142591, 4045, 8989, 13034, 0.09141, 52282, 79, 129, 0.00398],\n",
    " ['2006', 138247, 4604, 10835, 15439, 0.11168, 52823, 156, 158, 0.00594],\n",
    " ['2007', 138006, 3578, 10196, 13774, 0.09981, 57347, 138, 211, 0.00609],\n",
    " ['2008', 141670, 3225, 9273, 12498, 0.08822, 60706, 77, 204, 0.00463],\n",
    " ['2009', 140215, 2587, 9197, 11784, 0.08404, 63067, 66, 181, 0.00392],\n",
    " ['2010', 133868, 1697, 8301, 9998, 0.07469, 58162, 80, 93, 0.00297],\n",
    " ['2011', 133094, 1719, 8890, 10609, 0.07971, 55727, 84, 136, 0.00395],\n",
    " ['2012', 141267, 3058, 10456, 13514, 0.09566, 51030, 100, 68, 0.00329],\n",
    " ['2013', 153166, 4126, 14578, 18704, 0.12212, 62496, 170, 74, 0.0039],\n",
    " ['2014', 150518, 4232, 17375, 21607, 0.14355, 54631, 139, 76, 0.00394],\n",
    " ['2015', 156927, 4968, 20562, 25530, 0.16269, 45798, 134, 74, 0.00454],\n",
    " ['2016', 151297, 4590, 19714, 24304, 0.16064, 42921, 122, 69, 0.00445],\n",
    " ['2017', 155254, 5114, 25685, 30799, 0.19838, 38148, 145, 109, 0.00666]]\n",
    "\n",
    "auto_crime_columns = ['year', 'total_crime_ct', 'car_theft_petty_ct', \n",
    "                      'car_theft_grand_ct', 'car_theft_tot_ct', 'car_theft_fraction',\n",
    "                      'total_resolved_ct', 'petty_resolve_ct', 'grand_resolved_ct', \n",
    "                      'car_resolved_fraction']"
   ]
  },
  {
   "cell_type": "code",
   "execution_count": 28,
   "metadata": {
    "collapsed": true,
    "jupyter": {
     "outputs_hidden": true
    }
   },
   "outputs": [],
   "source": [
    "mission_crime_by_year = [\n",
    " ['2003', 149176, 8976, 1008, 7968, 16967, 123233, 0.1123, 0.1205],\n",
    " ['2004', 148471, 8906, 1085, 7821, 16497, 123068, 0.12183, 0.11842],\n",
    " ['2005', 142591, 8523, 999, 7524, 15349, 118719, 0.11721, 0.11465],\n",
    " ['2006', 138247, 8298, 1094, 7204, 16698, 113251, 0.13184, 0.1287],\n",
    " ['2007', 138006, 8260, 1068, 7192, 16735, 113011, 0.1293, 0.129],\n",
    " ['2008', 141670, 9019, 1170, 7849, 17066, 115585, 0.12973, 0.12872],\n",
    " ['2009', 140215, 8441, 1088, 7353, 16212, 115562, 0.12889, 0.12338],\n",
    " ['2010', 133868, 8009, 934, 7075, 16107, 109752, 0.11662, 0.1273],\n",
    " ['2011', 133094, 7662, 978, 6684, 16078, 109354, 0.12764, 0.12815],\n",
    " ['2012', 141267, 7718, 1107, 6611, 16401, 117148, 0.14343, 0.12394],\n",
    " ['2013', 153166, 8419, 1235, 7184, 17121, 127626, 0.14669, 0.11984],\n",
    " ['2014', 150518, 8081, 1089, 6992, 16403, 126034, 0.13476, 0.11621],\n",
    " ['2015', 156927, 7404, 1194, 6210, 17302, 132221, 0.16126, 0.11786],\n",
    " ['2016', 151297, 7649, 1123, 6526, 17319, 126329, 0.14682, 0.12189],\n",
    " ['2017', 155254, 8150, 1260, 6890, 17384, 129720, 0.1546, 0.12009]]\n",
    "\n",
    "mission_crime_columns = ['year', 'total_crimes', 'crimes_in_mission', \n",
    "                         'viol_in_mission', 'nonviol_in_mission', \n",
    "                         'viol_ex_mission', 'nonviol_ex_mission',\n",
    "                         'fraction_viol_mision', 'fraction_viol_exmission']"
   ]
  },
  {
   "cell_type": "code",
   "execution_count": 31,
   "metadata": {
    "collapsed": true,
    "jupyter": {
     "outputs_hidden": true
    }
   },
   "outputs": [],
   "source": [
    "crime_by_timeofday = [\n",
    "['2003',6785,3937,3519,2288,1572,1326,2104,3815,5844,6376,6739,6411,9168,7386,7508,8049,\n",
    "  8318,9107,9722,8563,7574,7553,7954,7558],\n",
    " ['2004',7308,3966,3382,2227,1565,1426,2152,3869,5932,6143,6743,6812,8749,7407,7790,7847,\n",
    "  8096,9112,9398,8058,7446,7551,8007,7485],\n",
    " ['2005',6993,3965,3391,2230,1637,1377, 2135, 3817, 5964,6088, 6305, 6460, 8414, 6818, 7156,\n",
    "  7495, 7847, 8797, 8876, 8007, 7132, 7032, 7560, 7095],\n",
    " ['2006', 7001,3941, 3431, 2166, 1486, 1405,1998, 3579,  5526,  5947,  6277,  6057,  8635,\n",
    "  6712,  7012, 7544,  7933,  8357,  8510,  7428,  6746,  6695,  7117,  6744], \n",
    "['2007',  6851,  4101,  3449,  2110,  1516,  1364,  2065,  3419,  5259,  5688,  6041,  6028,\n",
    "  8392,  6854,  7224,  7459,  7754,  8424,  8558,  7617,  6969,  6834,  7328,  6702],\n",
    " ['2008',  7626,  4275,  3625,  2249,  1617,  1322,  2252,  3730,  5310,  5618,  5968,  6101,\n",
    "  8114,  7357,  7697,  8060,  8356,  8753,  8557,  7517,  7014,  6742,  7072,  6738],\n",
    " ['2009',  7648,  4479,  3947,  2258,  1602,  1130,  2239,  3808,  5298,  5783,  6077,  6055,\n",
    "  8384,  7176,  7468,  7767,  8000,  8198,  8431,  7238,  6732,  6706,  7265,  6526],\n",
    " ['2010',  7501,  4182,  3555,  2124,  1475,  1224,  2008,  3322,  4825,  5341,  5640,  5642,\n",
    "  7837,  6417,  6557,  7314,  7652,  8157,  8286,  7682,  6993,  6479,  7046,  6609],\n",
    "    ['2011',  7831,  4235,  3608,  2113,  1500,  1454,  1998,  3044,  5003,  5204,  5503,  5862,\n",
    "  7814,  6249,  6613,  7155,  7554,  8002,  8180,  7283,  6889,  6440,  6833,  6727], \n",
    "    ['2012',  7790,  4606,  3588,  2302,  1579,  1480,  2139,  3186,  5035,  5324,  5734,  6037,\n",
    "  8274,  6712,  6954,  7845,  8217,  8752,  9200,  8152,  7283,  7047,  7397,  6634], \n",
    "    ['2013',  8147,  4860,  3848,  2483,  1760,  1648,  2340,  4037,  5467,  6090,  6400,  6584,\n",
    "  9081,  7570,  7710,  8327,  8598,  9349,  9751,  8825,  7868,  7498,  7791,  7134],\n",
    "    ['2014',  7239,  4362,  3646,  2540,  1711,  1644,  2200,  3557,  5139,  5864,  6226,  6484,\n",
    "  8835,  7135,  7386,  8125,  8694,  9395,  9881,  9119,  8467,  7782,  7950,  7137],\n",
    "    ['2015',  8033,  4581,  3720,  2651,  1840,  1715,  2319,  3756,  5289,  6185,  6495,  6955,\n",
    "  9603,  7573,  7401,  8254,  8763,  9568,  10565,  9666,  8754,  8020,  8035,  7186], \n",
    "    ['2016',  7065,  4373,  3505,  2556,  1895,  1753,  2525,  3918,  5617,  5902,  6503,  6824,\n",
    "  9113,  7297,  7658,  8360,  8678,  9604,  9739,  9010,  8120,  7514,  7140,  6628],\n",
    " ['2017',  7453,  4229,  3443,  2578,  2006,  1652,  2383,  3670,  5390,  6039,  6875,  7335,\n",
    "  9753,  7728,  7759,  8289,  8641,  9387,  10475,  9547,  8652,  7690,  7672,  6608]]"
   ]
  },
  {
   "cell_type": "code",
   "execution_count": 50,
   "metadata": {},
   "outputs": [],
   "source": [
    "# Violence in San Francisco: Mission vs not Mission\n",
    "\n",
    "# # Fraction of violence inside vs outside the mission\n",
    "# helper.plotter_onegraph(mission_crime,'year', ['fraction_viol_mision', \n",
    "#                                                'fraction_viol_exmission'])\n",
    "# plt.show()\n",
    "\n",
    "# helper.plotter_onegraph(mission_crime, 'year', ['viol_ex_mission', 'nonviol_ex_mission'])\n",
    "# plt.ylim(0, 160000)\n",
    "# plt.ylabel('Counts')\n",
    "# plt.title(\"Crime outside the Mission\")\n",
    "# plt.show()\n",
    "\n",
    "# # Calculating year over year difference\n",
    "# helper.plotter_onegraph(mission_crime, 'year', ['diff_mission', 'diff_all'])\n",
    "# plt.show()\n"
   ]
  },
  {
   "cell_type": "code",
   "execution_count": null,
   "metadata": {},
   "outputs": [],
   "source": []
  }
 ],
 "metadata": {
  "kernelspec": {
   "display_name": "Python 3",
   "language": "python",
   "name": "python3"
  },
  "language_info": {
   "codemirror_mode": {
    "name": "ipython",
    "version": 3
   },
   "file_extension": ".py",
   "mimetype": "text/x-python",
   "name": "python",
   "nbconvert_exporter": "python",
   "pygments_lexer": "ipython3",
   "version": "3.7.6"
  }
 },
 "nbformat": 4,
 "nbformat_minor": 4
}
