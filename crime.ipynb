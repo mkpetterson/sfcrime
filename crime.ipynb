{
 "cells": [
  {
   "cell_type": "code",
   "execution_count": 145,
   "metadata": {
    "collapsed": true
   },
   "outputs": [],
   "source": [
    "import numpy as np\n",
    "import pandas as pd\n",
    "import scipy.stats as stats\n",
    "import pyspark as ps\n",
    "import pyspark.sql.functions as F\n"
   ]
  },
  {
   "cell_type": "code",
   "execution_count": 12,
   "metadata": {
    "collapsed": true
   },
   "outputs": [],
   "source": [
    "spark = (ps.sql.SparkSession\n",
    "         .builder\n",
    "         .master('local[4]')\n",
    "         .appName('lecture')\n",
    "         .getOrCreate()\n",
    "        )\n",
    "sc = spark.sparkContext"
   ]
  },
  {
   "cell_type": "code",
   "execution_count": 14,
   "metadata": {
    "collapsed": false
   },
   "outputs": [],
   "source": [
    "# Read in as CSV...it's A LOT of data and takes a long time in pandas\n",
    "crime_raw = pd.read_csv('Police_Department_Incident_Reports__Historical_2003_to_May_2018.csv')\n",
    "# crime_raw\n"
   ]
  },
  {
   "cell_type": "code",
   "execution_count": 5,
   "metadata": {
    "collapsed": false
   },
   "outputs": [],
   "source": [
    "# crime_raw.info()"
   ]
  },
  {
   "cell_type": "code",
   "execution_count": 6,
   "metadata": {
    "collapsed": false
   },
   "outputs": [],
   "source": [
    "# crime_raw['Descript'].value_counts()"
   ]
  },
  {
   "cell_type": "code",
   "execution_count": 15,
   "metadata": {
    "collapsed": true
   },
   "outputs": [],
   "source": [
    "# Check out some value counts for each columns\n",
    "columns = crime_raw.columns\n",
    "# for col in columns:\n",
    "#     print(col)\n",
    "#     print(crime_raw[col].value_counts(dropna=False))"
   ]
  },
  {
   "cell_type": "markdown",
   "metadata": {},
   "source": [
    "## Read data in as Spark DF and remove extraneous columns\n",
    "\n",
    "Is there any useful data in SF Find Neighborhoods or Analysis Neighborhoods?"
   ]
  },
  {
   "cell_type": "code",
   "execution_count": 131,
   "metadata": {
    "collapsed": false
   },
   "outputs": [],
   "source": [
    "crime = spark.read.csv('Police_Department_Incident_Reports__Historical_2003_to_May_2018.csv',\n",
    "                        header=True,\n",
    "                        quote='\"',\n",
    "                        sep=',',\n",
    "                        inferSchema=True)\n"
   ]
  },
  {
   "cell_type": "code",
   "execution_count": 132,
   "metadata": {
    "collapsed": false
   },
   "outputs": [
    {
     "name": "stdout",
     "output_type": "stream",
     "text": [
      "root\n",
      " |-- IncidntNum: integer (nullable = true)\n",
      " |-- Category: string (nullable = true)\n",
      " |-- Descript: string (nullable = true)\n",
      " |-- DayOfWeek: string (nullable = true)\n",
      " |-- Date: string (nullable = true)\n",
      " |-- Time: string (nullable = true)\n",
      " |-- PdDistrict: string (nullable = true)\n",
      " |-- Resolution: string (nullable = true)\n",
      " |-- Address: string (nullable = true)\n",
      " |-- X: double (nullable = true)\n",
      " |-- Y: double (nullable = true)\n",
      " |-- Location: string (nullable = true)\n",
      " |-- PdId: long (nullable = true)\n",
      " |-- SF Find Neighborhoods: integer (nullable = true)\n",
      " |-- Current Police Districts: integer (nullable = true)\n",
      " |-- Current Supervisor Districts: integer (nullable = true)\n",
      " |-- Analysis Neighborhoods: integer (nullable = true)\n",
      " |-- DELETE - Fire Prevention Districts: integer (nullable = true)\n",
      " |-- DELETE - Police Districts: integer (nullable = true)\n",
      " |-- DELETE - Supervisor Districts: integer (nullable = true)\n",
      " |-- DELETE - Zip Codes: integer (nullable = true)\n",
      " |-- DELETE - Neighborhoods: integer (nullable = true)\n",
      " |-- DELETE - 2017 Fix It Zones: integer (nullable = true)\n",
      " |-- Civic Center Harm Reduction Project Boundary: integer (nullable = true)\n",
      " |-- Fix It Zones as of 2017-11-06 : integer (nullable = true)\n",
      " |-- DELETE - HSOC Zones: integer (nullable = true)\n",
      " |-- Fix It Zones as of 2018-02-07: integer (nullable = true)\n",
      " |-- CBD, BID and GBD Boundaries as of 2017: integer (nullable = true)\n",
      " |-- Areas of Vulnerability, 2016: integer (nullable = true)\n",
      " |-- Central Market/Tenderloin Boundary: integer (nullable = true)\n",
      " |-- Central Market/Tenderloin Boundary Polygon - Updated: integer (nullable = true)\n",
      " |-- HSOC Zones as of 2018-06-05: integer (nullable = true)\n",
      " |-- OWED Public Spaces: integer (nullable = true)\n",
      "\n"
     ]
    }
   ],
   "source": [
    "crime.printSchema()"
   ]
  },
  {
   "cell_type": "code",
   "execution_count": 133,
   "metadata": {
    "collapsed": false
   },
   "outputs": [
    {
     "name": "stdout",
     "output_type": "stream",
     "text": [
      "Index(['IncidntNum', 'Category', 'Descript', 'DayOfWeek', 'Date', 'Time',\n",
      "       'PdDistrict', 'Resolution', 'Address', 'X', 'Y', 'Location', 'PdId',\n",
      "       'SF Find Neighborhoods', 'Current Police Districts',\n",
      "       'Current Supervisor Districts', 'Analysis Neighborhoods',\n",
      "       'DELETE - Fire Prevention Districts', 'DELETE - Police Districts',\n",
      "       'DELETE - Supervisor Districts', 'DELETE - Zip Codes',\n",
      "       'DELETE - Neighborhoods', 'DELETE - 2017 Fix It Zones',\n",
      "       'Civic Center Harm Reduction Project Boundary',\n",
      "       'Fix It Zones as of 2017-11-06 ', 'DELETE - HSOC Zones',\n",
      "       'Fix It Zones as of 2018-02-07',\n",
      "       'CBD, BID and GBD Boundaries as of 2017',\n",
      "       'Areas of Vulnerability, 2016', 'Central Market/Tenderloin Boundary',\n",
      "       'Central Market/Tenderloin Boundary Polygon - Updated',\n",
      "       'HSOC Zones as of 2018-06-05', 'OWED Public Spaces'],\n",
      "      dtype='object')\n"
     ]
    },
    {
     "data": {
      "text/plain": [
       "['DELETE - Fire Prevention Districts',\n",
       " 'DELETE - Police Districts',\n",
       " 'DELETE - Supervisor Districts',\n",
       " 'DELETE - Zip Codes',\n",
       " 'DELETE - Neighborhoods',\n",
       " 'DELETE - 2017 Fix It Zones',\n",
       " 'Civic Center Harm Reduction Project Boundary',\n",
       " 'Fix It Zones as of 2017-11-06 ',\n",
       " 'DELETE - HSOC Zones',\n",
       " 'Fix It Zones as of 2018-02-07',\n",
       " 'CBD, BID and GBD Boundaries as of 2017',\n",
       " 'Areas of Vulnerability, 2016',\n",
       " 'Central Market/Tenderloin Boundary',\n",
       " 'Central Market/Tenderloin Boundary Polygon - Updated',\n",
       " 'HSOC Zones as of 2018-06-05',\n",
       " 'OWED Public Spaces',\n",
       " 'IncidntNum',\n",
       " 'PdId',\n",
       " 'Current Police Districts',\n",
       " 'Current Supervisor Districts',\n",
       " 'Location',\n",
       " 'SF Find Neighborhoods',\n",
       " 'Analysis Neighborhoods']"
      ]
     },
     "execution_count": 133,
     "metadata": {},
     "output_type": "execute_result"
    }
   ],
   "source": [
    "# Drop additional columns\n",
    "print(columns)\n",
    "columns_to_drop = list(columns[17:])\n",
    "columns_to_drop += ['IncidntNum', 'PdId', 'Current Police Districts',\n",
    "                    'Current Supervisor Districts','Location', 'SF Find Neighborhoods',\n",
    "                    'Analysis Neighborhoods']\n",
    "columns_to_drop"
   ]
  },
  {
   "cell_type": "code",
   "execution_count": 134,
   "metadata": {
    "collapsed": false
   },
   "outputs": [
    {
     "name": "stdout",
     "output_type": "stream",
     "text": [
      "root\n",
      " |-- Category: string (nullable = true)\n",
      " |-- Descript: string (nullable = true)\n",
      " |-- DayOfWeek: string (nullable = true)\n",
      " |-- Date: string (nullable = true)\n",
      " |-- Time: string (nullable = true)\n",
      " |-- PdDistrict: string (nullable = true)\n",
      " |-- Resolution: string (nullable = true)\n",
      " |-- Address: string (nullable = true)\n",
      " |-- X: double (nullable = true)\n",
      " |-- Y: double (nullable = true)\n",
      "\n"
     ]
    }
   ],
   "source": [
    "for col in columns_to_drop:\n",
    "    crime = crime.drop(col)\n",
    "crime.printSchema()"
   ]
  },
  {
   "cell_type": "markdown",
   "metadata": {
    "collapsed": false
   },
   "source": [
    "## Now drop all rows with a NaN in them. \n",
    "Apparently there aren't values with nan in them...Already cleaned after removing unnecessary columns"
   ]
  },
  {
   "cell_type": "code",
   "execution_count": 135,
   "metadata": {
    "collapsed": false
   },
   "outputs": [],
   "source": [
    "num_rows = crime.count()"
   ]
  },
  {
   "cell_type": "code",
   "execution_count": 136,
   "metadata": {
    "collapsed": false
   },
   "outputs": [
    {
     "data": {
      "text/plain": [
       "2215024"
      ]
     },
     "execution_count": 136,
     "metadata": {},
     "output_type": "execute_result"
    }
   ],
   "source": [
    "crime = crime.dropna(how='any')\n",
    "crime.count()"
   ]
  },
  {
   "cell_type": "markdown",
   "metadata": {},
   "source": [
    "## Figure out which categories and descriptions fit auto theft. "
   ]
  },
  {
   "cell_type": "code",
   "execution_count": 137,
   "metadata": {
    "collapsed": true
   },
   "outputs": [
    {
     "name": "stdout",
     "output_type": "stream",
     "text": [
      "+--------------------+------+\n",
      "|            Category| count|\n",
      "+--------------------+------+\n",
      "|       LARCENY/THEFT|480448|\n",
      "|      OTHER OFFENSES|309358|\n",
      "|        NON-CRIMINAL|238323|\n",
      "|             ASSAULT|194694|\n",
      "|       VEHICLE THEFT|126602|\n",
      "|       DRUG/NARCOTIC|119628|\n",
      "|           VANDALISM|116059|\n",
      "|            WARRANTS|101379|\n",
      "|            BURGLARY| 91543|\n",
      "|      SUSPICIOUS OCC| 80444|\n",
      "|      MISSING PERSON| 64961|\n",
      "|             ROBBERY| 55867|\n",
      "|               FRAUD| 41542|\n",
      "|     SECONDARY CODES| 25831|\n",
      "|FORGERY/COUNTERFE...| 23050|\n",
      "|         WEAPON LAWS| 22234|\n",
      "|            TRESPASS| 19449|\n",
      "|        PROSTITUTION| 16701|\n",
      "|     STOLEN PROPERTY| 11891|\n",
      "|SEX OFFENSES, FOR...| 11742|\n",
      "+--------------------+------+\n",
      "only showing top 20 rows\n",
      "\n",
      "+--------------------+------+\n",
      "|            Descript| count|\n",
      "+--------------------+------+\n",
      "|GRAND THEFT FROM ...|178836|\n",
      "|       LOST PROPERTY| 77956|\n",
      "|             BATTERY| 67654|\n",
      "|   STOLEN AUTOMOBILE| 64763|\n",
      "|DRIVERS LICENSE, ...| 62534|\n",
      "|AIDED CASE, MENTA...| 56313|\n",
      "|      WARRANT ARREST| 56230|\n",
      "|SUSPICIOUS OCCURR...| 52490|\n",
      "|PETTY THEFT FROM ...| 51946|\n",
      "|PETTY THEFT OF PR...| 46114|\n",
      "|MALICIOUS MISCHIE...| 45238|\n",
      "|MALICIOUS MISCHIE...| 44290|\n",
      "|   TRAFFIC VIOLATION| 38105|\n",
      "|THREATS AGAINST LIFE| 34670|\n",
      "|      FOUND PROPERTY| 33383|\n",
      "|GRAND THEFT OF PR...| 29420|\n",
      "|ENROUTE TO OUTSID...| 29104|\n",
      "|PETTY THEFT FROM ...| 25728|\n",
      "|        FOUND PERSON| 24539|\n",
      "|PETTY THEFT SHOPL...| 24478|\n",
      "+--------------------+------+\n",
      "only showing top 20 rows\n",
      "\n"
     ]
    }
   ],
   "source": [
    "crime.groupBy('Category').count().orderBy('count', ascending=False).show()\n",
    "crime.groupBy('Descript').count().orderBy('count', ascending=False).show()"
   ]
  },
  {
   "cell_type": "code",
   "execution_count": 154,
   "metadata": {
    "collapsed": false
   },
   "outputs": [
    {
     "data": {
      "text/plain": [
       "2215024"
      ]
     },
     "execution_count": 154,
     "metadata": {},
     "output_type": "execute_result"
    }
   ],
   "source": [
    "# Turn date into something useable\n",
    "from pyspark.sql.functions import unix_timestamp, from_unixtime\n",
    "\n",
    "crime2 = crime.withColumn('Date',from_unixtime(unix_timestamp('Date', 'MM/dd/yyy')).alias('date'))\n",
    "crime2.count()"
   ]
  },
  {
   "cell_type": "code",
   "execution_count": 158,
   "metadata": {
    "collapsed": false
   },
   "outputs": [],
   "source": [
    "# Create dataframe for each year\n",
    "crime_2003 = crime2.filter((F.col('Date') > '2002-12-31') & (F.col('Date') < '2004-01-01'))\n",
    "crime_2004 = crime2.filter((F.col('Date') > '2003-12-31') & (F.col('Date') < '2005-01-01'))\n",
    "crime_2005 = crime2.filter((F.col('Date') > '2004-12-31') & (F.col('Date') < '2006-01-01'))\n",
    "crime_2006 = crime2.filter((F.col('Date') > '2005-12-31') & (F.col('Date') < '2007-01-01'))\n",
    "crime_2007 = crime2.filter((F.col('Date') > '2006-12-31') & (F.col('Date') < '2008-01-01'))\n",
    "crime_2008 = crime2.filter((F.col('Date') > '2007-12-31') & (F.col('Date') < '2009-01-01'))\n",
    "crime_2009 = crime2.filter((F.col('Date') > '2008-12-31') & (F.col('Date') < '2010-01-01'))\n",
    "crime_2010 = crime2.filter((F.col('Date') > '2009-12-31') & (F.col('Date') < '2011-01-01'))\n",
    "crime_2011 = crime2.filter((F.col('Date') > '2010-12-31') & (F.col('Date') < '2012-01-01'))\n",
    "crime_2012 = crime2.filter((F.col('Date') > '2011-12-31') & (F.col('Date') < '2013-01-01'))\n",
    "crime_2013 = crime2.filter((F.col('Date') > '2012-12-31') & (F.col('Date') < '2014-01-01'))\n",
    "crime_2014 = crime2.filter((F.col('Date') > '2013-12-31') & (F.col('Date') < '2015-01-01'))\n",
    "crime_2015 = crime2.filter((F.col('Date') > '2014-12-31') & (F.col('Date') < '2016-01-01'))\n",
    "crime_2016 = crime2.filter((F.col('Date') > '2015-12-31') & (F.col('Date') < '2017-01-01'))\n",
    "crime_2017 = crime2.filter((F.col('Date') > '2016-12-31') & (F.col('Date') < '2018-01-01'))\n"
   ]
  },
  {
   "cell_type": "code",
   "execution_count": 161,
   "metadata": {
    "collapsed": false
   },
   "outputs": [
    {
     "data": {
      "text/plain": [
       "{'2003': 149176,\n",
       " '2004': 148471,\n",
       " '2005': 142591,\n",
       " '2006': 138247,\n",
       " '2007': 138006,\n",
       " '2008': 141670,\n",
       " '2009': 140215,\n",
       " '2010': 133868,\n",
       " '2011': 133094,\n",
       " '2012': 141267,\n",
       " '2013': 153166,\n",
       " '2014': 150518,\n",
       " '2015': 156927,\n",
       " '2016': 151297,\n",
       " '2017': 155254}"
      ]
     },
     "execution_count": 161,
     "metadata": {},
     "output_type": "execute_result"
    }
   ],
   "source": [
    "crime_years = [crime_2003, crime_2004, crime_2005, crime_2006, crime_2007, crime_2008, \n",
    "               crime_2009, crime_2010, crime_2011, crime_2012, crime_2013, crime_2014, \n",
    "               crime_2015, crime_2016, crime_2017]\n",
    "\n",
    "years = ['2003', '2004', '2005', '2006', '2007', '2008', '2009', '2010', '2011', '2012',\n",
    "         '2013', '2014', '2015', '2016', '2017']\n",
    "\n",
    "crimes_per_year = {}\n",
    "\n",
    "for dataset, year in zip(crime_years,years):\n",
    "    crimes_per_year[year] = dataset.count()\n",
    "\n",
    "crimes_per_year"
   ]
  },
  {
   "cell_type": "code",
   "execution_count": null,
   "metadata": {
    "collapsed": false
   },
   "outputs": [],
   "source": []
  },
  {
   "cell_type": "markdown",
   "metadata": {},
   "source": [
    "Split years up: each year gets it's own dataframe. Need to put into SQL table to use date functions"
   ]
  },
  {
   "cell_type": "code",
   "execution_count": 139,
   "metadata": {
    "collapsed": false
   },
   "outputs": [],
   "source": [
    "crime2.createOrReplaceTempView('crime')"
   ]
  },
  {
   "cell_type": "code",
   "execution_count": 140,
   "metadata": {
    "collapsed": false
   },
   "outputs": [
    {
     "name": "stdout",
     "output_type": "stream",
     "text": [
      "+-------------------+\n",
      "|               date|\n",
      "+-------------------+\n",
      "|2004-07-02 00:00:00|\n",
      "|2004-07-27 00:00:00|\n",
      "|2006-11-19 00:00:00|\n",
      "|2005-08-13 00:00:00|\n",
      "|2009-07-28 00:00:00|\n",
      "|2011-12-24 00:00:00|\n",
      "|2006-05-13 00:00:00|\n",
      "|2011-04-14 00:00:00|\n",
      "|2013-11-28 00:00:00|\n",
      "|2009-03-30 00:00:00|\n",
      "|2005-08-20 00:00:00|\n",
      "|2003-09-07 00:00:00|\n",
      "|2006-10-09 00:00:00|\n",
      "|2005-03-23 00:00:00|\n",
      "|2012-06-05 00:00:00|\n",
      "|2005-10-06 00:00:00|\n",
      "|2012-09-24 00:00:00|\n",
      "|2005-04-20 00:00:00|\n",
      "|2011-10-06 00:00:00|\n",
      "|2007-12-20 00:00:00|\n",
      "+-------------------+\n",
      "\n"
     ]
    }
   ],
   "source": [
    "query = '''SELECT date\n",
    "           FROM crime\n",
    "           WHERE date < '2014-01-01'\n",
    "           LIMIT 20'''\n",
    "spark.sql(query).show()"
   ]
  },
  {
   "cell_type": "code",
   "execution_count": 144,
   "metadata": {
    "collapsed": false
   },
   "outputs": [
    {
     "name": "stdout",
     "output_type": "stream",
     "text": [
      "+-------------------+\n",
      "|               date|\n",
      "+-------------------+\n",
      "|2014-09-23 00:00:00|\n",
      "|2015-01-15 00:00:00|\n",
      "|2014-07-30 00:00:00|\n",
      "|2015-05-02 00:00:00|\n",
      "|2004-07-02 00:00:00|\n",
      "|2004-07-27 00:00:00|\n",
      "|2006-11-19 00:00:00|\n",
      "|2005-08-13 00:00:00|\n",
      "|2009-07-28 00:00:00|\n",
      "|2011-12-24 00:00:00|\n",
      "|2006-05-13 00:00:00|\n",
      "|2011-04-14 00:00:00|\n",
      "|2013-11-28 00:00:00|\n",
      "|2009-03-30 00:00:00|\n",
      "|2005-08-20 00:00:00|\n",
      "|2003-09-07 00:00:00|\n",
      "|2006-10-09 00:00:00|\n",
      "|2005-03-23 00:00:00|\n",
      "|2012-06-05 00:00:00|\n",
      "|2005-10-06 00:00:00|\n",
      "+-------------------+\n",
      "only showing top 20 rows\n",
      "\n"
     ]
    }
   ],
   "source": [
    "crime2.select('date').show()"
   ]
  },
  {
   "cell_type": "code",
   "execution_count": null,
   "metadata": {
    "collapsed": true
   },
   "outputs": [],
   "source": []
  },
  {
   "cell_type": "code",
   "execution_count": null,
   "metadata": {
    "collapsed": true
   },
   "outputs": [],
   "source": []
  },
  {
   "cell_type": "code",
   "execution_count": null,
   "metadata": {
    "collapsed": true
   },
   "outputs": [],
   "source": []
  },
  {
   "cell_type": "code",
   "execution_count": null,
   "metadata": {
    "collapsed": true
   },
   "outputs": [],
   "source": []
  },
  {
   "cell_type": "code",
   "execution_count": null,
   "metadata": {
    "collapsed": true
   },
   "outputs": [],
   "source": []
  },
  {
   "cell_type": "code",
   "execution_count": null,
   "metadata": {
    "collapsed": true
   },
   "outputs": [],
   "source": []
  },
  {
   "cell_type": "code",
   "execution_count": null,
   "metadata": {
    "collapsed": true
   },
   "outputs": [],
   "source": []
  }
 ],
 "metadata": {
  "kernelspec": {
   "display_name": "Python 3",
   "language": "python",
   "name": "python3"
  },
  "language_info": {
   "codemirror_mode": {
    "name": "ipython",
    "version": 3
   },
   "file_extension": ".py",
   "mimetype": "text/x-python",
   "name": "python",
   "nbconvert_exporter": "python",
   "pygments_lexer": "ipython3",
   "version": "3.5.2"
  }
 },
 "nbformat": 4,
 "nbformat_minor": 4
}
