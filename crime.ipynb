{
 "cells": [
  {
   "cell_type": "code",
   "execution_count": 1,
   "metadata": {
    "collapsed": true
   },
   "outputs": [],
   "source": [
    "import numpy as np\n",
    "import pandas as pd\n",
    "import scipy.stats as stats\n",
    "import pyspark as ps\n",
    "import pyspark.sql.functions as F\n"
   ]
  },
  {
   "cell_type": "code",
   "execution_count": 135,
   "metadata": {
    "collapsed": false
   },
   "outputs": [],
   "source": [
    "# Helper functions put here. Errors with using pyspark functions in helper.py\n",
    "\n",
    "def auto_theft_filter(df):\n",
    "    \"\"\" Returns pandas dataframe filtered on grand and petty theft from vehicles\n",
    "    \n",
    "    Inputs:\n",
    "    spark dataframe\n",
    "    \n",
    "    Returns:\n",
    "    list containing various metrics, including:\n",
    "    - total crime counts\n",
    "    - petty and grand theft counts (from autos)\n",
    "    - total car theft counts\n",
    "    - fraction of car thefts relative to all crime\n",
    "    - total resolved crime counts\n",
    "    - petty and grand theft resolved counts\n",
    "    - fraction of resolved car thefts relative to all resolved crime\n",
    "        \n",
    "    \"\"\"    \n",
    "    total_counts = df.count()\n",
    "    \n",
    "    # Car info\n",
    "    petty, petty_counts, grand, grand_counts = auto_counts(df)\n",
    "    \n",
    "    total_car_counts = petty_counts + grand_counts\n",
    "    \n",
    "    auto_fraction = round((petty_counts + grand_counts)/df.count(),5)\n",
    "    \n",
    "    total_resolved = resolution_counts(df)\n",
    "    \n",
    "    petty_resolved = resolution_counts(petty)\n",
    "    \n",
    "    grand_resolved = resolution_counts(grand)\n",
    "    \n",
    "    auto_fract_resolved = round((petty_resolved+grand_resolved)/total_resolved, 5)\n",
    "    \n",
    "    \n",
    "    series = list([total_counts, petty_counts, grand_counts, total_car_counts, \n",
    "                   auto_fraction, total_resolved, petty_resolved, grand_resolved, \n",
    "                   auto_fract_resolved])\n",
    "        \n",
    "    return series\n",
    "\n",
    "\n",
    "\n",
    "def auto_counts(df):\n",
    "    \"\"\" Returns counts for petty and grand theft from autos\"\"\"\n",
    "\n",
    "    petty = df.filter((F.col('Descript') == \"PETTY THEFT FROM LOCKED AUTO\") |\n",
    "                         (F.col('Descript') == \"PETTY THEFT FROM UNLOCKED AUTO\"))\n",
    "    petty_counts = petty.count()\n",
    "    \n",
    "    \n",
    "    grand = df.filter((F.col('Descript') == \"GRAND THEFT FROM LOCKED AUTO\") |\n",
    "                             (F.col('Descript') == \"GRAND THEFT FROM UNLOCKED AUTO\"))\n",
    "    grand_counts = grand.count()\n",
    "\n",
    "    return petty, petty_counts, grand, grand_counts\n",
    "\n",
    "\n",
    "def resolution_counts(df):\n",
    "    \"\"\"Counts the 'resolution' of crimes given a dataframe. Also computes\n",
    "    the fraction of resolved crime for auto theft realtive to other crimes\n",
    "    \n",
    "    Inputs\n",
    "    spark dataframe\n",
    "    \n",
    "    Returns\n",
    "    counts of \"resolved\" crime\n",
    "         \n",
    "    \"\"\"\n",
    "    \n",
    "    return df.filter((F.col('Resolution') != \"NONE\")).count()\n",
    "    \n",
    "\n",
    "\n",
    "def auto_to_pandas(df):\n",
    "    \"\"\"Returns a panda dataframe\"\"\"\n",
    "    \n",
    "    df_filtered = df.filter((F.col('Descript') == \"GRAND THEFT FROM LOCKED AUTO\") | \n",
    "                  (F.col('Descript') == \"PETTY THEFT FROM LOCKED AUTO\") |\n",
    "                  (F.col('Descript') == \"GRAND THEFT FROM UNLOCKED AUTO\") | \n",
    "                  (F.col('Descript') == \"PETTY THEFT FROM UNLOCKED AUTO\"))\n",
    "    \n",
    "    return df_filtered.toPandas()    \n",
    "    \n",
    "    \n",
    "    \n",
    "def mission_filter(df):\n",
    "    \"\"\"Filters out regions inside or outside the Mission area\n",
    "    \n",
    "    Inputs\n",
    "    spark dataframe\n",
    "    \n",
    "    Returns\n",
    "    counts in the mission vs outside the mission\n",
    "    \"\"\"\n",
    "    # Define boundary of Mission District (16th & Guerro to 24th & Potrero)\n",
    "    x_min = -122.424047\n",
    "    x_max = -122.406339\n",
    "    \n",
    "    y_min = 37.753016\n",
    "    y_max = 37.764775\n",
    "    \n",
    "    \n",
    "    mission = df.filter((F.col('X') >= x_min) &\n",
    "                           (F.col('X') <= x_max) &\n",
    "                           (F.col('Y') >= y_min) &\n",
    "                           (F.col('Y') <= y_max))\n",
    "    \n",
    "    in_mission = mission.count()\n",
    "    out_mission = df.count() - in_mission\n",
    "    total_counts = df.count()\n",
    "    \n",
    "    # Looking at violent counts in mission vs outside mission\n",
    "    mv_count, mnon_v_counts, mratio = violent_counts(mission)\n",
    "    \n",
    "    v_count, non_v_counts, fraction = violent_counts(df)\n",
    "    \n",
    "    v_ex_mission = v_count - mv_count\n",
    "    nonv_ex_mission = non_v_counts - mnon_v_counts\n",
    "       \n",
    "    \n",
    "    return [total_counts, in_mission, mv_count, mnon_v_counts, v_ex_mission, \n",
    "           nonv_ex_mission, mv_count/in_mission, v_count/total_counts] \n",
    " \n",
    "    \n",
    "def violent_counts(df):\n",
    "    \"\"\" Returns the violent and non-violent crime counts\n",
    "    \n",
    "    Inputs\n",
    "    spark dataframe\n",
    "    \n",
    "    Returns\n",
    "    counts for violent, non-violent, and ratio    \n",
    "    \n",
    "    \"\"\"\n",
    "    \n",
    "    total_counts = df.count()\n",
    "    \n",
    "    violent = df.filter((F.col('Category') == 'ASSAULT') |\n",
    "                        (F.col('Category') == 'SEX OFFENSES, FORCIBLE') |\n",
    "                        (F.col('Category') == 'ROBBERY') |\n",
    "                        (F.col('Category') == 'KIDNAPPING') |\n",
    "                        (F.col('Category') == 'ARSON'))\n",
    "\n",
    "    violent_count = violent.count()\n",
    "    non_violent_counts = crime_2013.count() - violent_count   \n",
    "    fraction_violent = violent_count/total_counts\n",
    "\n",
    "    return violent_count, non_violent_counts, fraction_violent  \n",
    "\n",
    "        \n",
    "def save_csv(df, filename):\n",
    "    \"\"\"Saves spark df as a csv so that I can read it into a pandas df in another notebook\n",
    "    \n",
    "    Inputs:\n",
    "    spark dataframe\n",
    "    \n",
    "    Returns:\n",
    "    saved csv file\n",
    "    \n",
    "    \"\"\"\n",
    "    path = 'year_data/'+filename\n",
    "    df_pd = df.toPandas()\n",
    "    df_pd.to_csv(path)\n",
    "    \n",
    "    return None\n",
    "    "
   ]
  },
  {
   "cell_type": "code",
   "execution_count": 31,
   "metadata": {
    "collapsed": true
   },
   "outputs": [],
   "source": [
    "spark = (ps.sql.SparkSession\n",
    "         .builder\n",
    "         .master('local[4]')\n",
    "         .appName('lecture')\n",
    "         .getOrCreate()\n",
    "        )\n",
    "sc = spark.sparkContext"
   ]
  },
  {
   "cell_type": "code",
   "execution_count": 4,
   "metadata": {
    "collapsed": false
   },
   "outputs": [],
   "source": [
    "# Read in as CSV...it's A LOT of data and takes a long time in pandas\n",
    "crime_raw = pd.read_csv('Police_Department_Incident_Reports__Historical_2003_to_May_2018.csv')\n",
    "# crime_raw\n"
   ]
  },
  {
   "cell_type": "code",
   "execution_count": 5,
   "metadata": {
    "collapsed": false,
    "scrolled": true
   },
   "outputs": [
    {
     "name": "stdout",
     "output_type": "stream",
     "text": [
      "<class 'pandas.core.frame.DataFrame'>\n",
      "RangeIndex: 2215024 entries, 0 to 2215023\n",
      "Data columns (total 33 columns):\n",
      "IncidntNum                                              int64\n",
      "Category                                                object\n",
      "Descript                                                object\n",
      "DayOfWeek                                               object\n",
      "Date                                                    object\n",
      "Time                                                    object\n",
      "PdDistrict                                              object\n",
      "Resolution                                              object\n",
      "Address                                                 object\n",
      "X                                                       float64\n",
      "Y                                                       float64\n",
      "Location                                                object\n",
      "PdId                                                    int64\n",
      "SF Find Neighborhoods                                   float64\n",
      "Current Police Districts                                float64\n",
      "Current Supervisor Districts                            float64\n",
      "Analysis Neighborhoods                                  float64\n",
      "DELETE - Fire Prevention Districts                      float64\n",
      "DELETE - Police Districts                               float64\n",
      "DELETE - Supervisor Districts                           float64\n",
      "DELETE - Zip Codes                                      float64\n",
      "DELETE - Neighborhoods                                  float64\n",
      "DELETE - 2017 Fix It Zones                              float64\n",
      "Civic Center Harm Reduction Project Boundary            float64\n",
      "Fix It Zones as of 2017-11-06                           float64\n",
      "DELETE - HSOC Zones                                     float64\n",
      "Fix It Zones as of 2018-02-07                           float64\n",
      "CBD, BID and GBD Boundaries as of 2017                  float64\n",
      "Areas of Vulnerability, 2016                            float64\n",
      "Central Market/Tenderloin Boundary                      float64\n",
      "Central Market/Tenderloin Boundary Polygon - Updated    float64\n",
      "HSOC Zones as of 2018-06-05                             float64\n",
      "OWED Public Spaces                                      float64\n",
      "dtypes: float64(22), int64(2), object(9)\n",
      "memory usage: 557.7+ MB\n"
     ]
    }
   ],
   "source": [
    "crime_raw.info()"
   ]
  },
  {
   "cell_type": "code",
   "execution_count": 108,
   "metadata": {
    "collapsed": true
   },
   "outputs": [
    {
     "data": {
      "text/plain": [
       "LARCENY/THEFT                  480448\n",
       "OTHER OFFENSES                 309358\n",
       "NON-CRIMINAL                   238323\n",
       "ASSAULT                        194694\n",
       "VEHICLE THEFT                  126602\n",
       "DRUG/NARCOTIC                  119628\n",
       "VANDALISM                      116059\n",
       "WARRANTS                       101379\n",
       "BURGLARY                        91543\n",
       "SUSPICIOUS OCC                  80444\n",
       "MISSING PERSON                  64961\n",
       "ROBBERY                         55867\n",
       "FRAUD                           41542\n",
       "SECONDARY CODES                 25831\n",
       "FORGERY/COUNTERFEITING          23050\n",
       "WEAPON LAWS                     22234\n",
       "TRESPASS                        19449\n",
       "PROSTITUTION                    16701\n",
       "STOLEN PROPERTY                 11891\n",
       "SEX OFFENSES, FORCIBLE          11742\n",
       "DISORDERLY CONDUCT              10040\n",
       "DRUNKENNESS                      9826\n",
       "RECOVERED VEHICLE                8716\n",
       "DRIVING UNDER THE INFLUENCE      5672\n",
       "KIDNAPPING                       5346\n",
       "RUNAWAY                          4440\n",
       "LIQUOR LAWS                      4083\n",
       "ARSON                            3931\n",
       "EMBEZZLEMENT                     2988\n",
       "LOITERING                        2430\n",
       "SUICIDE                          1292\n",
       "FAMILY OFFENSES                  1183\n",
       "BAD CHECKS                        925\n",
       "BRIBERY                           813\n",
       "EXTORTION                         741\n",
       "SEX OFFENSES, NON FORCIBLE        431\n",
       "GAMBLING                          348\n",
       "PORNOGRAPHY/OBSCENE MAT            59\n",
       "TREA                               14\n",
       "Name: Category, dtype: int64"
      ]
     },
     "execution_count": 108,
     "metadata": {},
     "output_type": "execute_result"
    }
   ],
   "source": [
    "crime_raw['Category'].value_counts()\n",
    "#crime_raw['Y'].isnull().sum()"
   ]
  },
  {
   "cell_type": "code",
   "execution_count": 7,
   "metadata": {
    "collapsed": true
   },
   "outputs": [],
   "source": [
    "# Check out some value counts for each columns\n",
    "columns = crime_raw.columns\n",
    "# for col in columns:\n",
    "#     print(col)\n",
    "#     print(crime_raw[col].value_counts(dropna=False))"
   ]
  },
  {
   "cell_type": "markdown",
   "metadata": {},
   "source": [
    "## Read data in as Spark DF and remove extraneous columns\n",
    "\n",
    "Is there any useful data in SF Find Neighborhoods or Analysis Neighborhoods?"
   ]
  },
  {
   "cell_type": "code",
   "execution_count": 8,
   "metadata": {
    "collapsed": false
   },
   "outputs": [],
   "source": [
    "crime = spark.read.csv('Police_Department_Incident_Reports__Historical_2003_to_May_2018.csv',\n",
    "                        header=True,\n",
    "                        quote='\"',\n",
    "                        sep=',',\n",
    "                        inferSchema=True)\n"
   ]
  },
  {
   "cell_type": "code",
   "execution_count": 9,
   "metadata": {
    "collapsed": true
   },
   "outputs": [
    {
     "name": "stdout",
     "output_type": "stream",
     "text": [
      "root\n",
      " |-- IncidntNum: integer (nullable = true)\n",
      " |-- Category: string (nullable = true)\n",
      " |-- Descript: string (nullable = true)\n",
      " |-- DayOfWeek: string (nullable = true)\n",
      " |-- Date: string (nullable = true)\n",
      " |-- Time: string (nullable = true)\n",
      " |-- PdDistrict: string (nullable = true)\n",
      " |-- Resolution: string (nullable = true)\n",
      " |-- Address: string (nullable = true)\n",
      " |-- X: double (nullable = true)\n",
      " |-- Y: double (nullable = true)\n",
      " |-- Location: string (nullable = true)\n",
      " |-- PdId: long (nullable = true)\n",
      " |-- SF Find Neighborhoods: integer (nullable = true)\n",
      " |-- Current Police Districts: integer (nullable = true)\n",
      " |-- Current Supervisor Districts: integer (nullable = true)\n",
      " |-- Analysis Neighborhoods: integer (nullable = true)\n",
      " |-- DELETE - Fire Prevention Districts: integer (nullable = true)\n",
      " |-- DELETE - Police Districts: integer (nullable = true)\n",
      " |-- DELETE - Supervisor Districts: integer (nullable = true)\n",
      " |-- DELETE - Zip Codes: integer (nullable = true)\n",
      " |-- DELETE - Neighborhoods: integer (nullable = true)\n",
      " |-- DELETE - 2017 Fix It Zones: integer (nullable = true)\n",
      " |-- Civic Center Harm Reduction Project Boundary: integer (nullable = true)\n",
      " |-- Fix It Zones as of 2017-11-06 : integer (nullable = true)\n",
      " |-- DELETE - HSOC Zones: integer (nullable = true)\n",
      " |-- Fix It Zones as of 2018-02-07: integer (nullable = true)\n",
      " |-- CBD, BID and GBD Boundaries as of 2017: integer (nullable = true)\n",
      " |-- Areas of Vulnerability, 2016: integer (nullable = true)\n",
      " |-- Central Market/Tenderloin Boundary: integer (nullable = true)\n",
      " |-- Central Market/Tenderloin Boundary Polygon - Updated: integer (nullable = true)\n",
      " |-- HSOC Zones as of 2018-06-05: integer (nullable = true)\n",
      " |-- OWED Public Spaces: integer (nullable = true)\n",
      "\n"
     ]
    }
   ],
   "source": [
    "crime.printSchema()"
   ]
  },
  {
   "cell_type": "code",
   "execution_count": 10,
   "metadata": {
    "collapsed": true
   },
   "outputs": [
    {
     "name": "stdout",
     "output_type": "stream",
     "text": [
      "Index(['IncidntNum', 'Category', 'Descript', 'DayOfWeek', 'Date', 'Time',\n",
      "       'PdDistrict', 'Resolution', 'Address', 'X', 'Y', 'Location', 'PdId',\n",
      "       'SF Find Neighborhoods', 'Current Police Districts',\n",
      "       'Current Supervisor Districts', 'Analysis Neighborhoods',\n",
      "       'DELETE - Fire Prevention Districts', 'DELETE - Police Districts',\n",
      "       'DELETE - Supervisor Districts', 'DELETE - Zip Codes',\n",
      "       'DELETE - Neighborhoods', 'DELETE - 2017 Fix It Zones',\n",
      "       'Civic Center Harm Reduction Project Boundary',\n",
      "       'Fix It Zones as of 2017-11-06 ', 'DELETE - HSOC Zones',\n",
      "       'Fix It Zones as of 2018-02-07',\n",
      "       'CBD, BID and GBD Boundaries as of 2017',\n",
      "       'Areas of Vulnerability, 2016', 'Central Market/Tenderloin Boundary',\n",
      "       'Central Market/Tenderloin Boundary Polygon - Updated',\n",
      "       'HSOC Zones as of 2018-06-05', 'OWED Public Spaces'],\n",
      "      dtype='object')\n"
     ]
    },
    {
     "data": {
      "text/plain": [
       "['DELETE - Fire Prevention Districts',\n",
       " 'DELETE - Police Districts',\n",
       " 'DELETE - Supervisor Districts',\n",
       " 'DELETE - Zip Codes',\n",
       " 'DELETE - Neighborhoods',\n",
       " 'DELETE - 2017 Fix It Zones',\n",
       " 'Civic Center Harm Reduction Project Boundary',\n",
       " 'Fix It Zones as of 2017-11-06 ',\n",
       " 'DELETE - HSOC Zones',\n",
       " 'Fix It Zones as of 2018-02-07',\n",
       " 'CBD, BID and GBD Boundaries as of 2017',\n",
       " 'Areas of Vulnerability, 2016',\n",
       " 'Central Market/Tenderloin Boundary',\n",
       " 'Central Market/Tenderloin Boundary Polygon - Updated',\n",
       " 'HSOC Zones as of 2018-06-05',\n",
       " 'OWED Public Spaces',\n",
       " 'IncidntNum',\n",
       " 'PdId',\n",
       " 'Current Police Districts',\n",
       " 'Current Supervisor Districts',\n",
       " 'Location',\n",
       " 'SF Find Neighborhoods',\n",
       " 'Analysis Neighborhoods']"
      ]
     },
     "execution_count": 10,
     "metadata": {},
     "output_type": "execute_result"
    }
   ],
   "source": [
    "# Drop additional columns\n",
    "print(columns)\n",
    "columns_to_drop = list(columns[17:])\n",
    "columns_to_drop += ['IncidntNum', 'PdId', 'Current Police Districts',\n",
    "                    'Current Supervisor Districts','Location', 'SF Find Neighborhoods',\n",
    "                    'Analysis Neighborhoods']\n",
    "columns_to_drop"
   ]
  },
  {
   "cell_type": "code",
   "execution_count": 11,
   "metadata": {
    "collapsed": true
   },
   "outputs": [
    {
     "name": "stdout",
     "output_type": "stream",
     "text": [
      "root\n",
      " |-- Category: string (nullable = true)\n",
      " |-- Descript: string (nullable = true)\n",
      " |-- DayOfWeek: string (nullable = true)\n",
      " |-- Date: string (nullable = true)\n",
      " |-- Time: string (nullable = true)\n",
      " |-- PdDistrict: string (nullable = true)\n",
      " |-- Resolution: string (nullable = true)\n",
      " |-- Address: string (nullable = true)\n",
      " |-- X: double (nullable = true)\n",
      " |-- Y: double (nullable = true)\n",
      "\n"
     ]
    }
   ],
   "source": [
    "for col in columns_to_drop:\n",
    "    crime = crime.drop(col)\n",
    "crime.printSchema()"
   ]
  },
  {
   "cell_type": "markdown",
   "metadata": {
    "collapsed": false
   },
   "source": [
    "## Now drop all rows with a NaN in them. \n",
    "Apparently there aren't values with nan in them...Already cleaned after removing unnecessary columns"
   ]
  },
  {
   "cell_type": "code",
   "execution_count": 12,
   "metadata": {
    "collapsed": false
   },
   "outputs": [],
   "source": [
    "num_rows = crime.count()"
   ]
  },
  {
   "cell_type": "code",
   "execution_count": 13,
   "metadata": {
    "collapsed": false
   },
   "outputs": [
    {
     "data": {
      "text/plain": [
       "2215024"
      ]
     },
     "execution_count": 13,
     "metadata": {},
     "output_type": "execute_result"
    }
   ],
   "source": [
    "crime = crime.dropna(how='any')\n",
    "crime.count()"
   ]
  },
  {
   "cell_type": "markdown",
   "metadata": {},
   "source": [
    "## Figure out which categories and descriptions fit auto theft. "
   ]
  },
  {
   "cell_type": "code",
   "execution_count": 107,
   "metadata": {
    "collapsed": false
   },
   "outputs": [
    {
     "name": "stdout",
     "output_type": "stream",
     "text": [
      "+--------------------+\n",
      "|            Descript|\n",
      "+--------------------+\n",
      "|             BATTERY|\n",
      "|             BATTERY|\n",
      "|             BATTERY|\n",
      "|             BATTERY|\n",
      "|             BATTERY|\n",
      "|             BATTERY|\n",
      "|             BATTERY|\n",
      "|             BATTERY|\n",
      "|THREATS AGAINST LIFE|\n",
      "|ATTEMPTED HOMICID...|\n",
      "|THREATS AGAINST LIFE|\n",
      "|             BATTERY|\n",
      "|CHILD ABUSE (PHYS...|\n",
      "|             BATTERY|\n",
      "|             BATTERY|\n",
      "|             BATTERY|\n",
      "|THREATS AGAINST LIFE|\n",
      "|             BATTERY|\n",
      "|THREATS AGAINST LIFE|\n",
      "|             BATTERY|\n",
      "+--------------------+\n",
      "only showing top 20 rows\n",
      "\n"
     ]
    }
   ],
   "source": [
    "#crime.groupBy('Category').count().orderBy('count', ascending=False).show()\n",
    "#crime.groupBy('Descript').count().orderBy('count', ascending=False).show()\n",
    "crime.filter(F.col('Category') == 'ASSAULT').select('Descript').show(20)"
   ]
  },
  {
   "cell_type": "code",
   "execution_count": 15,
   "metadata": {
    "collapsed": false
   },
   "outputs": [
    {
     "data": {
      "text/plain": [
       "2215024"
      ]
     },
     "execution_count": 15,
     "metadata": {},
     "output_type": "execute_result"
    }
   ],
   "source": [
    "# Turn date into something useable\n",
    "from pyspark.sql.functions import unix_timestamp, from_unixtime\n",
    "\n",
    "crime2 = crime.withColumn('Date',from_unixtime(unix_timestamp('Date', 'MM/dd/yyy')).alias('date'))\n",
    "crime2.count()"
   ]
  },
  {
   "cell_type": "code",
   "execution_count": 16,
   "metadata": {
    "collapsed": false
   },
   "outputs": [],
   "source": [
    "# Create dataframe for each year\n",
    "crime_2003 = crime2.filter((F.col('Date') > '2002-12-31') & (F.col('Date') < '2004-01-01'))\n",
    "crime_2004 = crime2.filter((F.col('Date') > '2003-12-31') & (F.col('Date') < '2005-01-01'))\n",
    "crime_2005 = crime2.filter((F.col('Date') > '2004-12-31') & (F.col('Date') < '2006-01-01'))\n",
    "crime_2006 = crime2.filter((F.col('Date') > '2005-12-31') & (F.col('Date') < '2007-01-01'))\n",
    "crime_2007 = crime2.filter((F.col('Date') > '2006-12-31') & (F.col('Date') < '2008-01-01'))\n",
    "crime_2008 = crime2.filter((F.col('Date') > '2007-12-31') & (F.col('Date') < '2009-01-01'))\n",
    "crime_2009 = crime2.filter((F.col('Date') > '2008-12-31') & (F.col('Date') < '2010-01-01'))\n",
    "crime_2010 = crime2.filter((F.col('Date') > '2009-12-31') & (F.col('Date') < '2011-01-01'))\n",
    "crime_2011 = crime2.filter((F.col('Date') > '2010-12-31') & (F.col('Date') < '2012-01-01'))\n",
    "crime_2012 = crime2.filter((F.col('Date') > '2011-12-31') & (F.col('Date') < '2013-01-01'))\n",
    "crime_2013 = crime2.filter((F.col('Date') > '2012-12-31') & (F.col('Date') < '2014-01-01'))\n",
    "crime_2014 = crime2.filter((F.col('Date') > '2013-12-31') & (F.col('Date') < '2015-01-01'))\n",
    "crime_2015 = crime2.filter((F.col('Date') > '2014-12-31') & (F.col('Date') < '2016-01-01'))\n",
    "crime_2016 = crime2.filter((F.col('Date') > '2015-12-31') & (F.col('Date') < '2017-01-01'))\n",
    "crime_2017 = crime2.filter((F.col('Date') > '2016-12-31') & (F.col('Date') < '2018-01-01'))\n"
   ]
  },
  {
   "cell_type": "code",
   "execution_count": 17,
   "metadata": {
    "collapsed": false
   },
   "outputs": [
    {
     "data": {
      "text/plain": [
       "{'2003': 149176,\n",
       " '2004': 148471,\n",
       " '2005': 142591,\n",
       " '2006': 138247,\n",
       " '2007': 138006,\n",
       " '2008': 141670,\n",
       " '2009': 140215,\n",
       " '2010': 133868,\n",
       " '2011': 133094,\n",
       " '2012': 141267,\n",
       " '2013': 153166,\n",
       " '2014': 150518,\n",
       " '2015': 156927,\n",
       " '2016': 151297,\n",
       " '2017': 155254}"
      ]
     },
     "execution_count": 17,
     "metadata": {},
     "output_type": "execute_result"
    }
   ],
   "source": [
    "crime_years = [crime_2003, crime_2004, crime_2005, crime_2006, crime_2007, crime_2008, \n",
    "               crime_2009, crime_2010, crime_2011, crime_2012, crime_2013, crime_2014, \n",
    "               crime_2015, crime_2016, crime_2017]\n",
    "\n",
    "years = ['2003', '2004', '2005', '2006', '2007', '2008', '2009', '2010', '2011', '2012',\n",
    "         '2013', '2014', '2015', '2016', '2017']\n",
    "\n",
    "crimes_per_year = {}\n",
    "\n",
    "for dataset, year in zip(crime_years,years):\n",
    "    crimes_per_year[year] = dataset.count()\n",
    "\n",
    "crimes_per_year"
   ]
  },
  {
   "cell_type": "code",
   "execution_count": 128,
   "metadata": {
    "collapsed": false
   },
   "outputs": [
    {
     "data": {
      "text/plain": [
       "[153166, 4126, 14578, 18704, 0.12212, 62496, 170, 74, 0.0039]"
      ]
     },
     "execution_count": 128,
     "metadata": {},
     "output_type": "execute_result"
    }
   ],
   "source": [
    "auto_theft_filter(crime_2013)"
   ]
  },
  {
   "cell_type": "code",
   "execution_count": 125,
   "metadata": {
    "collapsed": false
   },
   "outputs": [
    {
     "data": {
      "text/plain": [
       "(18356, 134810, 0.13616200578592091)"
      ]
     },
     "execution_count": 125,
     "metadata": {},
     "output_type": "execute_result"
    }
   ],
   "source": []
  },
  {
   "cell_type": "code",
   "execution_count": 136,
   "metadata": {
    "collapsed": false
   },
   "outputs": [
    {
     "data": {
      "text/plain": [
       "[153166,\n",
       " 8419,\n",
       " 1235,\n",
       " 151931,\n",
       " 17121,\n",
       " -17121,\n",
       " 0.14669200617650552,\n",
       " 0.11984382957053132]"
      ]
     },
     "execution_count": 136,
     "metadata": {},
     "output_type": "execute_result"
    }
   ],
   "source": [
    "mission_filter(crime_2013)"
   ]
  },
  {
   "cell_type": "code",
   "execution_count": 47,
   "metadata": {
    "collapsed": false
   },
   "outputs": [
    {
     "data": {
      "text/plain": [
       "[['2003', 149176, 5276, 6895, 12171, 0.08159, 61933, 138, 179, 0.00512],\n",
       " ['2004', 148471, 4922, 6735, 11657, 0.07851, 58232, 137, 161, 0.00512],\n",
       " ['2005', 142591, 4045, 8989, 13034, 0.09141, 52282, 79, 129, 0.00398],\n",
       " ['2006', 138247, 4604, 10835, 15439, 0.11168, 52823, 156, 158, 0.00594],\n",
       " ['2007', 138006, 3578, 10196, 13774, 0.09981, 57347, 138, 211, 0.00609],\n",
       " ['2008', 141670, 3225, 9273, 12498, 0.08822, 60706, 77, 204, 0.00463],\n",
       " ['2009', 140215, 2587, 9197, 11784, 0.08404, 63067, 66, 181, 0.00392],\n",
       " ['2010', 133868, 1697, 8301, 9998, 0.07469, 58162, 80, 93, 0.00297],\n",
       " ['2011', 133094, 1719, 8890, 10609, 0.07971, 55727, 84, 136, 0.00395],\n",
       " ['2012', 141267, 3058, 10456, 13514, 0.09566, 51030, 100, 68, 0.00329],\n",
       " ['2013', 153166, 4126, 14578, 18704, 0.12212, 62496, 170, 74, 0.0039],\n",
       " ['2014', 150518, 4232, 17375, 21607, 0.14355, 54631, 139, 76, 0.00394],\n",
       " ['2015', 156927, 4968, 20562, 25530, 0.16269, 45798, 134, 74, 0.00454],\n",
       " ['2016', 151297, 4590, 19714, 24304, 0.16064, 42921, 122, 69, 0.00445],\n",
       " ['2017', 155254, 5114, 25685, 30799, 0.19838, 38148, 145, 109, 0.00666]]"
      ]
     },
     "execution_count": 47,
     "metadata": {},
     "output_type": "execute_result"
    }
   ],
   "source": [
    "# Go through all years and calculate grand/petty auto thefts\n",
    "crime_data_by_year = []\n",
    "for year, dataset in zip(years, crime_years):\n",
    "    data = auto_theft_filter(dataset)\n",
    "    data.insert(0,year)\n",
    "    crime_data_by_year.append(data)\n",
    "    \n",
    "crime_data_by_year    "
   ]
  },
  {
   "cell_type": "code",
   "execution_count": 103,
   "metadata": {
    "collapsed": false
   },
   "outputs": [
    {
     "data": {
      "text/plain": [
       "[['2003', 8976, 140200],\n",
       " ['2004', 8906, 139565],\n",
       " ['2005', 8523, 134068],\n",
       " ['2006', 8298, 129949],\n",
       " ['2007', 8260, 129746],\n",
       " ['2008', 9019, 132651],\n",
       " ['2009', 8441, 131774],\n",
       " ['2010', 8009, 125859],\n",
       " ['2011', 7662, 125432],\n",
       " ['2012', 7718, 133549],\n",
       " ['2013', 8419, 144747],\n",
       " ['2014', 8081, 142437],\n",
       " ['2015', 7404, 149523],\n",
       " ['2016', 7649, 143648],\n",
       " ['2017', 8150, 147104]]"
      ]
     },
     "execution_count": 103,
     "metadata": {},
     "output_type": "execute_result"
    }
   ],
   "source": [
    "# Go through all the data and also calculate counts in the Mission vs Outside the mission\n",
    "mission_crime_by_year = []\n",
    "for year, dataset in zip(years, crime_years):\n",
    "    data = mission_filter(dataset)\n",
    "    data.insert(0,year)\n",
    "    mission_crime_by_year.append(data)\n",
    "    \n",
    "mission_crime_by_year"
   ]
  },
  {
   "cell_type": "markdown",
   "metadata": {},
   "source": [
    "## Use SQL to look for similar descriptions and double check counts"
   ]
  },
  {
   "cell_type": "code",
   "execution_count": 21,
   "metadata": {
    "collapsed": false
   },
   "outputs": [],
   "source": [
    "crime_2013.createOrReplaceTempView('crime')"
   ]
  },
  {
   "cell_type": "code",
   "execution_count": 22,
   "metadata": {
    "collapsed": true
   },
   "outputs": [],
   "source": [
    "violent_crime = ['ASSUALT', 'BATTERY', 'ROBBERY', 'VIOLENCE', 'BOMBING', 'MURDER', \n",
    "                 'MANSLAUGHTER',]"
   ]
  },
  {
   "cell_type": "code",
   "execution_count": 23,
   "metadata": {
    "collapsed": false
   },
   "outputs": [],
   "source": [
    "query = '''SELECT DISTINCT(Descript)\n",
    "           FROM crime\n",
    "           WHERE Descript LIKE '%BATTERY%'\n",
    "           '''\n",
    "results_battery = spark.sql(query)"
   ]
  },
  {
   "cell_type": "code",
   "execution_count": 24,
   "metadata": {
    "collapsed": true
   },
   "outputs": [],
   "source": [
    "query_all_theft = '''SELECT COUNT(*)\n",
    "                     FROM crime\n",
    "                     WHERE Descript LIKE '%THEFT%'\n",
    "                     '''\n",
    "results_all_theft = spark.sql(query_all_theft)"
   ]
  },
  {
   "cell_type": "code",
   "execution_count": 26,
   "metadata": {
    "collapsed": false
   },
   "outputs": [],
   "source": [
    "query_auto_theft = '''SELECT COUNT(*)\n",
    "                 FROM crime\n",
    "                 WHERE Descript LIKE '%GRAND THEFT FROM LOCKED AUTO%'\n",
    "                 OR Descript LIKE '%PETTY THEFT FROM LOCKED AUTO%'\n",
    "                 OR Descript LIKE '%GRAND THEFT FROM UNLOCKED AUTO%'\n",
    "                 OR Descript LIKE '%PETTY THEFT FROM UNLOCKED AUTO%'\n",
    "                 '''\n",
    "results_auto_theft = spark.sql(query_auto_theft)"
   ]
  },
  {
   "cell_type": "code",
   "execution_count": 263,
   "metadata": {
    "collapsed": false
   },
   "outputs": [
    {
     "name": "stdout",
     "output_type": "stream",
     "text": [
      "+--------+\n",
      "|count(1)|\n",
      "+--------+\n",
      "|   18704|\n",
      "+--------+\n",
      "\n"
     ]
    }
   ],
   "source": [
    "#results_petty.take(30)\n",
    "#results_battery.take(30)\n",
    "results_theft.show()\n",
    "#results_all_theft.show()"
   ]
  },
  {
   "cell_type": "code",
   "execution_count": null,
   "metadata": {
    "collapsed": true
   },
   "outputs": [],
   "source": []
  },
  {
   "cell_type": "code",
   "execution_count": null,
   "metadata": {
    "collapsed": true
   },
   "outputs": [],
   "source": []
  },
  {
   "cell_type": "code",
   "execution_count": null,
   "metadata": {
    "collapsed": true
   },
   "outputs": [],
   "source": []
  },
  {
   "cell_type": "code",
   "execution_count": null,
   "metadata": {
    "collapsed": true
   },
   "outputs": [],
   "source": []
  },
  {
   "cell_type": "code",
   "execution_count": null,
   "metadata": {
    "collapsed": true
   },
   "outputs": [],
   "source": []
  },
  {
   "cell_type": "code",
   "execution_count": null,
   "metadata": {
    "collapsed": true
   },
   "outputs": [],
   "source": []
  }
 ],
 "metadata": {
  "kernelspec": {
   "display_name": "Python 3",
   "language": "python",
   "name": "python3"
  },
  "language_info": {
   "codemirror_mode": {
    "name": "ipython",
    "version": 3
   },
   "file_extension": ".py",
   "mimetype": "text/x-python",
   "name": "python",
   "nbconvert_exporter": "python",
   "pygments_lexer": "ipython3",
   "version": "3.5.2"
  }
 },
 "nbformat": 4,
 "nbformat_minor": 4
}
