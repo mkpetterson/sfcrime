{
 "cells": [
  {
   "cell_type": "code",
   "execution_count": 145,
   "metadata": {
    "collapsed": true
   },
   "outputs": [],
   "source": [
    "import numpy as np\n",
    "import pandas as pd\n",
    "import scipy.stats as stats\n",
    "import pyspark as ps\n",
    "import pyspark.sql.functions as F\n"
   ]
  },
  {
   "cell_type": "code",
   "execution_count": 250,
   "metadata": {
    "collapsed": true
   },
   "outputs": [],
   "source": [
    "def auto_theft_filter(df):\n",
    "    \"\"\" Returns pandas dataframe filtered on grand and petty theft from vehicles\n",
    "    \n",
    "    Inputs:\n",
    "    spark dataframe\n",
    "    \n",
    "    Returns:\n",
    "    counts of petty and grand auto theft\n",
    "    fraction of auto relative to all other crimes\n",
    "        \n",
    "    \"\"\"    \n",
    "   \n",
    "    petty_counts = df.filter((F.col('Descript') == \"PETTY THEFT FROM LOCKED AUTO\") |\n",
    "                         (F.col('Descript') == \"PETTY THEFT FROM UNLOCKED AUTO\")).count()\n",
    "    \n",
    "    grand_counts = df.filter((F.col('Descript') == \"GRAND THEFT FROM LOCKED AUTO\") |\n",
    "                             (F.col('Descript') == \"GRAND THEFT FROM UNLOCKED AUTO\")).count()\n",
    "    \n",
    "    auto_fraction = (petty_counts + grand_counts)/df.count()\n",
    "        \n",
    "    return df.count(), grand_counts, petty_counts, auto_fraction\n",
    "\n",
    "\n",
    "def auto_to_pandas(df):\n",
    "    \"\"\"Returns a panda dataframe\"\"\"\n",
    "    \n",
    "    df_filtered = df.filter((F.col('Descript') == \"GRAND THEFT FROM LOCKED AUTO\") | \n",
    "                  (F.col('Descript') == \"PETTY THEFT FROM LOCKED AUTO\") |\n",
    "                  (F.col('Descript') == \"GRAND THEFT FROM UNLOCKED AUTO\") | \n",
    "                  (F.col('Descript') == \"PETTY THEFT FROM UNLOCKED AUTO\"))\n",
    "    \n",
    "    return df_filtered.toPandas()\n",
    "    "
   ]
  },
  {
   "cell_type": "code",
   "execution_count": 12,
   "metadata": {
    "collapsed": true
   },
   "outputs": [],
   "source": [
    "spark = (ps.sql.SparkSession\n",
    "         .builder\n",
    "         .master('local[4]')\n",
    "         .appName('lecture')\n",
    "         .getOrCreate()\n",
    "        )\n",
    "sc = spark.sparkContext"
   ]
  },
  {
   "cell_type": "code",
   "execution_count": 162,
   "metadata": {
    "collapsed": false
   },
   "outputs": [],
   "source": [
    "# Read in as CSV...it's A LOT of data and takes a long time in pandas\n",
    "crime_raw = pd.read_csv('Police_Department_Incident_Reports__Historical_2003_to_May_2018.csv')\n",
    "# crime_raw\n"
   ]
  },
  {
   "cell_type": "code",
   "execution_count": 164,
   "metadata": {
    "collapsed": false
   },
   "outputs": [
    {
     "name": "stdout",
     "output_type": "stream",
     "text": [
      "<class 'pandas.core.frame.DataFrame'>\n",
      "RangeIndex: 2215024 entries, 0 to 2215023\n",
      "Data columns (total 33 columns):\n",
      "IncidntNum                                              int64\n",
      "Category                                                object\n",
      "Descript                                                object\n",
      "DayOfWeek                                               object\n",
      "Date                                                    object\n",
      "Time                                                    object\n",
      "PdDistrict                                              object\n",
      "Resolution                                              object\n",
      "Address                                                 object\n",
      "X                                                       float64\n",
      "Y                                                       float64\n",
      "Location                                                object\n",
      "PdId                                                    int64\n",
      "SF Find Neighborhoods                                   float64\n",
      "Current Police Districts                                float64\n",
      "Current Supervisor Districts                            float64\n",
      "Analysis Neighborhoods                                  float64\n",
      "DELETE - Fire Prevention Districts                      float64\n",
      "DELETE - Police Districts                               float64\n",
      "DELETE - Supervisor Districts                           float64\n",
      "DELETE - Zip Codes                                      float64\n",
      "DELETE - Neighborhoods                                  float64\n",
      "DELETE - 2017 Fix It Zones                              float64\n",
      "Civic Center Harm Reduction Project Boundary            float64\n",
      "Fix It Zones as of 2017-11-06                           float64\n",
      "DELETE - HSOC Zones                                     float64\n",
      "Fix It Zones as of 2018-02-07                           float64\n",
      "CBD, BID and GBD Boundaries as of 2017                  float64\n",
      "Areas of Vulnerability, 2016                            float64\n",
      "Central Market/Tenderloin Boundary                      float64\n",
      "Central Market/Tenderloin Boundary Polygon - Updated    float64\n",
      "HSOC Zones as of 2018-06-05                             float64\n",
      "OWED Public Spaces                                      float64\n",
      "dtypes: float64(22), int64(2), object(9)\n",
      "memory usage: 557.7+ MB\n"
     ]
    }
   ],
   "source": [
    "crime_raw.info()"
   ]
  },
  {
   "cell_type": "code",
   "execution_count": 163,
   "metadata": {
    "collapsed": false
   },
   "outputs": [
    {
     "data": {
      "text/plain": [
       "GRAND THEFT FROM LOCKED AUTO                              178836\n",
       "LOST PROPERTY                                              77956\n",
       "BATTERY                                                    67654\n",
       "STOLEN AUTOMOBILE                                          64763\n",
       "DRIVERS LICENSE, SUSPENDED OR REVOKED                      62534\n",
       "AIDED CASE, MENTAL DISTURBED                               56313\n",
       "WARRANT ARREST                                             56230\n",
       "SUSPICIOUS OCCURRENCE                                      52490\n",
       "PETTY THEFT FROM LOCKED AUTO                               51946\n",
       "PETTY THEFT OF PROPERTY                                    46114\n",
       "MALICIOUS MISCHIEF, VANDALISM                              45238\n",
       "MALICIOUS MISCHIEF, VANDALISM OF VEHICLES                  44290\n",
       "TRAFFIC VIOLATION                                          38105\n",
       "THREATS AGAINST LIFE                                       34670\n",
       "FOUND PROPERTY                                             33383\n",
       "GRAND THEFT OF PROPERTY                                    29420\n",
       "ENROUTE TO OUTSIDE JURISDICTION                            29104\n",
       "PETTY THEFT FROM A BUILDING                                25728\n",
       "FOUND PERSON                                               24539\n",
       "PETTY THEFT SHOPLIFTING                                    24478\n",
       "POSSESSION OF NARCOTICS PARAPHERNALIA                      22891\n",
       "GRAND THEFT FROM A BUILDING                                22503\n",
       "CREDIT CARD, THEFT BY USE OF                               22079\n",
       "STOLEN TRUCK                                               21492\n",
       "RESISTING ARREST                                           21474\n",
       "MISSING ADULT                                              20574\n",
       "MISCELLANEOUS INVESTIGATION                                20219\n",
       "MISSING JUVENILE                                           19848\n",
       "INVESTIGATIVE DETENTION                                    19360\n",
       "DOMESTIC VIOLENCE                                          18488\n",
       "                                                           ...  \n",
       "ASSAULT TO ROB ON THE STREET W/DEADLY WEAPON                   1\n",
       "FALSE REPRESENTATION TO SECONDHAND DEALER                      1\n",
       "REFUSAL TO IDENTIFY                                            1\n",
       "ASSAULT, AGGRAVATED, ON POLICE OFFICER, W/ SEMI AUTO           1\n",
       "TRANSPORTATION OF OPIUM DERIVATIVE                             1\n",
       "PLANTING/CULTIVATING PEYOTE                                    1\n",
       "ENCOURAGE MINOR TO USE OPIATES                                 1\n",
       "ENCOURAGE MINOR TO USE HALLUCINOGENIC                          1\n",
       "DISTURBANCE OF NON-RELIGIOUS, NON-POLITICAL ASSEMBLY           1\n",
       "VETERAN OR EX-SERVICEMAN, FALSE REPRESENTATION AS              1\n",
       "UNSOLICITED FAX ADVERTISING                                    1\n",
       "BOMBING OF POLICE BUILDING                                     1\n",
       "ROBBERY, VEHICLE FOR HIRE, ATT., W/ KNIFE                      1\n",
       "TRANSPORTATION OF OPIUM                                        1\n",
       "ENCOURAGE MINOR TO USE METH-AMPHETAMINE                        1\n",
       "BURGLARY,HOTEL UNDER CONSTRUCTION, ATT. FORCIBLE               1\n",
       "ASSAULT TO ROB BANK WITH A GUN                                 1\n",
       "ENCOURAGE MINOR TO USE HEROIN                                  1\n",
       "PERMIT VIOLATION, ADVERTISING HANDBILL DISTRIBUTION            1\n",
       "HARASSING CHILD OR WARD BECAUSE OF PERSON'S EMPLOYMENT         1\n",
       "MERCHANDISE TITLE DOCUMENT FRAUD                               1\n",
       "BIGAMY, INCEST, AND THE CRIME AGAINST NATURE (GENERAL)         1\n",
       "HAZARDOUS MATERIALS, STORE WITHOUT PERMIT                      1\n",
       "SAFE BURGLARY OF A RESIDENCE WITH EXPLOSIVES                   1\n",
       "ASSAULT TO ROB WITH BODILY FORCE                               1\n",
       "CRIMES INVOLVING RECEIPTS OR TITLES                            1\n",
       "VIOLATION OF CALIF UNEMPLOYMENT INSURANCE ACT                  1\n",
       "ACCIDENTAL LACERATIONS                                         1\n",
       "ENCOURAGE MINOR TO USE AMPHETAMINE                             1\n",
       "ASSAULT, AGGRAVATED, ON POLICE OFFICER, W/ FULL AUTO           1\n",
       "Name: Descript, dtype: int64"
      ]
     },
     "execution_count": 163,
     "metadata": {},
     "output_type": "execute_result"
    }
   ],
   "source": [
    "crime_raw['Descript'].value_counts()"
   ]
  },
  {
   "cell_type": "code",
   "execution_count": 15,
   "metadata": {
    "collapsed": true
   },
   "outputs": [],
   "source": [
    "# Check out some value counts for each columns\n",
    "columns = crime_raw.columns\n",
    "# for col in columns:\n",
    "#     print(col)\n",
    "#     print(crime_raw[col].value_counts(dropna=False))"
   ]
  },
  {
   "cell_type": "markdown",
   "metadata": {},
   "source": [
    "## Read data in as Spark DF and remove extraneous columns\n",
    "\n",
    "Is there any useful data in SF Find Neighborhoods or Analysis Neighborhoods?"
   ]
  },
  {
   "cell_type": "code",
   "execution_count": 131,
   "metadata": {
    "collapsed": false
   },
   "outputs": [],
   "source": [
    "crime = spark.read.csv('Police_Department_Incident_Reports__Historical_2003_to_May_2018.csv',\n",
    "                        header=True,\n",
    "                        quote='\"',\n",
    "                        sep=',',\n",
    "                        inferSchema=True)\n"
   ]
  },
  {
   "cell_type": "code",
   "execution_count": 132,
   "metadata": {
    "collapsed": false
   },
   "outputs": [
    {
     "name": "stdout",
     "output_type": "stream",
     "text": [
      "root\n",
      " |-- IncidntNum: integer (nullable = true)\n",
      " |-- Category: string (nullable = true)\n",
      " |-- Descript: string (nullable = true)\n",
      " |-- DayOfWeek: string (nullable = true)\n",
      " |-- Date: string (nullable = true)\n",
      " |-- Time: string (nullable = true)\n",
      " |-- PdDistrict: string (nullable = true)\n",
      " |-- Resolution: string (nullable = true)\n",
      " |-- Address: string (nullable = true)\n",
      " |-- X: double (nullable = true)\n",
      " |-- Y: double (nullable = true)\n",
      " |-- Location: string (nullable = true)\n",
      " |-- PdId: long (nullable = true)\n",
      " |-- SF Find Neighborhoods: integer (nullable = true)\n",
      " |-- Current Police Districts: integer (nullable = true)\n",
      " |-- Current Supervisor Districts: integer (nullable = true)\n",
      " |-- Analysis Neighborhoods: integer (nullable = true)\n",
      " |-- DELETE - Fire Prevention Districts: integer (nullable = true)\n",
      " |-- DELETE - Police Districts: integer (nullable = true)\n",
      " |-- DELETE - Supervisor Districts: integer (nullable = true)\n",
      " |-- DELETE - Zip Codes: integer (nullable = true)\n",
      " |-- DELETE - Neighborhoods: integer (nullable = true)\n",
      " |-- DELETE - 2017 Fix It Zones: integer (nullable = true)\n",
      " |-- Civic Center Harm Reduction Project Boundary: integer (nullable = true)\n",
      " |-- Fix It Zones as of 2017-11-06 : integer (nullable = true)\n",
      " |-- DELETE - HSOC Zones: integer (nullable = true)\n",
      " |-- Fix It Zones as of 2018-02-07: integer (nullable = true)\n",
      " |-- CBD, BID and GBD Boundaries as of 2017: integer (nullable = true)\n",
      " |-- Areas of Vulnerability, 2016: integer (nullable = true)\n",
      " |-- Central Market/Tenderloin Boundary: integer (nullable = true)\n",
      " |-- Central Market/Tenderloin Boundary Polygon - Updated: integer (nullable = true)\n",
      " |-- HSOC Zones as of 2018-06-05: integer (nullable = true)\n",
      " |-- OWED Public Spaces: integer (nullable = true)\n",
      "\n"
     ]
    }
   ],
   "source": [
    "crime.printSchema()"
   ]
  },
  {
   "cell_type": "code",
   "execution_count": 133,
   "metadata": {
    "collapsed": false
   },
   "outputs": [
    {
     "name": "stdout",
     "output_type": "stream",
     "text": [
      "Index(['IncidntNum', 'Category', 'Descript', 'DayOfWeek', 'Date', 'Time',\n",
      "       'PdDistrict', 'Resolution', 'Address', 'X', 'Y', 'Location', 'PdId',\n",
      "       'SF Find Neighborhoods', 'Current Police Districts',\n",
      "       'Current Supervisor Districts', 'Analysis Neighborhoods',\n",
      "       'DELETE - Fire Prevention Districts', 'DELETE - Police Districts',\n",
      "       'DELETE - Supervisor Districts', 'DELETE - Zip Codes',\n",
      "       'DELETE - Neighborhoods', 'DELETE - 2017 Fix It Zones',\n",
      "       'Civic Center Harm Reduction Project Boundary',\n",
      "       'Fix It Zones as of 2017-11-06 ', 'DELETE - HSOC Zones',\n",
      "       'Fix It Zones as of 2018-02-07',\n",
      "       'CBD, BID and GBD Boundaries as of 2017',\n",
      "       'Areas of Vulnerability, 2016', 'Central Market/Tenderloin Boundary',\n",
      "       'Central Market/Tenderloin Boundary Polygon - Updated',\n",
      "       'HSOC Zones as of 2018-06-05', 'OWED Public Spaces'],\n",
      "      dtype='object')\n"
     ]
    },
    {
     "data": {
      "text/plain": [
       "['DELETE - Fire Prevention Districts',\n",
       " 'DELETE - Police Districts',\n",
       " 'DELETE - Supervisor Districts',\n",
       " 'DELETE - Zip Codes',\n",
       " 'DELETE - Neighborhoods',\n",
       " 'DELETE - 2017 Fix It Zones',\n",
       " 'Civic Center Harm Reduction Project Boundary',\n",
       " 'Fix It Zones as of 2017-11-06 ',\n",
       " 'DELETE - HSOC Zones',\n",
       " 'Fix It Zones as of 2018-02-07',\n",
       " 'CBD, BID and GBD Boundaries as of 2017',\n",
       " 'Areas of Vulnerability, 2016',\n",
       " 'Central Market/Tenderloin Boundary',\n",
       " 'Central Market/Tenderloin Boundary Polygon - Updated',\n",
       " 'HSOC Zones as of 2018-06-05',\n",
       " 'OWED Public Spaces',\n",
       " 'IncidntNum',\n",
       " 'PdId',\n",
       " 'Current Police Districts',\n",
       " 'Current Supervisor Districts',\n",
       " 'Location',\n",
       " 'SF Find Neighborhoods',\n",
       " 'Analysis Neighborhoods']"
      ]
     },
     "execution_count": 133,
     "metadata": {},
     "output_type": "execute_result"
    }
   ],
   "source": [
    "# Drop additional columns\n",
    "print(columns)\n",
    "columns_to_drop = list(columns[17:])\n",
    "columns_to_drop += ['IncidntNum', 'PdId', 'Current Police Districts',\n",
    "                    'Current Supervisor Districts','Location', 'SF Find Neighborhoods',\n",
    "                    'Analysis Neighborhoods']\n",
    "columns_to_drop"
   ]
  },
  {
   "cell_type": "code",
   "execution_count": 134,
   "metadata": {
    "collapsed": false
   },
   "outputs": [
    {
     "name": "stdout",
     "output_type": "stream",
     "text": [
      "root\n",
      " |-- Category: string (nullable = true)\n",
      " |-- Descript: string (nullable = true)\n",
      " |-- DayOfWeek: string (nullable = true)\n",
      " |-- Date: string (nullable = true)\n",
      " |-- Time: string (nullable = true)\n",
      " |-- PdDistrict: string (nullable = true)\n",
      " |-- Resolution: string (nullable = true)\n",
      " |-- Address: string (nullable = true)\n",
      " |-- X: double (nullable = true)\n",
      " |-- Y: double (nullable = true)\n",
      "\n"
     ]
    }
   ],
   "source": [
    "for col in columns_to_drop:\n",
    "    crime = crime.drop(col)\n",
    "crime.printSchema()"
   ]
  },
  {
   "cell_type": "markdown",
   "metadata": {
    "collapsed": false
   },
   "source": [
    "## Now drop all rows with a NaN in them. \n",
    "Apparently there aren't values with nan in them...Already cleaned after removing unnecessary columns"
   ]
  },
  {
   "cell_type": "code",
   "execution_count": 135,
   "metadata": {
    "collapsed": false
   },
   "outputs": [],
   "source": [
    "num_rows = crime.count()"
   ]
  },
  {
   "cell_type": "code",
   "execution_count": 136,
   "metadata": {
    "collapsed": false
   },
   "outputs": [
    {
     "data": {
      "text/plain": [
       "2215024"
      ]
     },
     "execution_count": 136,
     "metadata": {},
     "output_type": "execute_result"
    }
   ],
   "source": [
    "crime = crime.dropna(how='any')\n",
    "crime.count()"
   ]
  },
  {
   "cell_type": "markdown",
   "metadata": {},
   "source": [
    "## Figure out which categories and descriptions fit auto theft. "
   ]
  },
  {
   "cell_type": "code",
   "execution_count": 137,
   "metadata": {
    "collapsed": true
   },
   "outputs": [
    {
     "name": "stdout",
     "output_type": "stream",
     "text": [
      "+--------------------+------+\n",
      "|            Category| count|\n",
      "+--------------------+------+\n",
      "|       LARCENY/THEFT|480448|\n",
      "|      OTHER OFFENSES|309358|\n",
      "|        NON-CRIMINAL|238323|\n",
      "|             ASSAULT|194694|\n",
      "|       VEHICLE THEFT|126602|\n",
      "|       DRUG/NARCOTIC|119628|\n",
      "|           VANDALISM|116059|\n",
      "|            WARRANTS|101379|\n",
      "|            BURGLARY| 91543|\n",
      "|      SUSPICIOUS OCC| 80444|\n",
      "|      MISSING PERSON| 64961|\n",
      "|             ROBBERY| 55867|\n",
      "|               FRAUD| 41542|\n",
      "|     SECONDARY CODES| 25831|\n",
      "|FORGERY/COUNTERFE...| 23050|\n",
      "|         WEAPON LAWS| 22234|\n",
      "|            TRESPASS| 19449|\n",
      "|        PROSTITUTION| 16701|\n",
      "|     STOLEN PROPERTY| 11891|\n",
      "|SEX OFFENSES, FOR...| 11742|\n",
      "+--------------------+------+\n",
      "only showing top 20 rows\n",
      "\n",
      "+--------------------+------+\n",
      "|            Descript| count|\n",
      "+--------------------+------+\n",
      "|GRAND THEFT FROM ...|178836|\n",
      "|       LOST PROPERTY| 77956|\n",
      "|             BATTERY| 67654|\n",
      "|   STOLEN AUTOMOBILE| 64763|\n",
      "|DRIVERS LICENSE, ...| 62534|\n",
      "|AIDED CASE, MENTA...| 56313|\n",
      "|      WARRANT ARREST| 56230|\n",
      "|SUSPICIOUS OCCURR...| 52490|\n",
      "|PETTY THEFT FROM ...| 51946|\n",
      "|PETTY THEFT OF PR...| 46114|\n",
      "|MALICIOUS MISCHIE...| 45238|\n",
      "|MALICIOUS MISCHIE...| 44290|\n",
      "|   TRAFFIC VIOLATION| 38105|\n",
      "|THREATS AGAINST LIFE| 34670|\n",
      "|      FOUND PROPERTY| 33383|\n",
      "|GRAND THEFT OF PR...| 29420|\n",
      "|ENROUTE TO OUTSID...| 29104|\n",
      "|PETTY THEFT FROM ...| 25728|\n",
      "|        FOUND PERSON| 24539|\n",
      "|PETTY THEFT SHOPL...| 24478|\n",
      "+--------------------+------+\n",
      "only showing top 20 rows\n",
      "\n"
     ]
    }
   ],
   "source": [
    "crime.groupBy('Category').count().orderBy('count', ascending=False).show()\n",
    "crime.groupBy('Descript').count().orderBy('count', ascending=False).show()"
   ]
  },
  {
   "cell_type": "code",
   "execution_count": 154,
   "metadata": {
    "collapsed": false
   },
   "outputs": [
    {
     "data": {
      "text/plain": [
       "2215024"
      ]
     },
     "execution_count": 154,
     "metadata": {},
     "output_type": "execute_result"
    }
   ],
   "source": [
    "# Turn date into something useable\n",
    "from pyspark.sql.functions import unix_timestamp, from_unixtime\n",
    "\n",
    "crime2 = crime.withColumn('Date',from_unixtime(unix_timestamp('Date', 'MM/dd/yyy')).alias('date'))\n",
    "crime2.count()"
   ]
  },
  {
   "cell_type": "code",
   "execution_count": 158,
   "metadata": {
    "collapsed": false
   },
   "outputs": [],
   "source": [
    "# Create dataframe for each year\n",
    "crime_2003 = crime2.filter((F.col('Date') > '2002-12-31') & (F.col('Date') < '2004-01-01'))\n",
    "crime_2004 = crime2.filter((F.col('Date') > '2003-12-31') & (F.col('Date') < '2005-01-01'))\n",
    "crime_2005 = crime2.filter((F.col('Date') > '2004-12-31') & (F.col('Date') < '2006-01-01'))\n",
    "crime_2006 = crime2.filter((F.col('Date') > '2005-12-31') & (F.col('Date') < '2007-01-01'))\n",
    "crime_2007 = crime2.filter((F.col('Date') > '2006-12-31') & (F.col('Date') < '2008-01-01'))\n",
    "crime_2008 = crime2.filter((F.col('Date') > '2007-12-31') & (F.col('Date') < '2009-01-01'))\n",
    "crime_2009 = crime2.filter((F.col('Date') > '2008-12-31') & (F.col('Date') < '2010-01-01'))\n",
    "crime_2010 = crime2.filter((F.col('Date') > '2009-12-31') & (F.col('Date') < '2011-01-01'))\n",
    "crime_2011 = crime2.filter((F.col('Date') > '2010-12-31') & (F.col('Date') < '2012-01-01'))\n",
    "crime_2012 = crime2.filter((F.col('Date') > '2011-12-31') & (F.col('Date') < '2013-01-01'))\n",
    "crime_2013 = crime2.filter((F.col('Date') > '2012-12-31') & (F.col('Date') < '2014-01-01'))\n",
    "crime_2014 = crime2.filter((F.col('Date') > '2013-12-31') & (F.col('Date') < '2015-01-01'))\n",
    "crime_2015 = crime2.filter((F.col('Date') > '2014-12-31') & (F.col('Date') < '2016-01-01'))\n",
    "crime_2016 = crime2.filter((F.col('Date') > '2015-12-31') & (F.col('Date') < '2017-01-01'))\n",
    "crime_2017 = crime2.filter((F.col('Date') > '2016-12-31') & (F.col('Date') < '2018-01-01'))\n"
   ]
  },
  {
   "cell_type": "code",
   "execution_count": 161,
   "metadata": {
    "collapsed": false
   },
   "outputs": [
    {
     "data": {
      "text/plain": [
       "{'2003': 149176,\n",
       " '2004': 148471,\n",
       " '2005': 142591,\n",
       " '2006': 138247,\n",
       " '2007': 138006,\n",
       " '2008': 141670,\n",
       " '2009': 140215,\n",
       " '2010': 133868,\n",
       " '2011': 133094,\n",
       " '2012': 141267,\n",
       " '2013': 153166,\n",
       " '2014': 150518,\n",
       " '2015': 156927,\n",
       " '2016': 151297,\n",
       " '2017': 155254}"
      ]
     },
     "execution_count": 161,
     "metadata": {},
     "output_type": "execute_result"
    }
   ],
   "source": [
    "crime_years = [crime_2003, crime_2004, crime_2005, crime_2006, crime_2007, crime_2008, \n",
    "               crime_2009, crime_2010, crime_2011, crime_2012, crime_2013, crime_2014, \n",
    "               crime_2015, crime_2016, crime_2017]\n",
    "\n",
    "years = ['2003', '2004', '2005', '2006', '2007', '2008', '2009', '2010', '2011', '2012',\n",
    "         '2013', '2014', '2015', '2016', '2017']\n",
    "\n",
    "crimes_per_year = {}\n",
    "\n",
    "for dataset, year in zip(crime_years,years):\n",
    "    crimes_per_year[year] = dataset.count()\n",
    "\n",
    "crimes_per_year"
   ]
  },
  {
   "cell_type": "code",
   "execution_count": 212,
   "metadata": {
    "collapsed": false
   },
   "outputs": [
    {
     "data": {
      "text/plain": [
       "18704"
      ]
     },
     "execution_count": 212,
     "metadata": {},
     "output_type": "execute_result"
    }
   ],
   "source": [
    "crime_2013.filter((F.col('Descript') == \"GRAND THEFT FROM LOCKED AUTO\") | \n",
    "                  (F.col('Descript') == \"PETTY THEFT FROM LOCKED AUTO\") |\n",
    "                  (F.col('Descript') == \"GRAND THEFT FROM UNLOCKED AUTO\") | \n",
    "                  (F.col('Descript') == \"PETTY THEFT FROM UNLOCKED AUTO\")).count()"
   ]
  },
  {
   "cell_type": "code",
   "execution_count": 251,
   "metadata": {
    "collapsed": false
   },
   "outputs": [],
   "source": [
    "# Try out my helper function!\n",
    "total_crimes, grand_crimes, petty_crimes, auto_theft_fraction = auto_theft_filter(crime_2013)"
   ]
  },
  {
   "cell_type": "code",
   "execution_count": 254,
   "metadata": {
    "collapsed": false
   },
   "outputs": [
    {
     "data": {
      "text/plain": [
       "0.12211587428019273"
      ]
     },
     "execution_count": 254,
     "metadata": {},
     "output_type": "execute_result"
    }
   ],
   "source": []
  },
  {
   "cell_type": "code",
   "execution_count": 255,
   "metadata": {
    "collapsed": false
   },
   "outputs": [
    {
     "data": {
      "text/plain": [
       "[['2003', 149176, 6895, 5276, 0.08158819112994048],\n",
       " ['2004', 148471, 6735, 4922, 0.07851364913013316],\n",
       " ['2005', 142591, 8989, 4045, 0.09140829365107195],\n",
       " ['2006', 138247, 10835, 4604, 0.11167692608157863],\n",
       " ['2007', 138006, 10196, 3578, 0.09980725475703955],\n",
       " ['2008', 141670, 9273, 3225, 0.08821910072704171],\n",
       " ['2009', 140215, 9197, 2587, 0.08404236351317619],\n",
       " ['2010', 133868, 8301, 1697, 0.07468551110048705],\n",
       " ['2011', 133094, 8890, 1719, 0.07971058049198311],\n",
       " ['2012', 141267, 10456, 3058, 0.09566282288149391],\n",
       " ['2013', 153166, 14578, 4126, 0.12211587428019273],\n",
       " ['2014', 150518, 17375, 4232, 0.14355093742941044],\n",
       " ['2015', 156927, 20562, 4968, 0.1626871092928559],\n",
       " ['2016', 151297, 19714, 4590, 0.1606376861405051],\n",
       " ['2017', 155254, 25685, 5114, 0.19837814162598066]]"
      ]
     },
     "execution_count": 255,
     "metadata": {},
     "output_type": "execute_result"
    }
   ],
   "source": [
    "# Go through all years and calculate grand/petty auto thefts\n",
    "crime_data_by_year = []\n",
    "for year, dataset in zip(years, crime_years):\n",
    "    tot_crimes, n_grand, n_petty, fraction = auto_theft_filter(dataset)\n",
    "    crime_data_by_year.append([year, tot_crimes, n_grand, n_petty, fraction])\n",
    "    \n",
    "crime_data_by_year    "
   ]
  },
  {
   "cell_type": "markdown",
   "metadata": {},
   "source": [
    "## Use SQL to look for similar descriptions and double check counts"
   ]
  },
  {
   "cell_type": "code",
   "execution_count": 256,
   "metadata": {
    "collapsed": false
   },
   "outputs": [],
   "source": [
    "crime_2013.createOrReplaceTempView('crime')"
   ]
  },
  {
   "cell_type": "code",
   "execution_count": 196,
   "metadata": {
    "collapsed": false
   },
   "outputs": [],
   "source": [
    "query = '''SELECT DISTINCT(Descript)\n",
    "           FROM crime\n",
    "           WHERE Descript LIKE '%BATTERY%'\n",
    "           '''\n",
    "results_battery = spark.sql(query)"
   ]
  },
  {
   "cell_type": "code",
   "execution_count": 260,
   "metadata": {
    "collapsed": true
   },
   "outputs": [],
   "source": [
    "query_all_theft = '''SELECT COUNT(*)\n",
    "                     FROM crime\n",
    "                     WHERE Descript LIKE '%THEFT%'\n",
    "                     '''\n",
    "results_all_theft = spark.sql(query_all_theft)"
   ]
  },
  {
   "cell_type": "code",
   "execution_count": 262,
   "metadata": {
    "collapsed": false
   },
   "outputs": [],
   "source": [
    "query_auto_theft = '''SELECT COUNT(*)\n",
    "                 FROM crime\n",
    "                 WHERE Descript LIKE '%GRAND THEFT FROM LOCKED AUTO%'\n",
    "                 OR Descript LIKE '%PETTY THEFT FROM LOCKED AUTO%'\n",
    "                 OR Descript LIKE '%GRAND THEFT FROM UNLOCKED AUTO%'\n",
    "                 OR Descript LIKE '%PETTY THEFT FROM UNLOCKED AUTO%'\n",
    "                 '''\n",
    "results_auto_theft = spark.sql(query_theft)"
   ]
  },
  {
   "cell_type": "code",
   "execution_count": 263,
   "metadata": {
    "collapsed": false
   },
   "outputs": [
    {
     "name": "stdout",
     "output_type": "stream",
     "text": [
      "+--------+\n",
      "|count(1)|\n",
      "+--------+\n",
      "|   18704|\n",
      "+--------+\n",
      "\n"
     ]
    }
   ],
   "source": [
    "#results_petty.take(30)\n",
    "#results_battery.take(30)\n",
    "results_theft.show()\n",
    "#results_all_theft.show()"
   ]
  },
  {
   "cell_type": "code",
   "execution_count": null,
   "metadata": {
    "collapsed": true
   },
   "outputs": [],
   "source": []
  },
  {
   "cell_type": "code",
   "execution_count": null,
   "metadata": {
    "collapsed": true
   },
   "outputs": [],
   "source": []
  },
  {
   "cell_type": "code",
   "execution_count": null,
   "metadata": {
    "collapsed": true
   },
   "outputs": [],
   "source": []
  },
  {
   "cell_type": "code",
   "execution_count": null,
   "metadata": {
    "collapsed": true
   },
   "outputs": [],
   "source": []
  },
  {
   "cell_type": "code",
   "execution_count": null,
   "metadata": {
    "collapsed": true
   },
   "outputs": [],
   "source": []
  },
  {
   "cell_type": "code",
   "execution_count": null,
   "metadata": {
    "collapsed": true
   },
   "outputs": [],
   "source": []
  }
 ],
 "metadata": {
  "kernelspec": {
   "display_name": "Python 3",
   "language": "python",
   "name": "python3"
  },
  "language_info": {
   "codemirror_mode": {
    "name": "ipython",
    "version": 3
   },
   "file_extension": ".py",
   "mimetype": "text/x-python",
   "name": "python",
   "nbconvert_exporter": "python",
   "pygments_lexer": "ipython3",
   "version": "3.5.2"
  }
 },
 "nbformat": 4,
 "nbformat_minor": 4
}
