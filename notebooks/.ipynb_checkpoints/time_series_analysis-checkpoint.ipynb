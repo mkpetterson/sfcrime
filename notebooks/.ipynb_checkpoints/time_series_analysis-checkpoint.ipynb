{
 "cells": [
  {
   "cell_type": "code",
   "execution_count": 1,
   "metadata": {},
   "outputs": [],
   "source": [
    "%load_ext autoreload\n",
    "%autoreload 2\n",
    "%matplotlib inline"
   ]
  },
  {
   "cell_type": "markdown",
   "metadata": {},
   "source": [
    "Notebook to do time series analysis on crime in San Francisco from 2003 - 2017\n"
   ]
  },
  {
   "cell_type": "code",
   "execution_count": 2,
   "metadata": {},
   "outputs": [],
   "source": [
    "import numpy as np\n",
    "import pandas as pd"
   ]
  },
  {
   "cell_type": "code",
   "execution_count": 13,
   "metadata": {},
   "outputs": [],
   "source": [
    "# Import data, using parse_dates to turn Date column into datetime object\n",
    "# https://stackoverflow.com/questions/17465045/can-pandas-automatically-recognize-dates\n",
    "df = pd.read_csv('../../Police_Department_Incident_Reports__Historical_2003_to_May_2018.csv', parse_dates=['Date'])\n",
    "\n",
    "# Show all columns of dataframe\n",
    "pd.set_option('display.max_columns', None)"
   ]
  },
  {
   "cell_type": "code",
   "execution_count": 27,
   "metadata": {},
   "outputs": [],
   "source": [
    "# Keep key columns and sort\n",
    "data = df[['Category', 'Descript', 'DayOfWeek', 'Date', 'Time', 'X', 'Y', 'PdDistrict', 'Resolution']]\n",
    "data = (\n",
    "    data.dropna()\n",
    "    .sort_values(by='Date')\n",
    ")"
   ]
  },
  {
   "cell_type": "code",
   "execution_count": 29,
   "metadata": {},
   "outputs": [
    {
     "data": {
      "text/html": [
       "<div>\n",
       "<style scoped>\n",
       "    .dataframe tbody tr th:only-of-type {\n",
       "        vertical-align: middle;\n",
       "    }\n",
       "\n",
       "    .dataframe tbody tr th {\n",
       "        vertical-align: top;\n",
       "    }\n",
       "\n",
       "    .dataframe thead th {\n",
       "        text-align: right;\n",
       "    }\n",
       "</style>\n",
       "<table border=\"1\" class=\"dataframe\">\n",
       "  <thead>\n",
       "    <tr style=\"text-align: right;\">\n",
       "      <th></th>\n",
       "      <th>Category</th>\n",
       "      <th>Descript</th>\n",
       "      <th>DayOfWeek</th>\n",
       "      <th>Date</th>\n",
       "      <th>Time</th>\n",
       "      <th>X</th>\n",
       "      <th>Y</th>\n",
       "      <th>PdDistrict</th>\n",
       "      <th>Resolution</th>\n",
       "    </tr>\n",
       "  </thead>\n",
       "  <tbody>\n",
       "    <tr>\n",
       "      <th>1164161</th>\n",
       "      <td>ASSAULT</td>\n",
       "      <td>AGGRAVATED ASSAULT WITH A DEADLY WEAPON</td>\n",
       "      <td>Wednesday</td>\n",
       "      <td>2003-01-01</td>\n",
       "      <td>02:05</td>\n",
       "      <td>-122.406843</td>\n",
       "      <td>37.798059</td>\n",
       "      <td>CENTRAL</td>\n",
       "      <td>ARREST, BOOKED</td>\n",
       "    </tr>\n",
       "    <tr>\n",
       "      <th>1449954</th>\n",
       "      <td>SUSPICIOUS OCC</td>\n",
       "      <td>SUSPICIOUS OCCURRENCE</td>\n",
       "      <td>Wednesday</td>\n",
       "      <td>2003-01-01</td>\n",
       "      <td>00:30</td>\n",
       "      <td>-122.404592</td>\n",
       "      <td>37.790634</td>\n",
       "      <td>CENTRAL</td>\n",
       "      <td>NONE</td>\n",
       "    </tr>\n",
       "    <tr>\n",
       "      <th>533248</th>\n",
       "      <td>SUSPICIOUS OCC</td>\n",
       "      <td>SUSPICIOUS OCCURRENCE</td>\n",
       "      <td>Wednesday</td>\n",
       "      <td>2003-01-01</td>\n",
       "      <td>00:01</td>\n",
       "      <td>-122.418239</td>\n",
       "      <td>37.790933</td>\n",
       "      <td>CENTRAL</td>\n",
       "      <td>NONE</td>\n",
       "    </tr>\n",
       "    <tr>\n",
       "      <th>1474425</th>\n",
       "      <td>OTHER OFFENSES</td>\n",
       "      <td>OBSTRUCTIONS ON STREETS/SIDEWALKS</td>\n",
       "      <td>Wednesday</td>\n",
       "      <td>2003-01-01</td>\n",
       "      <td>16:55</td>\n",
       "      <td>-122.423619</td>\n",
       "      <td>37.771716</td>\n",
       "      <td>SOUTHERN</td>\n",
       "      <td>ARREST, BOOKED</td>\n",
       "    </tr>\n",
       "    <tr>\n",
       "      <th>767537</th>\n",
       "      <td>SUSPICIOUS OCC</td>\n",
       "      <td>SUSPICIOUS OCCURRENCE</td>\n",
       "      <td>Wednesday</td>\n",
       "      <td>2003-01-01</td>\n",
       "      <td>06:30</td>\n",
       "      <td>-122.432022</td>\n",
       "      <td>37.771202</td>\n",
       "      <td>NORTHERN</td>\n",
       "      <td>NONE</td>\n",
       "    </tr>\n",
       "  </tbody>\n",
       "</table>\n",
       "</div>"
      ],
      "text/plain": [
       "               Category                                 Descript  DayOfWeek  \\\n",
       "1164161         ASSAULT  AGGRAVATED ASSAULT WITH A DEADLY WEAPON  Wednesday   \n",
       "1449954  SUSPICIOUS OCC                    SUSPICIOUS OCCURRENCE  Wednesday   \n",
       "533248   SUSPICIOUS OCC                    SUSPICIOUS OCCURRENCE  Wednesday   \n",
       "1474425  OTHER OFFENSES        OBSTRUCTIONS ON STREETS/SIDEWALKS  Wednesday   \n",
       "767537   SUSPICIOUS OCC                    SUSPICIOUS OCCURRENCE  Wednesday   \n",
       "\n",
       "              Date   Time           X          Y PdDistrict      Resolution  \n",
       "1164161 2003-01-01  02:05 -122.406843  37.798059    CENTRAL  ARREST, BOOKED  \n",
       "1449954 2003-01-01  00:30 -122.404592  37.790634    CENTRAL            NONE  \n",
       "533248  2003-01-01  00:01 -122.418239  37.790933    CENTRAL            NONE  \n",
       "1474425 2003-01-01  16:55 -122.423619  37.771716   SOUTHERN  ARREST, BOOKED  \n",
       "767537  2003-01-01  06:30 -122.432022  37.771202   NORTHERN            NONE  "
      ]
     },
     "execution_count": 29,
     "metadata": {},
     "output_type": "execute_result"
    }
   ],
   "source": []
  },
  {
   "cell_type": "code",
   "execution_count": null,
   "metadata": {},
   "outputs": [],
   "source": []
  }
 ],
 "metadata": {
  "kernelspec": {
   "display_name": "Python 3",
   "language": "python",
   "name": "python3"
  },
  "language_info": {
   "codemirror_mode": {
    "name": "ipython",
    "version": 3
   },
   "file_extension": ".py",
   "mimetype": "text/x-python",
   "name": "python",
   "nbconvert_exporter": "python",
   "pygments_lexer": "ipython3",
   "version": "3.7.6"
  }
 },
 "nbformat": 4,
 "nbformat_minor": 4
}
