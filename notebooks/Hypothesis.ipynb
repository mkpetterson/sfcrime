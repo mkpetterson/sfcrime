{
 "cells": [
  {
   "cell_type": "code",
   "execution_count": 1,
   "metadata": {},
   "outputs": [],
   "source": [
    "import numpy as np\n",
    "import pandas as pd\n",
    "import math\n",
    "import matplotlib.pyplot as plt\n",
    "import os\n",
    "\n",
    "os.chdir('../')\n",
    "from src import helper\n",
    "\n",
    "plt.style.use('ggplot')"
   ]
  },
  {
   "cell_type": "markdown",
   "metadata": {},
   "source": [
    "## Hypothesis testing on SF Crime database\n",
    "\n",
    "In order to do hypothesis testing, we need Gaussian distributions. While our underlying distributions in the crime database are not Gaussian, we can take advantage of the CLT in order to test any hypothesis we can dream up. \n",
    "\n",
    "Hypothesis 1: There is more crime in the evening in some PD districts"
   ]
  },
  {
   "cell_type": "code",
   "execution_count": 2,
   "metadata": {},
   "outputs": [
    {
     "data": {
      "text/html": [
       "<div>\n",
       "<style scoped>\n",
       "    .dataframe tbody tr th:only-of-type {\n",
       "        vertical-align: middle;\n",
       "    }\n",
       "\n",
       "    .dataframe tbody tr th {\n",
       "        vertical-align: top;\n",
       "    }\n",
       "\n",
       "    .dataframe thead th {\n",
       "        text-align: right;\n",
       "    }\n",
       "</style>\n",
       "<table border=\"1\" class=\"dataframe\">\n",
       "  <thead>\n",
       "    <tr style=\"text-align: right;\">\n",
       "      <th></th>\n",
       "      <th>Category</th>\n",
       "      <th>Descript</th>\n",
       "      <th>DayOfWeek</th>\n",
       "      <th>Date</th>\n",
       "      <th>Time</th>\n",
       "      <th>PdDistrict</th>\n",
       "      <th>Resolution</th>\n",
       "      <th>Address</th>\n",
       "      <th>X</th>\n",
       "      <th>Y</th>\n",
       "    </tr>\n",
       "  </thead>\n",
       "  <tbody>\n",
       "    <tr>\n",
       "      <th>0</th>\n",
       "      <td>NON-CRIMINAL</td>\n",
       "      <td>AIDED CASE, MENTAL DISTURBED</td>\n",
       "      <td>Sunday</td>\n",
       "      <td>2003-09-07 00:00:00</td>\n",
       "      <td>2020-07-11 11:37:00</td>\n",
       "      <td>SOUTHERN</td>\n",
       "      <td>NONE</td>\n",
       "      <td>500 Block of I-80</td>\n",
       "      <td>-122.386667</td>\n",
       "      <td>37.789882</td>\n",
       "    </tr>\n",
       "    <tr>\n",
       "      <th>1</th>\n",
       "      <td>TRESPASS</td>\n",
       "      <td>TRESPASSING</td>\n",
       "      <td>Friday</td>\n",
       "      <td>2003-10-24 00:00:00</td>\n",
       "      <td>2020-07-11 20:15:00</td>\n",
       "      <td>SOUTHERN</td>\n",
       "      <td>NONE</td>\n",
       "      <td>800 Block of MARKET ST</td>\n",
       "      <td>-122.406691</td>\n",
       "      <td>37.785207</td>\n",
       "    </tr>\n",
       "    <tr>\n",
       "      <th>2</th>\n",
       "      <td>ASSAULT</td>\n",
       "      <td>THREATS AGAINST LIFE</td>\n",
       "      <td>Wednesday</td>\n",
       "      <td>2003-09-24 00:00:00</td>\n",
       "      <td>2020-07-11 12:15:00</td>\n",
       "      <td>PARK</td>\n",
       "      <td>NONE</td>\n",
       "      <td>1400 Block of PAGE ST</td>\n",
       "      <td>-122.444713</td>\n",
       "      <td>37.771302</td>\n",
       "    </tr>\n",
       "    <tr>\n",
       "      <th>3</th>\n",
       "      <td>ASSAULT</td>\n",
       "      <td>BATTERY</td>\n",
       "      <td>Wednesday</td>\n",
       "      <td>2003-02-26 00:00:00</td>\n",
       "      <td>2020-07-11 16:50:00</td>\n",
       "      <td>SOUTHERN</td>\n",
       "      <td>NONE</td>\n",
       "      <td>1400 Block of MARKET ST</td>\n",
       "      <td>-122.418481</td>\n",
       "      <td>37.775898</td>\n",
       "    </tr>\n",
       "    <tr>\n",
       "      <th>4</th>\n",
       "      <td>ASSAULT</td>\n",
       "      <td>BATTERY</td>\n",
       "      <td>Monday</td>\n",
       "      <td>2003-03-24 00:00:00</td>\n",
       "      <td>2020-07-11 20:08:00</td>\n",
       "      <td>BAYVIEW</td>\n",
       "      <td>ARREST, BOOKED</td>\n",
       "      <td>0 Block of APOLLO ST</td>\n",
       "      <td>-122.397783</td>\n",
       "      <td>37.732115</td>\n",
       "    </tr>\n",
       "  </tbody>\n",
       "</table>\n",
       "</div>"
      ],
      "text/plain": [
       "       Category                      Descript  DayOfWeek                 Date  \\\n",
       "0  NON-CRIMINAL  AIDED CASE, MENTAL DISTURBED     Sunday  2003-09-07 00:00:00   \n",
       "1      TRESPASS                   TRESPASSING     Friday  2003-10-24 00:00:00   \n",
       "2       ASSAULT          THREATS AGAINST LIFE  Wednesday  2003-09-24 00:00:00   \n",
       "3       ASSAULT                       BATTERY  Wednesday  2003-02-26 00:00:00   \n",
       "4       ASSAULT                       BATTERY     Monday  2003-03-24 00:00:00   \n",
       "\n",
       "                 Time PdDistrict      Resolution                  Address  \\\n",
       "0 2020-07-11 11:37:00   SOUTHERN            NONE        500 Block of I-80   \n",
       "1 2020-07-11 20:15:00   SOUTHERN            NONE   800 Block of MARKET ST   \n",
       "2 2020-07-11 12:15:00       PARK            NONE    1400 Block of PAGE ST   \n",
       "3 2020-07-11 16:50:00   SOUTHERN            NONE  1400 Block of MARKET ST   \n",
       "4 2020-07-11 20:08:00    BAYVIEW  ARREST, BOOKED     0 Block of APOLLO ST   \n",
       "\n",
       "            X          Y  \n",
       "0 -122.386667  37.789882  \n",
       "1 -122.406691  37.785207  \n",
       "2 -122.444713  37.771302  \n",
       "3 -122.418481  37.775898  \n",
       "4 -122.397783  37.732115  "
      ]
     },
     "execution_count": 2,
     "metadata": {},
     "output_type": "execute_result"
    }
   ],
   "source": [
    "## Load data\n",
    "data = pd.read_csv('data/2003.csv', parse_dates= ['Time'])\n",
    "data.head()\n",
    "\n",
    "# Drop that first column \n",
    "data = data.drop(columns='Unnamed: 0')\n",
    "\n",
    "data.head()"
   ]
  },
  {
   "cell_type": "code",
   "execution_count": 3,
   "metadata": {},
   "outputs": [
    {
     "data": {
      "text/plain": [
       "Timestamp('2020-07-11 11:37:00')"
      ]
     },
     "execution_count": 3,
     "metadata": {},
     "output_type": "execute_result"
    }
   ],
   "source": [
    "data['Time'][0]"
   ]
  },
  {
   "cell_type": "code",
   "execution_count": 4,
   "metadata": {},
   "outputs": [
    {
     "data": {
      "text/plain": [
       "<matplotlib.axes._subplots.AxesSubplot at 0x7fbfa576d7d0>"
      ]
     },
     "execution_count": 4,
     "metadata": {},
     "output_type": "execute_result"
    },
    {
     "data": {
      "image/png": "[encoded data removed]",
      "text/plain": [
       "<Figure size 432x288 with 1 Axes>"
      ]
     },
     "metadata": {},
     "output_type": "display_data"
    }
   ],
   "source": [
    "## Look at crimetime, but first resample into hour timeslots\n",
    "#data['PdDistrict'].resample('H')\n",
    "data['Category'].groupby(data['Time'].dt.hour).count().plot(kind='bar')"
   ]
  },
  {
   "cell_type": "markdown",
   "metadata": {},
   "source": [
    "### Resampling and applying CLT\n",
    "- There are ~150k entries, so let's resample in batches of 100, take the mean, rinse, repeat 10000 times. "
   ]
  },
  {
   "cell_type": "code",
   "execution_count": 5,
   "metadata": {},
   "outputs": [
    {
     "data": {
      "text/plain": [
       "(42520   2020-07-11 10:00:00\n",
       " 12016   2020-07-11 15:20:00\n",
       " 3000    2020-07-11 19:05:00\n",
       " Name: Time, dtype: datetime64[ns],\n",
       " Timestamp('2020-07-11 14:48:20'))"
      ]
     },
     "execution_count": 5,
     "metadata": {},
     "output_type": "execute_result"
    }
   ],
   "source": [
    "# Testing mean of timeseries. Surprisingly, this works\n",
    "choice = np.random.choice(50000, 3)\n",
    "data['Time'][choice], np.mean(data['Time'][choice])"
   ]
  },
  {
   "cell_type": "code",
   "execution_count": 6,
   "metadata": {},
   "outputs": [],
   "source": [
    "def resample(df_series, n_samples=10, n_iterations=10000) -> pd.Series:\n",
    "    n_entries = len(df_series)\n",
    "    samples = []\n",
    "    \n",
    "    for n in range(n_iterations):\n",
    "        s = np.random.choice(n_entries, n_samples, replace=True)\n",
    "        samples.append(np.mean(df_series.iloc[s]))\n",
    "    \n",
    "    return samples    "
   ]
  },
  {
   "cell_type": "code",
   "execution_count": 7,
   "metadata": {},
   "outputs": [
    {
     "data": {
      "text/plain": [
       "(array([  10.,   68.,  336.,  864., 1360., 1369.,  751.,  219.,   20.,\n",
       "           3.]),\n",
       " array([737617.35725694, 737617.40290278, 737617.44854861, 737617.49419444,\n",
       "        737617.53984028, 737617.58548611, 737617.63113194, 737617.67677778,\n",
       "        737617.72242361, 737617.76806944, 737617.81371528]),\n",
       " <a list of 10 Patch objects>)"
      ]
     },
     "execution_count": 7,
     "metadata": {},
     "output_type": "execute_result"
    },
    {
     "data": {
      "image/png": "[encoded data removed]",
      "text/plain": [
       "<Figure size 432x288 with 1 Axes>"
      ]
     },
     "metadata": {},
     "output_type": "display_data"
    }
   ],
   "source": [
    "# Proof of concept works! Let's do some testing\n",
    "s = resample(data['Time'], 20, 5000)\n",
    "plt.hist(s)"
   ]
  },
  {
   "cell_type": "markdown",
   "metadata": {},
   "source": [
    "Let's create two different distributions corresponding to:\n",
    "1. PD District:<br>\n",
    "    H0: Crime in the Mission happens at the same time (within hour) than in the Ingleside<br>\n",
    "    H1: Crime in the Mission is offset by more than an hour relative to Ingleside\n",
    "2. Type of Crime: <br>\n",
    "    H0: Violent crime happens at the same time as non-violent crime<br>\n",
    "    H1: Violent crime is offset by an hour or more from other crime"
   ]
  },
  {
   "cell_type": "code",
   "execution_count": 8,
   "metadata": {},
   "outputs": [
    {
     "data": {
      "text/plain": [
       "((17277, 10), (131899, 10))"
      ]
     },
     "execution_count": 8,
     "metadata": {},
     "output_type": "execute_result"
    }
   ],
   "source": [
    "# Start with violent and non-violent crime\n",
    "v_df, nv_df = helper.violence(data)\n",
    "v_df.shape, nv_df.shape"
   ]
  },
  {
   "cell_type": "code",
   "execution_count": 9,
   "metadata": {},
   "outputs": [
    {
     "data": {
      "text/plain": [
       "0        2020-07-11 11:37:00\n",
       "1        2020-07-11 20:15:00\n",
       "6        2020-07-11 21:16:00\n",
       "7        2020-07-11 18:00:00\n",
       "8        2020-07-11 01:55:00\n",
       "                 ...        \n",
       "149169   2020-07-11 02:00:00\n",
       "149170   2020-07-11 12:00:00\n",
       "149171   2020-07-11 10:17:00\n",
       "149172   2020-07-11 15:24:00\n",
       "149175   2020-07-11 08:33:00\n",
       "Name: Time, Length: 131899, dtype: datetime64[ns]"
      ]
     },
     "execution_count": 9,
     "metadata": {},
     "output_type": "execute_result"
    }
   ],
   "source": [
    "nv_df['Time']"
   ]
  },
  {
   "cell_type": "code",
   "execution_count": 10,
   "metadata": {},
   "outputs": [
    {
     "data": {
      "text/plain": [
       "(13.125779999999999, 13.68048, 4.6037573916, 4.0931829696)"
      ]
     },
     "execution_count": 10,
     "metadata": {},
     "output_type": "execute_result"
    }
   ],
   "source": [
    "# Resample. Violence will end up being slightly oversampled https://machinelearningmastery.com/random-oversampling-and-undersampling-for-imbalanced-classification/\n",
    "n_samples = 10\n",
    "n_iterations = 5000 \n",
    "v_sample = resample(v_df['Time'].apply(lambda x: x.hour), \n",
    "                    n_samples, \n",
    "                    n_iterations)\n",
    "nv_sample = resample(nv_df['Time'].apply(lambda x: x.hour), \n",
    "                     n_samples, \n",
    "                     n_iterations)\n",
    "\n",
    "np.mean(v_sample), np.mean(nv_sample), np.var(v_sample), np.var(nv_sample)"
   ]
  },
  {
   "cell_type": "code",
   "execution_count": 11,
   "metadata": {},
   "outputs": [
    {
     "data": {
      "text/plain": [
       "<matplotlib.legend.Legend at 0x7fbfa4705cd0>"
      ]
     },
     "execution_count": 11,
     "metadata": {},
     "output_type": "execute_result"
    },
    {
     "data": {
      "image/png": "[encoded data removed]",
      "text/plain": [
       "<Figure size 432x288 with 1 Axes>"
      ]
     },
     "metadata": {},
     "output_type": "display_data"
    }
   ],
   "source": [
    "fig, ax = plt.subplots()\n",
    "ax.hist(v_sample, alpha=0.5, label='violent')\n",
    "ax.hist(nv_sample, alpha=0.5, label='non-violent')\n",
    "ax.legend()"
   ]
  },
  {
   "cell_type": "markdown",
   "metadata": {},
   "source": [
    "Now get into the statistics with steps to compute hypothesis. We are testing the means of two distriubtions\n",
    "1. State null: mean of violent = mean of nonviolent. Alternative is that u1 is not equal to u2\n",
    "2. Chose out significance. Let's go with 0.05, or 95% confidence\n",
    "3. Analyze sample data: calc the standard error of sample data and the test statistic ((u1-u2)/SE)\n",
    "4. Calculate the p-value"
   ]
  },
  {
   "cell_type": "code",
   "execution_count": 12,
   "metadata": {},
   "outputs": [
    {
     "data": {
      "text/plain": [
       "<matplotlib.legend.Legend at 0x7fbfa3dc9f50>"
      ]
     },
     "execution_count": 12,
     "metadata": {},
     "output_type": "execute_result"
    },
    {
     "data": {
      "image/png": "[encoded data removed]",
      "text/plain": [
       "<Figure size 432x288 with 1 Axes>"
      ]
     },
     "metadata": {},
     "output_type": "display_data"
    }
   ],
   "source": [
    "# Null -> distribution of difference between the two is gaussian centered around 0\n",
    "import scipy.stats as stats\n",
    "shared_var = np.var(v_sample)/len(v_sample) + np.var(nv_sample)/len(nv_sample)\n",
    "null = stats.norm(0, np.sqrt(shared_var))\n",
    "\n",
    "# Plot null\n",
    "x = np.linspace(-1, 1, 2400)\n",
    "plt.plot(x, null.pdf(x), label='Shared Variance: {:2.5f}'.format(shared_var))\n",
    "plt.legend()"
   ]
  },
  {
   "cell_type": "code",
   "execution_count": 13,
   "metadata": {},
   "outputs": [],
   "source": [
    "# Define test statistic\n",
    "def standard_error(sample1, sample2):\n",
    "    term1 = np.var(sample1)/len(sample1)\n",
    "    term2 = np.var(sample2)/len(sample2)\n",
    "    return np.sqrt(term1 + term2)\n",
    "\n",
    "def welchs_test_statistic(sample1, sample2):\n",
    "    numerator = np.mean(sample1) - np.mean(sample2)\n",
    "    denominator = standard_error(sample1, sample2)\n",
    "    return numerator/denominator\n",
    "\n",
    "# Define degrees of freedom for welch's test -> this determines tail thickness\n",
    "def welchs_dof(sample1, sample2):\n",
    "    numerator = standard_error(sample1, sample2)**2\n",
    "    denom_t1 = (np.var(sample1)/len(sample1))**2/(len(sample1)-1)\n",
    "    denom_t2 = np.var(sample2)/len(sample2)**2/(len(sample2)-1)\n",
    "    return numerator/(denom_t1 + denom_t2)"
   ]
  },
  {
   "cell_type": "code",
   "execution_count": 173,
   "metadata": {},
   "outputs": [
    {
     "name": "stdout",
     "output_type": "stream",
     "text": [
      "Test statistic is -10.70\n"
     ]
    }
   ],
   "source": [
    "test_statistic = welchs_test_statistic(v_sample, nv_sample)\n",
    "print('Test statistic is {:2.2f}'.format(test_statistic))"
   ]
  },
  {
   "cell_type": "code",
   "execution_count": 157,
   "metadata": {},
   "outputs": [
    {
     "data": {
      "text/plain": [
       "8958245.022592671"
      ]
     },
     "execution_count": 157,
     "metadata": {},
     "output_type": "execute_result"
    }
   ],
   "source": [
    "dof = welchs_dof(v_sample, nv_sample)\n",
    "dof"
   ]
  },
  {
   "cell_type": "markdown",
   "metadata": {},
   "source": [
    "Our degrees of freedom is so large that we essentially have a normal distribution (smaller dof = larger tails in welchs)"
   ]
  },
  {
   "cell_type": "code",
   "execution_count": 159,
   "metadata": {},
   "outputs": [
    {
     "data": {
      "text/plain": [
       "Text(0.5, 1.0, \"Distribution of Welch's test statistic under null hypothesis\")"
      ]
     },
     "execution_count": 159,
     "metadata": {},
     "output_type": "execute_result"
    },
    {
     "data": {
      "image/png": "[encoded data removed]",
      "text/plain": [
       "<Figure size 432x288 with 1 Axes>"
      ]
     },
     "metadata": {},
     "output_type": "display_data"
    }
   ],
   "source": [
    "# Plot distribution of welchs\n",
    "x = np.linspace(-3, 3, 1000)\n",
    "students = stats.t(dof)\n",
    "\n",
    "fig, ax = plt.subplots()\n",
    "ax.plot(x, students.pdf(x))\n",
    "ax.set_title('Distribution of Welch\\'s test statistic under null hypothesis')"
   ]
  },
  {
   "cell_type": "code",
   "execution_count": 165,
   "metadata": {},
   "outputs": [
    {
     "data": {
      "text/plain": [
       "2.646105183073659e-35"
      ]
     },
     "execution_count": 165,
     "metadata": {},
     "output_type": "execute_result"
    }
   ],
   "source": [
    "# Now use our test statistic to calculate p-value under welchs distribution\n",
    "p_value = students.cdf(test_statistic) + (1 - students.cdf(-test_statistic))\n",
    "p_value"
   ]
  },
  {
   "cell_type": "markdown",
   "metadata": {},
   "source": [
    "P-value is very low, so we can conclude that the means of the two distributions are indeed different. But shouldn't how different matter?"
   ]
  },
  {
   "cell_type": "code",
   "execution_count": 176,
   "metadata": {},
   "outputs": [
    {
     "name": "stdout",
     "output_type": "stream",
     "text": [
      "10.695099111142397 0.0\n"
     ]
    }
   ],
   "source": [
    "# Is nv later than v? so test statistic should be positive\n",
    "# Note that if nv and v are switched, p value becomes 1\n",
    "t = welchs_test_statistic(nv_sample, v_sample)\n",
    "p_val = 1 - students.cdf(t)\n",
    "print(t, p_val)"
   ]
  },
  {
   "cell_type": "code",
   "execution_count": 192,
   "metadata": {},
   "outputs": [
    {
     "name": "stdout",
     "output_type": "stream",
     "text": [
      "Test statistic: 10.69, p_value: 0.000\n"
     ]
    }
   ],
   "source": [
    "# We can make this even easier on ourselves by using stats module\n",
    "test_statistic, p_value = stats.ttest_ind(nv_sample, v_sample, equal_var=False)\n",
    "print('Test statistic: {:2.2f}, p_value: {:2.3f}'.format(test_statistic, p_value))"
   ]
  },
  {
   "cell_type": "markdown",
   "metadata": {},
   "source": [
    "#### Conclusion: Non-violent crime on average occurs later than violent crime with a certainty of >99%. "
   ]
  },
  {
   "cell_type": "markdown",
   "metadata": {},
   "source": [
    "### Let's try same calculation, but with Rank Sums,which makes no assumptions about the distributions\n",
    "Using the Mann-Whitney U-test, which is alterantive to Welch's t-test where the two samples \"compete\" to see which is later/wins/etc"
   ]
  },
  {
   "cell_type": "code",
   "execution_count": 179,
   "metadata": {},
   "outputs": [],
   "source": [
    "def count_winning_pairs(sample1, sample2):\n",
    "    sample1, sample2 = np.array(sample1), np.array(sample2)\n",
    "    n_total_wins = 0\n",
    "    for x in sample1:\n",
    "        n_wins = np.sum(x > sample2) + 0.5*np.sum(x == sample2)\n",
    "        n_total_wins += n_wins\n",
    "    return n_total_wins"
   ]
  },
  {
   "cell_type": "code",
   "execution_count": 180,
   "metadata": {},
   "outputs": [
    {
     "name": "stdout",
     "output_type": "stream",
     "text": [
      "Number of times nv is later: 14003100.0\n",
      "Number of times v is later: 10996900.0\n"
     ]
    }
   ],
   "source": [
    "nv_later = count_winning_pairs(nv_sample, v_sample)\n",
    "v_later = count_winning_pairs(v_sample, nv_sample)\n",
    "print(f'Number of times nv is later: {nv_later}')\n",
    "print(f'Number of times v is later: {v_later}')"
   ]
  },
  {
   "cell_type": "code",
   "execution_count": 186,
   "metadata": {},
   "outputs": [
    {
     "data": {
      "text/plain": [
       "(1.0659671585554878e-25, 1.0)"
      ]
     },
     "execution_count": 186,
     "metadata": {},
     "output_type": "execute_result"
    }
   ],
   "source": [
    "# Now apply U test\n",
    "res1 = stats.mannwhitneyu(nv_sample, v_sample, alternative='greater')\n",
    "res2 = stats.mannwhitneyu(v_sample, nv_sample, alternative='greater')\n",
    "res1.pvalue, res2.pvalue"
   ]
  },
  {
   "cell_type": "markdown",
   "metadata": {},
   "source": [
    "### We can conclude that non-violent crime occurs later. This is way easier than Welchs t test"
   ]
  },
  {
   "cell_type": "markdown",
   "metadata": {},
   "source": [
    "## Let's try something trickier and more interesting\n",
    "The distributions clearly overlap by a large amount. Can we tell whether a particular crime is violent or non-violent based on the time it occured (obviously won't be able to just by looking at the distribution, but let's go through the math).\n",
    "\n",
    "Can we also assume that the # of crimes are uniformly distributed throughout the year and calculate the probability of seeing x crimes given the null?"
   ]
  },
  {
   "cell_type": "code",
   "execution_count": 206,
   "metadata": {},
   "outputs": [],
   "source": [
    "v_normal = stats.norm(np.mean(v_sample), np.sqrt(np.var(v_sample)))\n",
    "nv_normal = stats.norm(np.mean(nv_sample), np.sqrt(np.var(nv_sample)))"
   ]
  },
  {
   "cell_type": "code",
   "execution_count": 209,
   "metadata": {},
   "outputs": [
    {
     "data": {
      "text/plain": [
       "<matplotlib.legend.Legend at 0x7f4a5f6a8e50>"
      ]
     },
     "execution_count": 209,
     "metadata": {},
     "output_type": "execute_result"
    },
    {
     "data": {
      "image/png": "[encoded data removed]",
      "text/plain": [
       "<Figure size 432x288 with 1 Axes>"
      ]
     },
     "metadata": {},
     "output_type": "display_data"
    }
   ],
   "source": [
    "x = np.linspace(0,24,1000)\n",
    "\n",
    "fig, ax = plt.subplots()\n",
    "ax.plot(x, v_normal.pdf(x), label='violent')\n",
    "ax.plot(x, nv_normal.pdf(x), label='nonviolent')\n",
    "ax.legend()"
   ]
  },
  {
   "cell_type": "code",
   "execution_count": 211,
   "metadata": {},
   "outputs": [
    {
     "data": {
      "text/plain": [
       "(0.06102554050987427, 0.03911776155951636)"
      ]
     },
     "execution_count": 211,
     "metadata": {},
     "output_type": "execute_result"
    }
   ],
   "source": [
    "# Given crime happend at 10am, what is prob is occured from each distr?\n",
    "v_prob = v_normal.pdf(10)\n",
    "nv_prob = nv_normal.pdf(10)\n",
    "v_prob, nv_prob"
   ]
  },
  {
   "cell_type": "code",
   "execution_count": 3,
   "metadata": {},
   "outputs": [
    {
     "data": {
      "text/plain": [
       "21"
      ]
     },
     "execution_count": 3,
     "metadata": {},
     "output_type": "execute_result"
    }
   ],
   "source": [
    "x = '021'\n",
    "int(x)"
   ]
  },
  {
   "cell_type": "code",
   "execution_count": null,
   "metadata": {},
   "outputs": [],
   "source": []
  }
 ],
 "metadata": {
  "kernelspec": {
   "display_name": "Python 3",
   "language": "python",
   "name": "python3"
  },
  "language_info": {
   "codemirror_mode": {
    "name": "ipython",
    "version": 3
   },
   "file_extension": ".py",
   "mimetype": "text/x-python",
   "name": "python",
   "nbconvert_exporter": "python",
   "pygments_lexer": "ipython3",
   "version": "3.7.6"
  }
 },
 "nbformat": 4,
 "nbformat_minor": 4
}
