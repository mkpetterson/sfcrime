{
 "cells": [
  {
   "cell_type": "code",
   "execution_count": 80,
   "metadata": {},
   "outputs": [],
   "source": [
    "import numpy as np\n",
    "import pandas as pd\n",
    "import math\n",
    "import matplotlib.pyplot as plt\n",
    "import os\n",
    "\n",
    "#os.chdir('../')\n",
    "from src import helper\n",
    "\n",
    "plt.style.use('ggplot')"
   ]
  },
  {
   "cell_type": "markdown",
   "metadata": {},
   "source": [
    "## Hypothesis testing on SF Crime database\n",
    "\n",
    "In order to do hypothesis testing, we need Gaussian distributions. While our underlying distributions in the crime database are not Gaussian, we can take advantage of the CLT in order to test any hypothesis we can dream up. \n",
    "\n",
    "Hypothesis 1: There is more crime in the evening in some PD districts"
   ]
  },
  {
   "cell_type": "code",
   "execution_count": 42,
   "metadata": {},
   "outputs": [
    {
     "data": {
      "text/html": [
       "<div>\n",
       "<style scoped>\n",
       "    .dataframe tbody tr th:only-of-type {\n",
       "        vertical-align: middle;\n",
       "    }\n",
       "\n",
       "    .dataframe tbody tr th {\n",
       "        vertical-align: top;\n",
       "    }\n",
       "\n",
       "    .dataframe thead th {\n",
       "        text-align: right;\n",
       "    }\n",
       "</style>\n",
       "<table border=\"1\" class=\"dataframe\">\n",
       "  <thead>\n",
       "    <tr style=\"text-align: right;\">\n",
       "      <th></th>\n",
       "      <th>Category</th>\n",
       "      <th>Descript</th>\n",
       "      <th>DayOfWeek</th>\n",
       "      <th>Date</th>\n",
       "      <th>Time</th>\n",
       "      <th>PdDistrict</th>\n",
       "      <th>Resolution</th>\n",
       "      <th>Address</th>\n",
       "      <th>X</th>\n",
       "      <th>Y</th>\n",
       "    </tr>\n",
       "  </thead>\n",
       "  <tbody>\n",
       "    <tr>\n",
       "      <th>0</th>\n",
       "      <td>NON-CRIMINAL</td>\n",
       "      <td>AIDED CASE, MENTAL DISTURBED</td>\n",
       "      <td>Sunday</td>\n",
       "      <td>2003-09-07 00:00:00</td>\n",
       "      <td>2020-06-24 11:37:00</td>\n",
       "      <td>SOUTHERN</td>\n",
       "      <td>NONE</td>\n",
       "      <td>500 Block of I-80</td>\n",
       "      <td>-122.386667</td>\n",
       "      <td>37.789882</td>\n",
       "    </tr>\n",
       "    <tr>\n",
       "      <th>1</th>\n",
       "      <td>TRESPASS</td>\n",
       "      <td>TRESPASSING</td>\n",
       "      <td>Friday</td>\n",
       "      <td>2003-10-24 00:00:00</td>\n",
       "      <td>2020-06-24 20:15:00</td>\n",
       "      <td>SOUTHERN</td>\n",
       "      <td>NONE</td>\n",
       "      <td>800 Block of MARKET ST</td>\n",
       "      <td>-122.406691</td>\n",
       "      <td>37.785207</td>\n",
       "    </tr>\n",
       "    <tr>\n",
       "      <th>2</th>\n",
       "      <td>ASSAULT</td>\n",
       "      <td>THREATS AGAINST LIFE</td>\n",
       "      <td>Wednesday</td>\n",
       "      <td>2003-09-24 00:00:00</td>\n",
       "      <td>2020-06-24 12:15:00</td>\n",
       "      <td>PARK</td>\n",
       "      <td>NONE</td>\n",
       "      <td>1400 Block of PAGE ST</td>\n",
       "      <td>-122.444713</td>\n",
       "      <td>37.771302</td>\n",
       "    </tr>\n",
       "    <tr>\n",
       "      <th>3</th>\n",
       "      <td>ASSAULT</td>\n",
       "      <td>BATTERY</td>\n",
       "      <td>Wednesday</td>\n",
       "      <td>2003-02-26 00:00:00</td>\n",
       "      <td>2020-06-24 16:50:00</td>\n",
       "      <td>SOUTHERN</td>\n",
       "      <td>NONE</td>\n",
       "      <td>1400 Block of MARKET ST</td>\n",
       "      <td>-122.418481</td>\n",
       "      <td>37.775898</td>\n",
       "    </tr>\n",
       "    <tr>\n",
       "      <th>4</th>\n",
       "      <td>ASSAULT</td>\n",
       "      <td>BATTERY</td>\n",
       "      <td>Monday</td>\n",
       "      <td>2003-03-24 00:00:00</td>\n",
       "      <td>2020-06-24 20:08:00</td>\n",
       "      <td>BAYVIEW</td>\n",
       "      <td>ARREST, BOOKED</td>\n",
       "      <td>0 Block of APOLLO ST</td>\n",
       "      <td>-122.397783</td>\n",
       "      <td>37.732115</td>\n",
       "    </tr>\n",
       "  </tbody>\n",
       "</table>\n",
       "</div>"
      ],
      "text/plain": [
       "       Category                      Descript  DayOfWeek                 Date  \\\n",
       "0  NON-CRIMINAL  AIDED CASE, MENTAL DISTURBED     Sunday  2003-09-07 00:00:00   \n",
       "1      TRESPASS                   TRESPASSING     Friday  2003-10-24 00:00:00   \n",
       "2       ASSAULT          THREATS AGAINST LIFE  Wednesday  2003-09-24 00:00:00   \n",
       "3       ASSAULT                       BATTERY  Wednesday  2003-02-26 00:00:00   \n",
       "4       ASSAULT                       BATTERY     Monday  2003-03-24 00:00:00   \n",
       "\n",
       "                 Time PdDistrict      Resolution                  Address  \\\n",
       "0 2020-06-24 11:37:00   SOUTHERN            NONE        500 Block of I-80   \n",
       "1 2020-06-24 20:15:00   SOUTHERN            NONE   800 Block of MARKET ST   \n",
       "2 2020-06-24 12:15:00       PARK            NONE    1400 Block of PAGE ST   \n",
       "3 2020-06-24 16:50:00   SOUTHERN            NONE  1400 Block of MARKET ST   \n",
       "4 2020-06-24 20:08:00    BAYVIEW  ARREST, BOOKED     0 Block of APOLLO ST   \n",
       "\n",
       "            X          Y  \n",
       "0 -122.386667  37.789882  \n",
       "1 -122.406691  37.785207  \n",
       "2 -122.444713  37.771302  \n",
       "3 -122.418481  37.775898  \n",
       "4 -122.397783  37.732115  "
      ]
     },
     "execution_count": 42,
     "metadata": {},
     "output_type": "execute_result"
    }
   ],
   "source": [
    "## Load data\n",
    "data = pd.read_csv('data/2003.csv', parse_dates= ['Time'])\n",
    "data.head()\n",
    "\n",
    "# Drop that first column \n",
    "data = data.drop(columns='Unnamed: 0')\n",
    "\n",
    "data.head()"
   ]
  },
  {
   "cell_type": "code",
   "execution_count": 43,
   "metadata": {},
   "outputs": [
    {
     "data": {
      "text/plain": [
       "Timestamp('2020-06-24 11:37:00')"
      ]
     },
     "execution_count": 43,
     "metadata": {},
     "output_type": "execute_result"
    }
   ],
   "source": [
    "data['Time'][0]"
   ]
  },
  {
   "cell_type": "code",
   "execution_count": 48,
   "metadata": {},
   "outputs": [
    {
     "data": {
      "text/plain": [
       "<matplotlib.axes._subplots.AxesSubplot at 0x7f4a66780990>"
      ]
     },
     "execution_count": 48,
     "metadata": {},
     "output_type": "execute_result"
    },
    {
     "data": {
      "image/png": "[encoded data removed]",
      "text/plain": [
       "<Figure size 432x288 with 1 Axes>"
      ]
     },
     "metadata": {},
     "output_type": "display_data"
    }
   ],
   "source": [
    "## Look at crimetime, but first resample into hour timeslots\n",
    "#data['PdDistrict'].resample('H')\n",
    "data['Category'].groupby(data['Time'].dt.hour).count().plot(kind='bar')"
   ]
  },
  {
   "cell_type": "markdown",
   "metadata": {},
   "source": [
    "### Resampling and applying CLT\n",
    "- There are ~150k entries, so let's resample in batches of 100, take the mean, rinse, repeat 10000 times. "
   ]
  },
  {
   "cell_type": "code",
   "execution_count": 70,
   "metadata": {},
   "outputs": [
    {
     "data": {
      "text/plain": [
       "(32583   2020-06-24 01:00:00\n",
       " 21422   2020-06-24 19:00:00\n",
       " 46731   2020-06-24 12:30:00\n",
       " Name: Time, dtype: datetime64[ns],\n",
       " Timestamp('2020-06-24 10:50:00'))"
      ]
     },
     "execution_count": 70,
     "metadata": {},
     "output_type": "execute_result"
    }
   ],
   "source": [
    "# Testing mean of timeseries. Surprisingly, this works\n",
    "choice = np.random.choice(50000, 3)\n",
    "data['Time'][choice], np.mean(data['Time'][choice])"
   ]
  },
  {
   "cell_type": "code",
   "execution_count": 91,
   "metadata": {},
   "outputs": [],
   "source": [
    "def resample(df_series, n_samples=10, n_iterations=10000) -> pd.Series:\n",
    "    n_entries = len(df_series)\n",
    "    samples = []\n",
    "    \n",
    "    for n in range(n_iterations):\n",
    "        s = np.random.choice(n_entries, n_samples, replace=True)\n",
    "        samples.append(np.mean(df_series.iloc[s]))\n",
    "    \n",
    "    return samples    "
   ]
  },
  {
   "cell_type": "code",
   "execution_count": 97,
   "metadata": {},
   "outputs": [
    {
     "data": {
      "text/plain": [
       "(array([   7.,   38.,  226.,  583., 1090., 1309., 1057.,  528.,  139.,\n",
       "          23.]),\n",
       " array([737600.35871528, 737600.39980903, 737600.44090278, 737600.48199653,\n",
       "        737600.52309028, 737600.56418403, 737600.60527778, 737600.64637153,\n",
       "        737600.68746528, 737600.72855903, 737600.76965278]),\n",
       " <a list of 10 Patch objects>)"
      ]
     },
     "execution_count": 97,
     "metadata": {},
     "output_type": "execute_result"
    },
    {
     "data": {
      "image/png": "[encoded data removed]",
      "text/plain": [
       "<Figure size 432x288 with 1 Axes>"
      ]
     },
     "metadata": {},
     "output_type": "display_data"
    }
   ],
   "source": [
    "# Proof of concept works! Let's do some testing\n",
    "s = resample(data['Time'], 20, 5000)\n",
    "plt.hist(s)"
   ]
  },
  {
   "cell_type": "markdown",
   "metadata": {},
   "source": [
    "Let's create two different distributions corresponding to:\n",
    "1. PD District:<br>\n",
    "    H0: Crime in the Mission happens at the same time (within hour) than in the Ingleside<br>\n",
    "    H1: Crime in the Mission is offset by more than an hour relative to Ingleside\n",
    "2. Type of Crime: <br>\n",
    "    H0: Violent crime happens at the same time as non-violent crime<br>\n",
    "    H1: Violent crime is offset by an hour or more from other crime"
   ]
  },
  {
   "cell_type": "code",
   "execution_count": 81,
   "metadata": {},
   "outputs": [],
   "source": [
    "# Start with violent and non-violent crime\n",
    "v_df, nv_df = helper.violence(data)\n",
    "v_df.shape, nv_df.shape"
   ]
  },
  {
   "cell_type": "code",
   "execution_count": 90,
   "metadata": {},
   "outputs": [
    {
     "data": {
      "text/plain": [
       "0        2020-06-24 11:37:00\n",
       "1        2020-06-24 20:15:00\n",
       "6        2020-06-24 21:16:00\n",
       "7        2020-06-24 18:00:00\n",
       "8        2020-06-24 01:55:00\n",
       "                 ...        \n",
       "149169   2020-06-24 02:00:00\n",
       "149170   2020-06-24 12:00:00\n",
       "149171   2020-06-24 10:17:00\n",
       "149172   2020-06-24 15:24:00\n",
       "149175   2020-06-24 08:33:00\n",
       "Name: Time, Length: 131899, dtype: datetime64[ns]"
      ]
     },
     "execution_count": 90,
     "metadata": {},
     "output_type": "execute_result"
    }
   ],
   "source": [
    "nv_df['Time']"
   ]
  },
  {
   "cell_type": "code",
   "execution_count": 170,
   "metadata": {},
   "outputs": [
    {
     "data": {
      "text/plain": [
       "(13.195659999999998, 13.640920000000001, 4.566639164400001, 4.0995415536)"
      ]
     },
     "execution_count": 170,
     "metadata": {},
     "output_type": "execute_result"
    }
   ],
   "source": [
    "# Resample. Violence will end up being slightly oversampled https://machinelearningmastery.com/random-oversampling-and-undersampling-for-imbalanced-classification/\n",
    "n_samples = 10\n",
    "n_iterations = 5000 \n",
    "v_sample = resample(v_df['Time'].apply(lambda x: x.hour), \n",
    "                    n_samples, \n",
    "                    n_iterations)\n",
    "nv_sample = resample(nv_df['Time'].apply(lambda x: x.hour), \n",
    "                     n_samples, \n",
    "                     n_iterations)\n",
    "\n",
    "np.mean(v_sample), np.mean(nv_sample), np.var(v_sample), np.var(nv_sample)"
   ]
  },
  {
   "cell_type": "code",
   "execution_count": 169,
   "metadata": {},
   "outputs": [
    {
     "data": {
      "text/plain": [
       "<matplotlib.legend.Legend at 0x7f4a60047090>"
      ]
     },
     "execution_count": 169,
     "metadata": {},
     "output_type": "execute_result"
    },
    {
     "data": {
      "image/png": "[encoded data removed]",
      "text/plain": [
       "<Figure size 432x288 with 1 Axes>"
      ]
     },
     "metadata": {},
     "output_type": "display_data"
    }
   ],
   "source": [
    "fig, ax = plt.subplots()\n",
    "ax.hist(v_sample, alpha=0.5, label='violent')\n",
    "ax.hist(nv_sample, alpha=0.5, label='non-violent')\n",
    "ax.legend()"
   ]
  },
  {
   "cell_type": "markdown",
   "metadata": {},
   "source": [
    "Now get into the statistics with steps to compute hypothesis. We are testing the means of two distriubtions\n",
    "1. State null: mean of violent = mean of nonviolent. Alternative is that u1 is not equal to u2\n",
    "2. Chose out significance. Let's go with 0.05, or 95% confidence\n",
    "3. Analyze sample data: calc the standard error of sample data and the test statistic ((u1-u2)/SE)\n",
    "4. Calculate the p-value"
   ]
  },
  {
   "cell_type": "code",
   "execution_count": 144,
   "metadata": {},
   "outputs": [
    {
     "data": {
      "text/plain": [
       "<matplotlib.legend.Legend at 0x7f4a5fdc2a10>"
      ]
     },
     "execution_count": 144,
     "metadata": {},
     "output_type": "execute_result"
    },
    {
     "data": {
      "image/png": "[encoded data removed]",
      "text/plain": [
       "<Figure size 432x288 with 1 Axes>"
      ]
     },
     "metadata": {},
     "output_type": "display_data"
    }
   ],
   "source": [
    "# Null -> distribution of difference between the two is gaussian centered around 0\n",
    "import scipy.stats as stats\n",
    "shared_var = np.var(v_sample)/len(v_sample) + np.var(nv_sample)/len(nv_sample)\n",
    "null = stats.norm(0, np.sqrt(shared_var))\n",
    "\n",
    "# Plot null\n",
    "x = np.linspace(-1, 1, 2400)\n",
    "plt.plot(x, null.pdf(x), label='Shared Variance: {:2.5f}'.format(shared_var))\n",
    "plt.legend()"
   ]
  },
  {
   "cell_type": "code",
   "execution_count": 172,
   "metadata": {},
   "outputs": [],
   "source": [
    "# Define test statistic\n",
    "def standard_error(sample1, sample2):\n",
    "    term1 = np.var(sample1)/len(sample1)\n",
    "    term2 = np.var(sample2)/len(sample2)\n",
    "    return np.sqrt(term1 + term2)\n",
    "\n",
    "def welchs_test_statistic(sample1, sample2):\n",
    "    numerator = np.mean(sample1) - np.mean(sample2)\n",
    "    denominator = standard_error(sample1, sample2)\n",
    "    return numerator/denominator\n",
    "\n",
    "# Define degrees of freedom for welch's test\n",
    "def welchs_dof(sample1, sample2):\n",
    "    numerator = standard_error(sample1, sample2)**2\n",
    "    denom_t1 = (np.var(sample1)/len(sample1))**2/(len(sample1)-1)\n",
    "    denom_t2 = np.var(sample2)/len(sample2)**2/(len(sample2)-1)\n",
    "    return numerator/(denom_t1 + denom_t2)"
   ]
  },
  {
   "cell_type": "code",
   "execution_count": 173,
   "metadata": {},
   "outputs": [
    {
     "name": "stdout",
     "output_type": "stream",
     "text": [
      "Test statistic is -10.70\n"
     ]
    }
   ],
   "source": [
    "test_statistic = welchs_test_statistic(v_sample, nv_sample)\n",
    "print('Test statistic is {:2.2f}'.format(test_statistic))"
   ]
  },
  {
   "cell_type": "code",
   "execution_count": 157,
   "metadata": {},
   "outputs": [
    {
     "data": {
      "text/plain": [
       "8958245.022592671"
      ]
     },
     "execution_count": 157,
     "metadata": {},
     "output_type": "execute_result"
    }
   ],
   "source": [
    "dof = welchs_dof(v_sample, nv_sample)\n",
    "dof"
   ]
  },
  {
   "cell_type": "markdown",
   "metadata": {},
   "source": [
    "Our degrees of freedom is so large that we essentially have a normal distribution (smaller dof = larger tails in welchs)"
   ]
  },
  {
   "cell_type": "code",
   "execution_count": 159,
   "metadata": {},
   "outputs": [
    {
     "data": {
      "text/plain": [
       "Text(0.5, 1.0, \"Distribution of Welch's test statistic under null hypothesis\")"
      ]
     },
     "execution_count": 159,
     "metadata": {},
     "output_type": "execute_result"
    },
    {
     "data": {
      "image/png": "[encoded data removed]",
      "text/plain": [
       "<Figure size 432x288 with 1 Axes>"
      ]
     },
     "metadata": {},
     "output_type": "display_data"
    }
   ],
   "source": [
    "# Plot distribution of welchs\n",
    "x = np.linspace(-3, 3, 1000)\n",
    "students = stats.t(dof)\n",
    "\n",
    "fig, ax = plt.subplots()\n",
    "ax.plot(x, students.pdf(x))\n",
    "ax.set_title('Distribution of Welch\\'s test statistic under null hypothesis')"
   ]
  },
  {
   "cell_type": "code",
   "execution_count": 165,
   "metadata": {},
   "outputs": [
    {
     "data": {
      "text/plain": [
       "2.646105183073659e-35"
      ]
     },
     "execution_count": 165,
     "metadata": {},
     "output_type": "execute_result"
    }
   ],
   "source": [
    "# Now use our test statistic to calculate p-value under welchs distribution\n",
    "p_value = students.cdf(test_statistic) + (1 - students.cdf(-test_statistic))\n",
    "p_value"
   ]
  },
  {
   "cell_type": "markdown",
   "metadata": {},
   "source": [
    "P-value is very low, so we can conclude that the means of the two distributions are indeed different. But shouldn't how different matter?"
   ]
  },
  {
   "cell_type": "code",
   "execution_count": 176,
   "metadata": {},
   "outputs": [
    {
     "name": "stdout",
     "output_type": "stream",
     "text": [
      "10.695099111142397 0.0\n"
     ]
    }
   ],
   "source": [
    "# Is nv later than v? so test statistic should be positive\n",
    "# Note that if nv and v are switched, p value becomes 1\n",
    "t = welchs_test_statistic(nv_sample, v_sample)\n",
    "p_val = 1 - students.cdf(t)\n",
    "print(t, p_val)"
   ]
  },
  {
   "cell_type": "markdown",
   "metadata": {},
   "source": [
    "#### Conclusion: Non-violent crime on average occurs later than violent crime with a certainty of >99%. "
   ]
  },
  {
   "cell_type": "markdown",
   "metadata": {},
   "source": [
    "### Let's try same calculation, but with Rank Sums,which makes no assumptions about the distributions\n",
    "Using the Mann-Whitney U-test, which is alterantive to Welch's t-test where the two samples \"compete\" to see which is later/wins/etc"
   ]
  },
  {
   "cell_type": "code",
   "execution_count": 179,
   "metadata": {},
   "outputs": [],
   "source": [
    "def count_winning_pairs(sample1, sample2):\n",
    "    sample1, sample2 = np.array(sample1), np.array(sample2)\n",
    "    n_total_wins = 0\n",
    "    for x in sample1:\n",
    "        n_wins = np.sum(x > sample2) + 0.5*np.sum(x == sample2)\n",
    "        n_total_wins += n_wins\n",
    "    return n_total_wins"
   ]
  },
  {
   "cell_type": "code",
   "execution_count": 180,
   "metadata": {},
   "outputs": [
    {
     "name": "stdout",
     "output_type": "stream",
     "text": [
      "Number of times nv is later: 14003100.0\n",
      "Number of times v is later: 10996900.0\n"
     ]
    }
   ],
   "source": [
    "nv_later = count_winning_pairs(nv_sample, v_sample)\n",
    "v_later = count_winning_pairs(v_sample, nv_sample)\n",
    "print(f'Number of times nv is later: {nv_later}')\n",
    "print(f'Number of times v is later: {v_later}')"
   ]
  },
  {
   "cell_type": "code",
   "execution_count": 186,
   "metadata": {},
   "outputs": [
    {
     "data": {
      "text/plain": [
       "(1.0659671585554878e-25, 1.0)"
      ]
     },
     "execution_count": 186,
     "metadata": {},
     "output_type": "execute_result"
    }
   ],
   "source": [
    "# Now apply U test\n",
    "res1 = stats.mannwhitneyu(nv_sample, v_sample, alternative='greater')\n",
    "res2 = stats.mannwhitneyu(v_sample, nv_sample, alternative='greater')\n",
    "res1.pvalue, res2.pvalue"
   ]
  },
  {
   "cell_type": "markdown",
   "metadata": {},
   "source": [
    "### We can conclude that non-violent crime occurs later. This is way easier than Welchs t test"
   ]
  },
  {
   "cell_type": "code",
   "execution_count": 188,
   "metadata": {},
   "outputs": [],
   "source": [
    "## Let's try something trickier. Can we conclude that non-violent crime occurs 1 hour later"
   ]
  },
  {
   "cell_type": "code",
   "execution_count": null,
   "metadata": {},
   "outputs": [],
   "source": []
  }
 ],
 "metadata": {
  "kernelspec": {
   "display_name": "Python 3",
   "language": "python",
   "name": "python3"
  },
  "language_info": {
   "codemirror_mode": {
    "name": "ipython",
    "version": 3
   },
   "file_extension": ".py",
   "mimetype": "text/x-python",
   "name": "python",
   "nbconvert_exporter": "python",
   "pygments_lexer": "ipython3",
   "version": "3.7.6"
  }
 },
 "nbformat": 4,
 "nbformat_minor": 4
}
